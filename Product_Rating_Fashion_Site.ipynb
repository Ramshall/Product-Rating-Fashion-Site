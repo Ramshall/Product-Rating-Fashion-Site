{
  "nbformat": 4,
  "nbformat_minor": 0,
  "metadata": {
    "colab": {
      "name": "Product Rating Fashion Site",
      "provenance": [],
      "collapsed_sections": []
    },
    "kernelspec": {
      "display_name": "Python 3",
      "language": "python",
      "name": "python3"
    },
    "language_info": {
      "codemirror_mode": {
        "name": "ipython",
        "version": 3
      },
      "file_extension": ".py",
      "mimetype": "text/x-python",
      "name": "python",
      "nbconvert_exporter": "python",
      "pygments_lexer": "ipython3",
      "version": "3.7.7"
    }
  },
  "cells": [
    {
      "cell_type": "markdown",
      "metadata": {
        "id": "cWDijqRGKn8I"
      },
      "source": [
        "# CAPSTONE PROJECT - Product Rating Fashion Site"
      ]
    },
    {
      "cell_type": "markdown",
      "metadata": {
        "id": "UEnIzR1tlWhB"
      },
      "source": [
        "## 1. Connect Colab to Google Drive"
      ]
    },
    {
      "cell_type": "code",
      "metadata": {
        "id": "4Q2pgfwMlbRY",
        "colab": {
          "base_uri": "https://localhost:8080/"
        },
        "outputId": "e0645b1e-d4aa-44c2-fcf6-214155d9abfa"
      },
      "source": [
        "# Connect to Google Drive\n",
        "from google.colab import drive\n",
        "drive.mount('/content/gdrive')"
      ],
      "execution_count": 1,
      "outputs": [
        {
          "output_type": "stream",
          "name": "stdout",
          "text": [
            "Drive already mounted at /content/gdrive; to attempt to forcibly remount, call drive.mount(\"/content/gdrive\", force_remount=True).\n"
          ]
        }
      ]
    },
    {
      "cell_type": "code",
      "source": [
        "path_data = 'gdrive/MyDrive/DS+BI/Data with Narasio/Capstone/Project/'"
      ],
      "metadata": {
        "id": "zJAVmMeBlQp_"
      },
      "execution_count": 2,
      "outputs": []
    },
    {
      "cell_type": "markdown",
      "metadata": {
        "id": "M6YWX-NtKn8K"
      },
      "source": [
        "## 2. Import Packages"
      ]
    },
    {
      "cell_type": "code",
      "metadata": {
        "id": "MHUsnon5l5yo"
      },
      "source": [
        "#Import Packgaes\n",
        "import os\n",
        "import pandas as pd\n",
        "from datetime import datetime as dt\n",
        "import numpy as np\n",
        "import statistics\n",
        "from scipy.stats import chi2\n",
        "from matplotlib import patches\n",
        "import seaborn as sns\n",
        "import plotly.express as px\n",
        "import plotly.graph_objects as go\n",
        "import matplotlib.dates as md\n",
        "import matplotlib.pyplot as plt\n",
        "import sqlite3"
      ],
      "execution_count": 3,
      "outputs": []
    },
    {
      "cell_type": "markdown",
      "metadata": {
        "id": "TmfuYV3clcWk"
      },
      "source": [
        "## 3. Connect SQLite to Python"
      ]
    },
    {
      "cell_type": "code",
      "metadata": {
        "id": "v31KzqKnling"
      },
      "source": [
        "# Create connection to database\n",
        "conn = sqlite3.connect(path_data + \"product_fashion_ratings.db\")\n",
        "\n",
        "# Set sql server cursor\n",
        "cur = conn.cursor()"
      ],
      "execution_count": 4,
      "outputs": []
    },
    {
      "cell_type": "code",
      "metadata": {
        "id": "RjnGaIillubA",
        "colab": {
          "base_uri": "https://localhost:8080/"
        },
        "outputId": "5daf6805-ac16-4a55-85b2-cc2ab839801f"
      },
      "source": [
        "# Cek table yang berada di database\n",
        "cur.execute(\"SELECT name FROM sqlite_master WHERE type='table'\")\n",
        "print(cur.fetchall())"
      ],
      "execution_count": 5,
      "outputs": [
        {
          "output_type": "stream",
          "name": "stdout",
          "text": [
            "[('products',), ('brand_details',), ('main_categories',), ('sub_categories',), ('item_details',), ('events',)]\n"
          ]
        }
      ]
    },
    {
      "cell_type": "markdown",
      "metadata": {
        "id": "031LDaaFlk2t"
      },
      "source": [
        "## 4. Data Preparation Using SQL"
      ]
    },
    {
      "cell_type": "code",
      "source": [
        "# Check column and value in table producst\n",
        "pd.read_sql_query(\"SELECT * FROM products\", conn)"
      ],
      "metadata": {
        "colab": {
          "base_uri": "https://localhost:8080/",
          "height": 424
        },
        "id": "eOano5iMoG5P",
        "outputId": "a4b17a5f-ad3b-47ca-d4c1-f53fdc23ad47"
      },
      "execution_count": 6,
      "outputs": [
        {
          "output_type": "execute_result",
          "data": {
            "text/plain": [
              "       index  product_ID                                       product_name\n",
              "0          0           1  Chapeau à Visière Anti-UV pour Protection Solaire\n",
              "1          1           2  Écharpe longue 180cm à pois en broderie pour f...\n",
              "2          2           3  Casquette de baseball de sport en plein air de...\n",
              "3          3           4  Casquettes de Baseball Respirantes Unisexe Par...\n",
              "4          4           5  LYZA Femmes Châle Surdimensionné Réversible Po...\n",
              "...      ...         ...                                                ...\n",
              "13308  13308       13309             Sarouel décontracté à taille élastique\n",
              "13309  13309       13310       Blouses à demi-manches à imprimé asymétrique\n",
              "13310  13310       13311                      Robe deux pièces décontractée\n",
              "13311  13311       13312                  Oreilles à capuche Cartoon Hoodie\n",
              "13312  13312       13313             Chemisier décontracté Stringy Selvedge\n",
              "\n",
              "[13313 rows x 3 columns]"
            ],
            "text/html": [
              "\n",
              "  <div id=\"df-83463cd4-9a73-41cf-bfaa-869c1469c54e\">\n",
              "    <div class=\"colab-df-container\">\n",
              "      <div>\n",
              "<style scoped>\n",
              "    .dataframe tbody tr th:only-of-type {\n",
              "        vertical-align: middle;\n",
              "    }\n",
              "\n",
              "    .dataframe tbody tr th {\n",
              "        vertical-align: top;\n",
              "    }\n",
              "\n",
              "    .dataframe thead th {\n",
              "        text-align: right;\n",
              "    }\n",
              "</style>\n",
              "<table border=\"1\" class=\"dataframe\">\n",
              "  <thead>\n",
              "    <tr style=\"text-align: right;\">\n",
              "      <th></th>\n",
              "      <th>index</th>\n",
              "      <th>product_ID</th>\n",
              "      <th>product_name</th>\n",
              "    </tr>\n",
              "  </thead>\n",
              "  <tbody>\n",
              "    <tr>\n",
              "      <th>0</th>\n",
              "      <td>0</td>\n",
              "      <td>1</td>\n",
              "      <td>Chapeau à Visière Anti-UV pour Protection Solaire</td>\n",
              "    </tr>\n",
              "    <tr>\n",
              "      <th>1</th>\n",
              "      <td>1</td>\n",
              "      <td>2</td>\n",
              "      <td>Écharpe longue 180cm à pois en broderie pour f...</td>\n",
              "    </tr>\n",
              "    <tr>\n",
              "      <th>2</th>\n",
              "      <td>2</td>\n",
              "      <td>3</td>\n",
              "      <td>Casquette de baseball de sport en plein air de...</td>\n",
              "    </tr>\n",
              "    <tr>\n",
              "      <th>3</th>\n",
              "      <td>3</td>\n",
              "      <td>4</td>\n",
              "      <td>Casquettes de Baseball Respirantes Unisexe Par...</td>\n",
              "    </tr>\n",
              "    <tr>\n",
              "      <th>4</th>\n",
              "      <td>4</td>\n",
              "      <td>5</td>\n",
              "      <td>LYZA Femmes Châle Surdimensionné Réversible Po...</td>\n",
              "    </tr>\n",
              "    <tr>\n",
              "      <th>...</th>\n",
              "      <td>...</td>\n",
              "      <td>...</td>\n",
              "      <td>...</td>\n",
              "    </tr>\n",
              "    <tr>\n",
              "      <th>13308</th>\n",
              "      <td>13308</td>\n",
              "      <td>13309</td>\n",
              "      <td>Sarouel décontracté à taille élastique</td>\n",
              "    </tr>\n",
              "    <tr>\n",
              "      <th>13309</th>\n",
              "      <td>13309</td>\n",
              "      <td>13310</td>\n",
              "      <td>Blouses à demi-manches à imprimé asymétrique</td>\n",
              "    </tr>\n",
              "    <tr>\n",
              "      <th>13310</th>\n",
              "      <td>13310</td>\n",
              "      <td>13311</td>\n",
              "      <td>Robe deux pièces décontractée</td>\n",
              "    </tr>\n",
              "    <tr>\n",
              "      <th>13311</th>\n",
              "      <td>13311</td>\n",
              "      <td>13312</td>\n",
              "      <td>Oreilles à capuche Cartoon Hoodie</td>\n",
              "    </tr>\n",
              "    <tr>\n",
              "      <th>13312</th>\n",
              "      <td>13312</td>\n",
              "      <td>13313</td>\n",
              "      <td>Chemisier décontracté Stringy Selvedge</td>\n",
              "    </tr>\n",
              "  </tbody>\n",
              "</table>\n",
              "<p>13313 rows × 3 columns</p>\n",
              "</div>\n",
              "      <button class=\"colab-df-convert\" onclick=\"convertToInteractive('df-83463cd4-9a73-41cf-bfaa-869c1469c54e')\"\n",
              "              title=\"Convert this dataframe to an interactive table.\"\n",
              "              style=\"display:none;\">\n",
              "        \n",
              "  <svg xmlns=\"http://www.w3.org/2000/svg\" height=\"24px\"viewBox=\"0 0 24 24\"\n",
              "       width=\"24px\">\n",
              "    <path d=\"M0 0h24v24H0V0z\" fill=\"none\"/>\n",
              "    <path d=\"M18.56 5.44l.94 2.06.94-2.06 2.06-.94-2.06-.94-.94-2.06-.94 2.06-2.06.94zm-11 1L8.5 8.5l.94-2.06 2.06-.94-2.06-.94L8.5 2.5l-.94 2.06-2.06.94zm10 10l.94 2.06.94-2.06 2.06-.94-2.06-.94-.94-2.06-.94 2.06-2.06.94z\"/><path d=\"M17.41 7.96l-1.37-1.37c-.4-.4-.92-.59-1.43-.59-.52 0-1.04.2-1.43.59L10.3 9.45l-7.72 7.72c-.78.78-.78 2.05 0 2.83L4 21.41c.39.39.9.59 1.41.59.51 0 1.02-.2 1.41-.59l7.78-7.78 2.81-2.81c.8-.78.8-2.07 0-2.86zM5.41 20L4 18.59l7.72-7.72 1.47 1.35L5.41 20z\"/>\n",
              "  </svg>\n",
              "      </button>\n",
              "      \n",
              "  <style>\n",
              "    .colab-df-container {\n",
              "      display:flex;\n",
              "      flex-wrap:wrap;\n",
              "      gap: 12px;\n",
              "    }\n",
              "\n",
              "    .colab-df-convert {\n",
              "      background-color: #E8F0FE;\n",
              "      border: none;\n",
              "      border-radius: 50%;\n",
              "      cursor: pointer;\n",
              "      display: none;\n",
              "      fill: #1967D2;\n",
              "      height: 32px;\n",
              "      padding: 0 0 0 0;\n",
              "      width: 32px;\n",
              "    }\n",
              "\n",
              "    .colab-df-convert:hover {\n",
              "      background-color: #E2EBFA;\n",
              "      box-shadow: 0px 1px 2px rgba(60, 64, 67, 0.3), 0px 1px 3px 1px rgba(60, 64, 67, 0.15);\n",
              "      fill: #174EA6;\n",
              "    }\n",
              "\n",
              "    [theme=dark] .colab-df-convert {\n",
              "      background-color: #3B4455;\n",
              "      fill: #D2E3FC;\n",
              "    }\n",
              "\n",
              "    [theme=dark] .colab-df-convert:hover {\n",
              "      background-color: #434B5C;\n",
              "      box-shadow: 0px 1px 3px 1px rgba(0, 0, 0, 0.15);\n",
              "      filter: drop-shadow(0px 1px 2px rgba(0, 0, 0, 0.3));\n",
              "      fill: #FFFFFF;\n",
              "    }\n",
              "  </style>\n",
              "\n",
              "      <script>\n",
              "        const buttonEl =\n",
              "          document.querySelector('#df-83463cd4-9a73-41cf-bfaa-869c1469c54e button.colab-df-convert');\n",
              "        buttonEl.style.display =\n",
              "          google.colab.kernel.accessAllowed ? 'block' : 'none';\n",
              "\n",
              "        async function convertToInteractive(key) {\n",
              "          const element = document.querySelector('#df-83463cd4-9a73-41cf-bfaa-869c1469c54e');\n",
              "          const dataTable =\n",
              "            await google.colab.kernel.invokeFunction('convertToInteractive',\n",
              "                                                     [key], {});\n",
              "          if (!dataTable) return;\n",
              "\n",
              "          const docLinkHtml = 'Like what you see? Visit the ' +\n",
              "            '<a target=\"_blank\" href=https://colab.research.google.com/notebooks/data_table.ipynb>data table notebook</a>'\n",
              "            + ' to learn more about interactive tables.';\n",
              "          element.innerHTML = '';\n",
              "          dataTable['output_type'] = 'display_data';\n",
              "          await google.colab.output.renderOutput(dataTable, element);\n",
              "          const docLink = document.createElement('div');\n",
              "          docLink.innerHTML = docLinkHtml;\n",
              "          element.appendChild(docLink);\n",
              "        }\n",
              "      </script>\n",
              "    </div>\n",
              "  </div>\n",
              "  "
            ]
          },
          "metadata": {},
          "execution_count": 6
        }
      ]
    },
    {
      "cell_type": "code",
      "source": [
        "# Check column and value in table brand details\n",
        "pd.read_sql_query(\"SELECT * FROM brand_details\", conn)"
      ],
      "metadata": {
        "colab": {
          "base_uri": "https://localhost:8080/",
          "height": 424
        },
        "id": "6urO0W-movo3",
        "outputId": "685ee372-c7d9-45da-ccbf-3fa2631b2d70"
      },
      "execution_count": 7,
      "outputs": [
        {
          "output_type": "execute_result",
          "data": {
            "text/plain": [
              "     index  brand_ID  brand_name  \\\n",
              "0        0         1    Socofy-1   \n",
              "1        1         2  MEANBEAUTY   \n",
              "2        2         3      NUZADA   \n",
              "3        3         4        LYZA   \n",
              "4        4         5        duni   \n",
              "..     ...       ...         ...   \n",
              "414    414       415       BIMEI   \n",
              "415    415       416   Veri Gude   \n",
              "416    416       417    MC CLAYN   \n",
              "417    417       418   DAISSIONI   \n",
              "418    418       419        FRMZ   \n",
              "\n",
              "                                             brand_url  \n",
              "0                                                 None  \n",
              "1    https://fr.newchic.com/meanbeauty-brand-1436.html  \n",
              "2        https://fr.newchic.com/nuzada-brand-1434.html  \n",
              "3          https://fr.newchic.com/lyza-brand-1148.html  \n",
              "4          https://fr.newchic.com/duni-brand-1396.html  \n",
              "..                                                 ...  \n",
              "414       https://fr.newchic.com/bimei-brand-1721.html  \n",
              "415   https://fr.newchic.com/veri-gude-brand-1216.html  \n",
              "416    https://fr.newchic.com/mc-clayn-brand-1147.html  \n",
              "417   https://fr.newchic.com/daissioni-brand-1128.html  \n",
              "418        https://fr.newchic.com/frmz-brand-1103.html  \n",
              "\n",
              "[419 rows x 4 columns]"
            ],
            "text/html": [
              "\n",
              "  <div id=\"df-e5637d0c-5b64-4862-89db-28e06e4228e7\">\n",
              "    <div class=\"colab-df-container\">\n",
              "      <div>\n",
              "<style scoped>\n",
              "    .dataframe tbody tr th:only-of-type {\n",
              "        vertical-align: middle;\n",
              "    }\n",
              "\n",
              "    .dataframe tbody tr th {\n",
              "        vertical-align: top;\n",
              "    }\n",
              "\n",
              "    .dataframe thead th {\n",
              "        text-align: right;\n",
              "    }\n",
              "</style>\n",
              "<table border=\"1\" class=\"dataframe\">\n",
              "  <thead>\n",
              "    <tr style=\"text-align: right;\">\n",
              "      <th></th>\n",
              "      <th>index</th>\n",
              "      <th>brand_ID</th>\n",
              "      <th>brand_name</th>\n",
              "      <th>brand_url</th>\n",
              "    </tr>\n",
              "  </thead>\n",
              "  <tbody>\n",
              "    <tr>\n",
              "      <th>0</th>\n",
              "      <td>0</td>\n",
              "      <td>1</td>\n",
              "      <td>Socofy-1</td>\n",
              "      <td>None</td>\n",
              "    </tr>\n",
              "    <tr>\n",
              "      <th>1</th>\n",
              "      <td>1</td>\n",
              "      <td>2</td>\n",
              "      <td>MEANBEAUTY</td>\n",
              "      <td>https://fr.newchic.com/meanbeauty-brand-1436.html</td>\n",
              "    </tr>\n",
              "    <tr>\n",
              "      <th>2</th>\n",
              "      <td>2</td>\n",
              "      <td>3</td>\n",
              "      <td>NUZADA</td>\n",
              "      <td>https://fr.newchic.com/nuzada-brand-1434.html</td>\n",
              "    </tr>\n",
              "    <tr>\n",
              "      <th>3</th>\n",
              "      <td>3</td>\n",
              "      <td>4</td>\n",
              "      <td>LYZA</td>\n",
              "      <td>https://fr.newchic.com/lyza-brand-1148.html</td>\n",
              "    </tr>\n",
              "    <tr>\n",
              "      <th>4</th>\n",
              "      <td>4</td>\n",
              "      <td>5</td>\n",
              "      <td>duni</td>\n",
              "      <td>https://fr.newchic.com/duni-brand-1396.html</td>\n",
              "    </tr>\n",
              "    <tr>\n",
              "      <th>...</th>\n",
              "      <td>...</td>\n",
              "      <td>...</td>\n",
              "      <td>...</td>\n",
              "      <td>...</td>\n",
              "    </tr>\n",
              "    <tr>\n",
              "      <th>414</th>\n",
              "      <td>414</td>\n",
              "      <td>415</td>\n",
              "      <td>BIMEI</td>\n",
              "      <td>https://fr.newchic.com/bimei-brand-1721.html</td>\n",
              "    </tr>\n",
              "    <tr>\n",
              "      <th>415</th>\n",
              "      <td>415</td>\n",
              "      <td>416</td>\n",
              "      <td>Veri Gude</td>\n",
              "      <td>https://fr.newchic.com/veri-gude-brand-1216.html</td>\n",
              "    </tr>\n",
              "    <tr>\n",
              "      <th>416</th>\n",
              "      <td>416</td>\n",
              "      <td>417</td>\n",
              "      <td>MC CLAYN</td>\n",
              "      <td>https://fr.newchic.com/mc-clayn-brand-1147.html</td>\n",
              "    </tr>\n",
              "    <tr>\n",
              "      <th>417</th>\n",
              "      <td>417</td>\n",
              "      <td>418</td>\n",
              "      <td>DAISSIONI</td>\n",
              "      <td>https://fr.newchic.com/daissioni-brand-1128.html</td>\n",
              "    </tr>\n",
              "    <tr>\n",
              "      <th>418</th>\n",
              "      <td>418</td>\n",
              "      <td>419</td>\n",
              "      <td>FRMZ</td>\n",
              "      <td>https://fr.newchic.com/frmz-brand-1103.html</td>\n",
              "    </tr>\n",
              "  </tbody>\n",
              "</table>\n",
              "<p>419 rows × 4 columns</p>\n",
              "</div>\n",
              "      <button class=\"colab-df-convert\" onclick=\"convertToInteractive('df-e5637d0c-5b64-4862-89db-28e06e4228e7')\"\n",
              "              title=\"Convert this dataframe to an interactive table.\"\n",
              "              style=\"display:none;\">\n",
              "        \n",
              "  <svg xmlns=\"http://www.w3.org/2000/svg\" height=\"24px\"viewBox=\"0 0 24 24\"\n",
              "       width=\"24px\">\n",
              "    <path d=\"M0 0h24v24H0V0z\" fill=\"none\"/>\n",
              "    <path d=\"M18.56 5.44l.94 2.06.94-2.06 2.06-.94-2.06-.94-.94-2.06-.94 2.06-2.06.94zm-11 1L8.5 8.5l.94-2.06 2.06-.94-2.06-.94L8.5 2.5l-.94 2.06-2.06.94zm10 10l.94 2.06.94-2.06 2.06-.94-2.06-.94-.94-2.06-.94 2.06-2.06.94z\"/><path d=\"M17.41 7.96l-1.37-1.37c-.4-.4-.92-.59-1.43-.59-.52 0-1.04.2-1.43.59L10.3 9.45l-7.72 7.72c-.78.78-.78 2.05 0 2.83L4 21.41c.39.39.9.59 1.41.59.51 0 1.02-.2 1.41-.59l7.78-7.78 2.81-2.81c.8-.78.8-2.07 0-2.86zM5.41 20L4 18.59l7.72-7.72 1.47 1.35L5.41 20z\"/>\n",
              "  </svg>\n",
              "      </button>\n",
              "      \n",
              "  <style>\n",
              "    .colab-df-container {\n",
              "      display:flex;\n",
              "      flex-wrap:wrap;\n",
              "      gap: 12px;\n",
              "    }\n",
              "\n",
              "    .colab-df-convert {\n",
              "      background-color: #E8F0FE;\n",
              "      border: none;\n",
              "      border-radius: 50%;\n",
              "      cursor: pointer;\n",
              "      display: none;\n",
              "      fill: #1967D2;\n",
              "      height: 32px;\n",
              "      padding: 0 0 0 0;\n",
              "      width: 32px;\n",
              "    }\n",
              "\n",
              "    .colab-df-convert:hover {\n",
              "      background-color: #E2EBFA;\n",
              "      box-shadow: 0px 1px 2px rgba(60, 64, 67, 0.3), 0px 1px 3px 1px rgba(60, 64, 67, 0.15);\n",
              "      fill: #174EA6;\n",
              "    }\n",
              "\n",
              "    [theme=dark] .colab-df-convert {\n",
              "      background-color: #3B4455;\n",
              "      fill: #D2E3FC;\n",
              "    }\n",
              "\n",
              "    [theme=dark] .colab-df-convert:hover {\n",
              "      background-color: #434B5C;\n",
              "      box-shadow: 0px 1px 3px 1px rgba(0, 0, 0, 0.15);\n",
              "      filter: drop-shadow(0px 1px 2px rgba(0, 0, 0, 0.3));\n",
              "      fill: #FFFFFF;\n",
              "    }\n",
              "  </style>\n",
              "\n",
              "      <script>\n",
              "        const buttonEl =\n",
              "          document.querySelector('#df-e5637d0c-5b64-4862-89db-28e06e4228e7 button.colab-df-convert');\n",
              "        buttonEl.style.display =\n",
              "          google.colab.kernel.accessAllowed ? 'block' : 'none';\n",
              "\n",
              "        async function convertToInteractive(key) {\n",
              "          const element = document.querySelector('#df-e5637d0c-5b64-4862-89db-28e06e4228e7');\n",
              "          const dataTable =\n",
              "            await google.colab.kernel.invokeFunction('convertToInteractive',\n",
              "                                                     [key], {});\n",
              "          if (!dataTable) return;\n",
              "\n",
              "          const docLinkHtml = 'Like what you see? Visit the ' +\n",
              "            '<a target=\"_blank\" href=https://colab.research.google.com/notebooks/data_table.ipynb>data table notebook</a>'\n",
              "            + ' to learn more about interactive tables.';\n",
              "          element.innerHTML = '';\n",
              "          dataTable['output_type'] = 'display_data';\n",
              "          await google.colab.output.renderOutput(dataTable, element);\n",
              "          const docLink = document.createElement('div');\n",
              "          docLink.innerHTML = docLinkHtml;\n",
              "          element.appendChild(docLink);\n",
              "        }\n",
              "      </script>\n",
              "    </div>\n",
              "  </div>\n",
              "  "
            ]
          },
          "metadata": {},
          "execution_count": 7
        }
      ]
    },
    {
      "cell_type": "code",
      "source": [
        "# Create and check column and value in table main categories\n",
        "pd.read_sql_query(\"SELECT * FROM main_categories\", conn)"
      ],
      "metadata": {
        "colab": {
          "base_uri": "https://localhost:8080/",
          "height": 332
        },
        "id": "_yt66gv6o6tN",
        "outputId": "28aa9216-c925-4564-ea51-af25b2ea2b36"
      },
      "execution_count": 8,
      "outputs": [
        {
          "output_type": "execute_result",
          "data": {
            "text/plain": [
              "   index  category_ID category_name\n",
              "0      0            1   accessories\n",
              "1      1            2          bags\n",
              "2      2            3        beauty\n",
              "3      3            4         house\n",
              "4      4            5       jewelry\n",
              "5      5            6          kids\n",
              "6      6            7           men\n",
              "7      7            8         shoes\n",
              "8      8            9         women"
            ],
            "text/html": [
              "\n",
              "  <div id=\"df-6e9f197b-b153-418a-9496-85c3ef39af27\">\n",
              "    <div class=\"colab-df-container\">\n",
              "      <div>\n",
              "<style scoped>\n",
              "    .dataframe tbody tr th:only-of-type {\n",
              "        vertical-align: middle;\n",
              "    }\n",
              "\n",
              "    .dataframe tbody tr th {\n",
              "        vertical-align: top;\n",
              "    }\n",
              "\n",
              "    .dataframe thead th {\n",
              "        text-align: right;\n",
              "    }\n",
              "</style>\n",
              "<table border=\"1\" class=\"dataframe\">\n",
              "  <thead>\n",
              "    <tr style=\"text-align: right;\">\n",
              "      <th></th>\n",
              "      <th>index</th>\n",
              "      <th>category_ID</th>\n",
              "      <th>category_name</th>\n",
              "    </tr>\n",
              "  </thead>\n",
              "  <tbody>\n",
              "    <tr>\n",
              "      <th>0</th>\n",
              "      <td>0</td>\n",
              "      <td>1</td>\n",
              "      <td>accessories</td>\n",
              "    </tr>\n",
              "    <tr>\n",
              "      <th>1</th>\n",
              "      <td>1</td>\n",
              "      <td>2</td>\n",
              "      <td>bags</td>\n",
              "    </tr>\n",
              "    <tr>\n",
              "      <th>2</th>\n",
              "      <td>2</td>\n",
              "      <td>3</td>\n",
              "      <td>beauty</td>\n",
              "    </tr>\n",
              "    <tr>\n",
              "      <th>3</th>\n",
              "      <td>3</td>\n",
              "      <td>4</td>\n",
              "      <td>house</td>\n",
              "    </tr>\n",
              "    <tr>\n",
              "      <th>4</th>\n",
              "      <td>4</td>\n",
              "      <td>5</td>\n",
              "      <td>jewelry</td>\n",
              "    </tr>\n",
              "    <tr>\n",
              "      <th>5</th>\n",
              "      <td>5</td>\n",
              "      <td>6</td>\n",
              "      <td>kids</td>\n",
              "    </tr>\n",
              "    <tr>\n",
              "      <th>6</th>\n",
              "      <td>6</td>\n",
              "      <td>7</td>\n",
              "      <td>men</td>\n",
              "    </tr>\n",
              "    <tr>\n",
              "      <th>7</th>\n",
              "      <td>7</td>\n",
              "      <td>8</td>\n",
              "      <td>shoes</td>\n",
              "    </tr>\n",
              "    <tr>\n",
              "      <th>8</th>\n",
              "      <td>8</td>\n",
              "      <td>9</td>\n",
              "      <td>women</td>\n",
              "    </tr>\n",
              "  </tbody>\n",
              "</table>\n",
              "</div>\n",
              "      <button class=\"colab-df-convert\" onclick=\"convertToInteractive('df-6e9f197b-b153-418a-9496-85c3ef39af27')\"\n",
              "              title=\"Convert this dataframe to an interactive table.\"\n",
              "              style=\"display:none;\">\n",
              "        \n",
              "  <svg xmlns=\"http://www.w3.org/2000/svg\" height=\"24px\"viewBox=\"0 0 24 24\"\n",
              "       width=\"24px\">\n",
              "    <path d=\"M0 0h24v24H0V0z\" fill=\"none\"/>\n",
              "    <path d=\"M18.56 5.44l.94 2.06.94-2.06 2.06-.94-2.06-.94-.94-2.06-.94 2.06-2.06.94zm-11 1L8.5 8.5l.94-2.06 2.06-.94-2.06-.94L8.5 2.5l-.94 2.06-2.06.94zm10 10l.94 2.06.94-2.06 2.06-.94-2.06-.94-.94-2.06-.94 2.06-2.06.94z\"/><path d=\"M17.41 7.96l-1.37-1.37c-.4-.4-.92-.59-1.43-.59-.52 0-1.04.2-1.43.59L10.3 9.45l-7.72 7.72c-.78.78-.78 2.05 0 2.83L4 21.41c.39.39.9.59 1.41.59.51 0 1.02-.2 1.41-.59l7.78-7.78 2.81-2.81c.8-.78.8-2.07 0-2.86zM5.41 20L4 18.59l7.72-7.72 1.47 1.35L5.41 20z\"/>\n",
              "  </svg>\n",
              "      </button>\n",
              "      \n",
              "  <style>\n",
              "    .colab-df-container {\n",
              "      display:flex;\n",
              "      flex-wrap:wrap;\n",
              "      gap: 12px;\n",
              "    }\n",
              "\n",
              "    .colab-df-convert {\n",
              "      background-color: #E8F0FE;\n",
              "      border: none;\n",
              "      border-radius: 50%;\n",
              "      cursor: pointer;\n",
              "      display: none;\n",
              "      fill: #1967D2;\n",
              "      height: 32px;\n",
              "      padding: 0 0 0 0;\n",
              "      width: 32px;\n",
              "    }\n",
              "\n",
              "    .colab-df-convert:hover {\n",
              "      background-color: #E2EBFA;\n",
              "      box-shadow: 0px 1px 2px rgba(60, 64, 67, 0.3), 0px 1px 3px 1px rgba(60, 64, 67, 0.15);\n",
              "      fill: #174EA6;\n",
              "    }\n",
              "\n",
              "    [theme=dark] .colab-df-convert {\n",
              "      background-color: #3B4455;\n",
              "      fill: #D2E3FC;\n",
              "    }\n",
              "\n",
              "    [theme=dark] .colab-df-convert:hover {\n",
              "      background-color: #434B5C;\n",
              "      box-shadow: 0px 1px 3px 1px rgba(0, 0, 0, 0.15);\n",
              "      filter: drop-shadow(0px 1px 2px rgba(0, 0, 0, 0.3));\n",
              "      fill: #FFFFFF;\n",
              "    }\n",
              "  </style>\n",
              "\n",
              "      <script>\n",
              "        const buttonEl =\n",
              "          document.querySelector('#df-6e9f197b-b153-418a-9496-85c3ef39af27 button.colab-df-convert');\n",
              "        buttonEl.style.display =\n",
              "          google.colab.kernel.accessAllowed ? 'block' : 'none';\n",
              "\n",
              "        async function convertToInteractive(key) {\n",
              "          const element = document.querySelector('#df-6e9f197b-b153-418a-9496-85c3ef39af27');\n",
              "          const dataTable =\n",
              "            await google.colab.kernel.invokeFunction('convertToInteractive',\n",
              "                                                     [key], {});\n",
              "          if (!dataTable) return;\n",
              "\n",
              "          const docLinkHtml = 'Like what you see? Visit the ' +\n",
              "            '<a target=\"_blank\" href=https://colab.research.google.com/notebooks/data_table.ipynb>data table notebook</a>'\n",
              "            + ' to learn more about interactive tables.';\n",
              "          element.innerHTML = '';\n",
              "          dataTable['output_type'] = 'display_data';\n",
              "          await google.colab.output.renderOutput(dataTable, element);\n",
              "          const docLink = document.createElement('div');\n",
              "          docLink.innerHTML = docLinkHtml;\n",
              "          element.appendChild(docLink);\n",
              "        }\n",
              "      </script>\n",
              "    </div>\n",
              "  </div>\n",
              "  "
            ]
          },
          "metadata": {},
          "execution_count": 8
        }
      ]
    },
    {
      "cell_type": "code",
      "source": [
        "# Create and check column and value in table sub categories\n",
        "pd.read_sql_query(\"SELECT * FROM sub_categories \", conn)"
      ],
      "metadata": {
        "colab": {
          "base_uri": "https://localhost:8080/",
          "height": 424
        },
        "id": "T0xmze6npDXw",
        "outputId": "1f264cdb-50e4-4cc9-bd05-3d50a7916676"
      },
      "execution_count": 9,
      "outputs": [
        {
          "output_type": "execute_result",
          "data": {
            "text/plain": [
              "     index  subcategory_ID         subcategory_name\n",
              "0        0               1      Écriture & Peinture\n",
              "1        1               2                Épilateur\n",
              "2        2               3                  Éponges\n",
              "3        3               4           Étui & Étagère\n",
              "4        4               5  Étui & Sac des monnaies\n",
              "..     ...             ...                      ...\n",
              "446    446             447           Wine Decanters\n",
              "447    447             448             Wine Glasses\n",
              "448    448             449               Wine Racks\n",
              "449    449             450            Wine Stoppers\n",
              "450    450             451               Zinc Alloy\n",
              "\n",
              "[451 rows x 3 columns]"
            ],
            "text/html": [
              "\n",
              "  <div id=\"df-26f7f9c6-63e5-4165-bf16-76a69b5486e2\">\n",
              "    <div class=\"colab-df-container\">\n",
              "      <div>\n",
              "<style scoped>\n",
              "    .dataframe tbody tr th:only-of-type {\n",
              "        vertical-align: middle;\n",
              "    }\n",
              "\n",
              "    .dataframe tbody tr th {\n",
              "        vertical-align: top;\n",
              "    }\n",
              "\n",
              "    .dataframe thead th {\n",
              "        text-align: right;\n",
              "    }\n",
              "</style>\n",
              "<table border=\"1\" class=\"dataframe\">\n",
              "  <thead>\n",
              "    <tr style=\"text-align: right;\">\n",
              "      <th></th>\n",
              "      <th>index</th>\n",
              "      <th>subcategory_ID</th>\n",
              "      <th>subcategory_name</th>\n",
              "    </tr>\n",
              "  </thead>\n",
              "  <tbody>\n",
              "    <tr>\n",
              "      <th>0</th>\n",
              "      <td>0</td>\n",
              "      <td>1</td>\n",
              "      <td>Écriture &amp; Peinture</td>\n",
              "    </tr>\n",
              "    <tr>\n",
              "      <th>1</th>\n",
              "      <td>1</td>\n",
              "      <td>2</td>\n",
              "      <td>Épilateur</td>\n",
              "    </tr>\n",
              "    <tr>\n",
              "      <th>2</th>\n",
              "      <td>2</td>\n",
              "      <td>3</td>\n",
              "      <td>Éponges</td>\n",
              "    </tr>\n",
              "    <tr>\n",
              "      <th>3</th>\n",
              "      <td>3</td>\n",
              "      <td>4</td>\n",
              "      <td>Étui &amp; Étagère</td>\n",
              "    </tr>\n",
              "    <tr>\n",
              "      <th>4</th>\n",
              "      <td>4</td>\n",
              "      <td>5</td>\n",
              "      <td>Étui &amp; Sac des monnaies</td>\n",
              "    </tr>\n",
              "    <tr>\n",
              "      <th>...</th>\n",
              "      <td>...</td>\n",
              "      <td>...</td>\n",
              "      <td>...</td>\n",
              "    </tr>\n",
              "    <tr>\n",
              "      <th>446</th>\n",
              "      <td>446</td>\n",
              "      <td>447</td>\n",
              "      <td>Wine Decanters</td>\n",
              "    </tr>\n",
              "    <tr>\n",
              "      <th>447</th>\n",
              "      <td>447</td>\n",
              "      <td>448</td>\n",
              "      <td>Wine Glasses</td>\n",
              "    </tr>\n",
              "    <tr>\n",
              "      <th>448</th>\n",
              "      <td>448</td>\n",
              "      <td>449</td>\n",
              "      <td>Wine Racks</td>\n",
              "    </tr>\n",
              "    <tr>\n",
              "      <th>449</th>\n",
              "      <td>449</td>\n",
              "      <td>450</td>\n",
              "      <td>Wine Stoppers</td>\n",
              "    </tr>\n",
              "    <tr>\n",
              "      <th>450</th>\n",
              "      <td>450</td>\n",
              "      <td>451</td>\n",
              "      <td>Zinc Alloy</td>\n",
              "    </tr>\n",
              "  </tbody>\n",
              "</table>\n",
              "<p>451 rows × 3 columns</p>\n",
              "</div>\n",
              "      <button class=\"colab-df-convert\" onclick=\"convertToInteractive('df-26f7f9c6-63e5-4165-bf16-76a69b5486e2')\"\n",
              "              title=\"Convert this dataframe to an interactive table.\"\n",
              "              style=\"display:none;\">\n",
              "        \n",
              "  <svg xmlns=\"http://www.w3.org/2000/svg\" height=\"24px\"viewBox=\"0 0 24 24\"\n",
              "       width=\"24px\">\n",
              "    <path d=\"M0 0h24v24H0V0z\" fill=\"none\"/>\n",
              "    <path d=\"M18.56 5.44l.94 2.06.94-2.06 2.06-.94-2.06-.94-.94-2.06-.94 2.06-2.06.94zm-11 1L8.5 8.5l.94-2.06 2.06-.94-2.06-.94L8.5 2.5l-.94 2.06-2.06.94zm10 10l.94 2.06.94-2.06 2.06-.94-2.06-.94-.94-2.06-.94 2.06-2.06.94z\"/><path d=\"M17.41 7.96l-1.37-1.37c-.4-.4-.92-.59-1.43-.59-.52 0-1.04.2-1.43.59L10.3 9.45l-7.72 7.72c-.78.78-.78 2.05 0 2.83L4 21.41c.39.39.9.59 1.41.59.51 0 1.02-.2 1.41-.59l7.78-7.78 2.81-2.81c.8-.78.8-2.07 0-2.86zM5.41 20L4 18.59l7.72-7.72 1.47 1.35L5.41 20z\"/>\n",
              "  </svg>\n",
              "      </button>\n",
              "      \n",
              "  <style>\n",
              "    .colab-df-container {\n",
              "      display:flex;\n",
              "      flex-wrap:wrap;\n",
              "      gap: 12px;\n",
              "    }\n",
              "\n",
              "    .colab-df-convert {\n",
              "      background-color: #E8F0FE;\n",
              "      border: none;\n",
              "      border-radius: 50%;\n",
              "      cursor: pointer;\n",
              "      display: none;\n",
              "      fill: #1967D2;\n",
              "      height: 32px;\n",
              "      padding: 0 0 0 0;\n",
              "      width: 32px;\n",
              "    }\n",
              "\n",
              "    .colab-df-convert:hover {\n",
              "      background-color: #E2EBFA;\n",
              "      box-shadow: 0px 1px 2px rgba(60, 64, 67, 0.3), 0px 1px 3px 1px rgba(60, 64, 67, 0.15);\n",
              "      fill: #174EA6;\n",
              "    }\n",
              "\n",
              "    [theme=dark] .colab-df-convert {\n",
              "      background-color: #3B4455;\n",
              "      fill: #D2E3FC;\n",
              "    }\n",
              "\n",
              "    [theme=dark] .colab-df-convert:hover {\n",
              "      background-color: #434B5C;\n",
              "      box-shadow: 0px 1px 3px 1px rgba(0, 0, 0, 0.15);\n",
              "      filter: drop-shadow(0px 1px 2px rgba(0, 0, 0, 0.3));\n",
              "      fill: #FFFFFF;\n",
              "    }\n",
              "  </style>\n",
              "\n",
              "      <script>\n",
              "        const buttonEl =\n",
              "          document.querySelector('#df-26f7f9c6-63e5-4165-bf16-76a69b5486e2 button.colab-df-convert');\n",
              "        buttonEl.style.display =\n",
              "          google.colab.kernel.accessAllowed ? 'block' : 'none';\n",
              "\n",
              "        async function convertToInteractive(key) {\n",
              "          const element = document.querySelector('#df-26f7f9c6-63e5-4165-bf16-76a69b5486e2');\n",
              "          const dataTable =\n",
              "            await google.colab.kernel.invokeFunction('convertToInteractive',\n",
              "                                                     [key], {});\n",
              "          if (!dataTable) return;\n",
              "\n",
              "          const docLinkHtml = 'Like what you see? Visit the ' +\n",
              "            '<a target=\"_blank\" href=https://colab.research.google.com/notebooks/data_table.ipynb>data table notebook</a>'\n",
              "            + ' to learn more about interactive tables.';\n",
              "          element.innerHTML = '';\n",
              "          dataTable['output_type'] = 'display_data';\n",
              "          await google.colab.output.renderOutput(dataTable, element);\n",
              "          const docLink = document.createElement('div');\n",
              "          docLink.innerHTML = docLinkHtml;\n",
              "          element.appendChild(docLink);\n",
              "        }\n",
              "      </script>\n",
              "    </div>\n",
              "  </div>\n",
              "  "
            ]
          },
          "metadata": {},
          "execution_count": 9
        }
      ]
    },
    {
      "cell_type": "code",
      "source": [
        "# Create and check column and value in table item details\n",
        "pd.read_sql_query(\"SELECT * FROM item_details\", conn)\n"
      ],
      "metadata": {
        "colab": {
          "base_uri": "https://localhost:8080/",
          "height": 424
        },
        "id": "A6a9nBknpUfJ",
        "outputId": "6b521380-f36c-4e6a-8a52-9bad7b95bc80"
      },
      "execution_count": 10,
      "outputs": [
        {
          "output_type": "execute_result",
          "data": {
            "text/plain": [
              "       index  item_ID  product_ID variation_0_color variation_1_color\n",
              "0          0        1           1         Bleu ciel              Gris\n",
              "1          1        2           2       armée verte              Bleu\n",
              "2          2        3           3                #1                #2\n",
              "3          3        4           4             rouge              Bleu\n",
              "4          4        5           5              Rose              Bleu\n",
              "...      ...      ...         ...               ...               ...\n",
              "13984  13984    13985       13309       armée verte              kaki\n",
              "13985  13985    13986       13310              Noir             blanc\n",
              "13986  13986    13987       13311             Green            Yellow\n",
              "13987  13987    13988       13312              Pink              Navy\n",
              "13988  13988    13989       13313              Blue              None\n",
              "\n",
              "[13989 rows x 5 columns]"
            ],
            "text/html": [
              "\n",
              "  <div id=\"df-f4d43358-3662-49f6-bef7-f263b84b6327\">\n",
              "    <div class=\"colab-df-container\">\n",
              "      <div>\n",
              "<style scoped>\n",
              "    .dataframe tbody tr th:only-of-type {\n",
              "        vertical-align: middle;\n",
              "    }\n",
              "\n",
              "    .dataframe tbody tr th {\n",
              "        vertical-align: top;\n",
              "    }\n",
              "\n",
              "    .dataframe thead th {\n",
              "        text-align: right;\n",
              "    }\n",
              "</style>\n",
              "<table border=\"1\" class=\"dataframe\">\n",
              "  <thead>\n",
              "    <tr style=\"text-align: right;\">\n",
              "      <th></th>\n",
              "      <th>index</th>\n",
              "      <th>item_ID</th>\n",
              "      <th>product_ID</th>\n",
              "      <th>variation_0_color</th>\n",
              "      <th>variation_1_color</th>\n",
              "    </tr>\n",
              "  </thead>\n",
              "  <tbody>\n",
              "    <tr>\n",
              "      <th>0</th>\n",
              "      <td>0</td>\n",
              "      <td>1</td>\n",
              "      <td>1</td>\n",
              "      <td>Bleu ciel</td>\n",
              "      <td>Gris</td>\n",
              "    </tr>\n",
              "    <tr>\n",
              "      <th>1</th>\n",
              "      <td>1</td>\n",
              "      <td>2</td>\n",
              "      <td>2</td>\n",
              "      <td>armée verte</td>\n",
              "      <td>Bleu</td>\n",
              "    </tr>\n",
              "    <tr>\n",
              "      <th>2</th>\n",
              "      <td>2</td>\n",
              "      <td>3</td>\n",
              "      <td>3</td>\n",
              "      <td>#1</td>\n",
              "      <td>#2</td>\n",
              "    </tr>\n",
              "    <tr>\n",
              "      <th>3</th>\n",
              "      <td>3</td>\n",
              "      <td>4</td>\n",
              "      <td>4</td>\n",
              "      <td>rouge</td>\n",
              "      <td>Bleu</td>\n",
              "    </tr>\n",
              "    <tr>\n",
              "      <th>4</th>\n",
              "      <td>4</td>\n",
              "      <td>5</td>\n",
              "      <td>5</td>\n",
              "      <td>Rose</td>\n",
              "      <td>Bleu</td>\n",
              "    </tr>\n",
              "    <tr>\n",
              "      <th>...</th>\n",
              "      <td>...</td>\n",
              "      <td>...</td>\n",
              "      <td>...</td>\n",
              "      <td>...</td>\n",
              "      <td>...</td>\n",
              "    </tr>\n",
              "    <tr>\n",
              "      <th>13984</th>\n",
              "      <td>13984</td>\n",
              "      <td>13985</td>\n",
              "      <td>13309</td>\n",
              "      <td>armée verte</td>\n",
              "      <td>kaki</td>\n",
              "    </tr>\n",
              "    <tr>\n",
              "      <th>13985</th>\n",
              "      <td>13985</td>\n",
              "      <td>13986</td>\n",
              "      <td>13310</td>\n",
              "      <td>Noir</td>\n",
              "      <td>blanc</td>\n",
              "    </tr>\n",
              "    <tr>\n",
              "      <th>13986</th>\n",
              "      <td>13986</td>\n",
              "      <td>13987</td>\n",
              "      <td>13311</td>\n",
              "      <td>Green</td>\n",
              "      <td>Yellow</td>\n",
              "    </tr>\n",
              "    <tr>\n",
              "      <th>13987</th>\n",
              "      <td>13987</td>\n",
              "      <td>13988</td>\n",
              "      <td>13312</td>\n",
              "      <td>Pink</td>\n",
              "      <td>Navy</td>\n",
              "    </tr>\n",
              "    <tr>\n",
              "      <th>13988</th>\n",
              "      <td>13988</td>\n",
              "      <td>13989</td>\n",
              "      <td>13313</td>\n",
              "      <td>Blue</td>\n",
              "      <td>None</td>\n",
              "    </tr>\n",
              "  </tbody>\n",
              "</table>\n",
              "<p>13989 rows × 5 columns</p>\n",
              "</div>\n",
              "      <button class=\"colab-df-convert\" onclick=\"convertToInteractive('df-f4d43358-3662-49f6-bef7-f263b84b6327')\"\n",
              "              title=\"Convert this dataframe to an interactive table.\"\n",
              "              style=\"display:none;\">\n",
              "        \n",
              "  <svg xmlns=\"http://www.w3.org/2000/svg\" height=\"24px\"viewBox=\"0 0 24 24\"\n",
              "       width=\"24px\">\n",
              "    <path d=\"M0 0h24v24H0V0z\" fill=\"none\"/>\n",
              "    <path d=\"M18.56 5.44l.94 2.06.94-2.06 2.06-.94-2.06-.94-.94-2.06-.94 2.06-2.06.94zm-11 1L8.5 8.5l.94-2.06 2.06-.94-2.06-.94L8.5 2.5l-.94 2.06-2.06.94zm10 10l.94 2.06.94-2.06 2.06-.94-2.06-.94-.94-2.06-.94 2.06-2.06.94z\"/><path d=\"M17.41 7.96l-1.37-1.37c-.4-.4-.92-.59-1.43-.59-.52 0-1.04.2-1.43.59L10.3 9.45l-7.72 7.72c-.78.78-.78 2.05 0 2.83L4 21.41c.39.39.9.59 1.41.59.51 0 1.02-.2 1.41-.59l7.78-7.78 2.81-2.81c.8-.78.8-2.07 0-2.86zM5.41 20L4 18.59l7.72-7.72 1.47 1.35L5.41 20z\"/>\n",
              "  </svg>\n",
              "      </button>\n",
              "      \n",
              "  <style>\n",
              "    .colab-df-container {\n",
              "      display:flex;\n",
              "      flex-wrap:wrap;\n",
              "      gap: 12px;\n",
              "    }\n",
              "\n",
              "    .colab-df-convert {\n",
              "      background-color: #E8F0FE;\n",
              "      border: none;\n",
              "      border-radius: 50%;\n",
              "      cursor: pointer;\n",
              "      display: none;\n",
              "      fill: #1967D2;\n",
              "      height: 32px;\n",
              "      padding: 0 0 0 0;\n",
              "      width: 32px;\n",
              "    }\n",
              "\n",
              "    .colab-df-convert:hover {\n",
              "      background-color: #E2EBFA;\n",
              "      box-shadow: 0px 1px 2px rgba(60, 64, 67, 0.3), 0px 1px 3px 1px rgba(60, 64, 67, 0.15);\n",
              "      fill: #174EA6;\n",
              "    }\n",
              "\n",
              "    [theme=dark] .colab-df-convert {\n",
              "      background-color: #3B4455;\n",
              "      fill: #D2E3FC;\n",
              "    }\n",
              "\n",
              "    [theme=dark] .colab-df-convert:hover {\n",
              "      background-color: #434B5C;\n",
              "      box-shadow: 0px 1px 3px 1px rgba(0, 0, 0, 0.15);\n",
              "      filter: drop-shadow(0px 1px 2px rgba(0, 0, 0, 0.3));\n",
              "      fill: #FFFFFF;\n",
              "    }\n",
              "  </style>\n",
              "\n",
              "      <script>\n",
              "        const buttonEl =\n",
              "          document.querySelector('#df-f4d43358-3662-49f6-bef7-f263b84b6327 button.colab-df-convert');\n",
              "        buttonEl.style.display =\n",
              "          google.colab.kernel.accessAllowed ? 'block' : 'none';\n",
              "\n",
              "        async function convertToInteractive(key) {\n",
              "          const element = document.querySelector('#df-f4d43358-3662-49f6-bef7-f263b84b6327');\n",
              "          const dataTable =\n",
              "            await google.colab.kernel.invokeFunction('convertToInteractive',\n",
              "                                                     [key], {});\n",
              "          if (!dataTable) return;\n",
              "\n",
              "          const docLinkHtml = 'Like what you see? Visit the ' +\n",
              "            '<a target=\"_blank\" href=https://colab.research.google.com/notebooks/data_table.ipynb>data table notebook</a>'\n",
              "            + ' to learn more about interactive tables.';\n",
              "          element.innerHTML = '';\n",
              "          dataTable['output_type'] = 'display_data';\n",
              "          await google.colab.output.renderOutput(dataTable, element);\n",
              "          const docLink = document.createElement('div');\n",
              "          docLink.innerHTML = docLinkHtml;\n",
              "          element.appendChild(docLink);\n",
              "        }\n",
              "      </script>\n",
              "    </div>\n",
              "  </div>\n",
              "  "
            ]
          },
          "metadata": {},
          "execution_count": 10
        }
      ]
    },
    {
      "cell_type": "code",
      "source": [
        "pd.read_sql_query(\"\"\"\n",
        "                  SELECT\n",
        "                  *\n",
        "                  FROM events \"\"\", conn)"
      ],
      "metadata": {
        "colab": {
          "base_uri": "https://localhost:8080/",
          "height": 641
        },
        "id": "rBO_al-aFJGq",
        "outputId": "13e7a183-4148-43d6-de9b-0353e4564eea"
      },
      "execution_count": 11,
      "outputs": [
        {
          "output_type": "execute_result",
          "data": {
            "text/plain": [
              "       index       ID        sku  \\\n",
              "0          0    27788  SKU585926   \n",
              "1          1    42560  SKU028546   \n",
              "2          2    45211  SKU031964   \n",
              "3          3    48169  SKU037769   \n",
              "4          4    51841  SKU039460   \n",
              "...      ...      ...        ...   \n",
              "14156  14156  1723915  SKUF75050   \n",
              "14157  14157  1723920  SKUF74844   \n",
              "14158  14158  1723924  SKUF74850   \n",
              "14159  14159  1723927  SKUF76422   \n",
              "14160  14160  1724666  SKUF92118   \n",
              "\n",
              "                                               image_url  \\\n",
              "0      https://imgaz1.chiccdn.com/thumb/view/oaupload...   \n",
              "1      https://imgaz1.chiccdn.com/thumb/view/oaupload...   \n",
              "2      https://imgaz1.chiccdn.com/thumb/view/oaupload...   \n",
              "3      https://imgaz1.chiccdn.com/thumb/view/oaupload...   \n",
              "4      https://imgaz1.chiccdn.com/thumb/view/oaupload...   \n",
              "...                                                  ...   \n",
              "14156  https://imgaz1.chiccdn.com/thumb/view/oaupload...   \n",
              "14157  https://imgaz1.chiccdn.com/thumb/view/oaupload...   \n",
              "14158  https://imgaz1.chiccdn.com/thumb/view/oaupload...   \n",
              "14159  https://imgaz1.chiccdn.com/thumb/view/oaupload...   \n",
              "14160  https://imgaz1.chiccdn.com/thumb/view/oaupload...   \n",
              "\n",
              "                                                url_area  product_ID  \\\n",
              "0      https://fr.newchic.com/loskii-wall-art-4619/p-...        4636   \n",
              "1      https://fr.newchic.com/plus-size-blouses-and-s...        9862   \n",
              "2      https://fr.newchic.com/beon-vehicle-supplies-5...        3620   \n",
              "3      https://fr.newchic.com/y-f-m-face-care-tools-5...        1144   \n",
              "4      https://fr.newchic.com/t-shirts-3666/p-51841.html        9315   \n",
              "...                                                  ...         ...   \n",
              "14156  https://fr.newchic.com/socofy-womens-slippers-...        8824   \n",
              "14157  https://fr.newchic.com/socofy-womens-slippers-...        8835   \n",
              "14158  https://fr.newchic.com/socofy-womens-slippers-...        8836   \n",
              "14159  https://fr.newchic.com/lostisy-flats-3615/p-17...        8798   \n",
              "14160  https://fr.newchic.com/camel-sneakersandathlet...        7719   \n",
              "\n",
              "       brand_ID  category_ID  subcategory_ID  item_ID current_price  \\\n",
              "0           120            4              21     4677     21.48 USD   \n",
              "1           396            9              98    10372     22.99 USD   \n",
              "2           246            4             232     3658      1.59 USD   \n",
              "3            73            3              10     1168     19.03 USD   \n",
              "4           396            9             427     9761     21.99 USD   \n",
              "...         ...          ...             ...      ...           ...   \n",
              "14156        20            8             101     9143     29.99 USD   \n",
              "14157        20            8             101     9154     32.99 USD   \n",
              "14158        20            8             101     9155     32.99 USD   \n",
              "14159       378            8             142     9117     29.99 USD   \n",
              "14160       384            8              41     7982     98.99 USD   \n",
              "\n",
              "       perc.discount  likes_count  is_new         codCountry  \n",
              "0               42.0          285       0  ID,MY,PH,SG,TH,VN  \n",
              "1               65.0          147       0  ID,MY,PH,SG,TH,VN  \n",
              "2               58.0            1       0  ID,MY,PH,SG,TH,VN  \n",
              "3               43.0          500       0  ID,MY,PH,SG,TH,VN  \n",
              "4                0.0          251       0  ID,MY,PH,SG,TH,VN  \n",
              "...              ...          ...     ...                ...  \n",
              "14156           55.0            2       1  ID,MY,PH,SG,TH,VN  \n",
              "14157           53.0            2       1  ID,MY,PH,SG,TH,VN  \n",
              "14158           50.0            1       1  ID,MY,PH,SG,TH,VN  \n",
              "14159           50.0            2       1  ID,MY,PH,SG,TH,VN  \n",
              "14160           55.0            0       1                 VN  \n",
              "\n",
              "[14161 rows x 15 columns]"
            ],
            "text/html": [
              "\n",
              "  <div id=\"df-fc7d26c0-563b-487f-a459-b6ee911a4962\">\n",
              "    <div class=\"colab-df-container\">\n",
              "      <div>\n",
              "<style scoped>\n",
              "    .dataframe tbody tr th:only-of-type {\n",
              "        vertical-align: middle;\n",
              "    }\n",
              "\n",
              "    .dataframe tbody tr th {\n",
              "        vertical-align: top;\n",
              "    }\n",
              "\n",
              "    .dataframe thead th {\n",
              "        text-align: right;\n",
              "    }\n",
              "</style>\n",
              "<table border=\"1\" class=\"dataframe\">\n",
              "  <thead>\n",
              "    <tr style=\"text-align: right;\">\n",
              "      <th></th>\n",
              "      <th>index</th>\n",
              "      <th>ID</th>\n",
              "      <th>sku</th>\n",
              "      <th>image_url</th>\n",
              "      <th>url_area</th>\n",
              "      <th>product_ID</th>\n",
              "      <th>brand_ID</th>\n",
              "      <th>category_ID</th>\n",
              "      <th>subcategory_ID</th>\n",
              "      <th>item_ID</th>\n",
              "      <th>current_price</th>\n",
              "      <th>perc.discount</th>\n",
              "      <th>likes_count</th>\n",
              "      <th>is_new</th>\n",
              "      <th>codCountry</th>\n",
              "    </tr>\n",
              "  </thead>\n",
              "  <tbody>\n",
              "    <tr>\n",
              "      <th>0</th>\n",
              "      <td>0</td>\n",
              "      <td>27788</td>\n",
              "      <td>SKU585926</td>\n",
              "      <td>https://imgaz1.chiccdn.com/thumb/view/oaupload...</td>\n",
              "      <td>https://fr.newchic.com/loskii-wall-art-4619/p-...</td>\n",
              "      <td>4636</td>\n",
              "      <td>120</td>\n",
              "      <td>4</td>\n",
              "      <td>21</td>\n",
              "      <td>4677</td>\n",
              "      <td>21.48 USD</td>\n",
              "      <td>42.0</td>\n",
              "      <td>285</td>\n",
              "      <td>0</td>\n",
              "      <td>ID,MY,PH,SG,TH,VN</td>\n",
              "    </tr>\n",
              "    <tr>\n",
              "      <th>1</th>\n",
              "      <td>1</td>\n",
              "      <td>42560</td>\n",
              "      <td>SKU028546</td>\n",
              "      <td>https://imgaz1.chiccdn.com/thumb/view/oaupload...</td>\n",
              "      <td>https://fr.newchic.com/plus-size-blouses-and-s...</td>\n",
              "      <td>9862</td>\n",
              "      <td>396</td>\n",
              "      <td>9</td>\n",
              "      <td>98</td>\n",
              "      <td>10372</td>\n",
              "      <td>22.99 USD</td>\n",
              "      <td>65.0</td>\n",
              "      <td>147</td>\n",
              "      <td>0</td>\n",
              "      <td>ID,MY,PH,SG,TH,VN</td>\n",
              "    </tr>\n",
              "    <tr>\n",
              "      <th>2</th>\n",
              "      <td>2</td>\n",
              "      <td>45211</td>\n",
              "      <td>SKU031964</td>\n",
              "      <td>https://imgaz1.chiccdn.com/thumb/view/oaupload...</td>\n",
              "      <td>https://fr.newchic.com/beon-vehicle-supplies-5...</td>\n",
              "      <td>3620</td>\n",
              "      <td>246</td>\n",
              "      <td>4</td>\n",
              "      <td>232</td>\n",
              "      <td>3658</td>\n",
              "      <td>1.59 USD</td>\n",
              "      <td>58.0</td>\n",
              "      <td>1</td>\n",
              "      <td>0</td>\n",
              "      <td>ID,MY,PH,SG,TH,VN</td>\n",
              "    </tr>\n",
              "    <tr>\n",
              "      <th>3</th>\n",
              "      <td>3</td>\n",
              "      <td>48169</td>\n",
              "      <td>SKU037769</td>\n",
              "      <td>https://imgaz1.chiccdn.com/thumb/view/oaupload...</td>\n",
              "      <td>https://fr.newchic.com/y-f-m-face-care-tools-5...</td>\n",
              "      <td>1144</td>\n",
              "      <td>73</td>\n",
              "      <td>3</td>\n",
              "      <td>10</td>\n",
              "      <td>1168</td>\n",
              "      <td>19.03 USD</td>\n",
              "      <td>43.0</td>\n",
              "      <td>500</td>\n",
              "      <td>0</td>\n",
              "      <td>ID,MY,PH,SG,TH,VN</td>\n",
              "    </tr>\n",
              "    <tr>\n",
              "      <th>4</th>\n",
              "      <td>4</td>\n",
              "      <td>51841</td>\n",
              "      <td>SKU039460</td>\n",
              "      <td>https://imgaz1.chiccdn.com/thumb/view/oaupload...</td>\n",
              "      <td>https://fr.newchic.com/t-shirts-3666/p-51841.html</td>\n",
              "      <td>9315</td>\n",
              "      <td>396</td>\n",
              "      <td>9</td>\n",
              "      <td>427</td>\n",
              "      <td>9761</td>\n",
              "      <td>21.99 USD</td>\n",
              "      <td>0.0</td>\n",
              "      <td>251</td>\n",
              "      <td>0</td>\n",
              "      <td>ID,MY,PH,SG,TH,VN</td>\n",
              "    </tr>\n",
              "    <tr>\n",
              "      <th>...</th>\n",
              "      <td>...</td>\n",
              "      <td>...</td>\n",
              "      <td>...</td>\n",
              "      <td>...</td>\n",
              "      <td>...</td>\n",
              "      <td>...</td>\n",
              "      <td>...</td>\n",
              "      <td>...</td>\n",
              "      <td>...</td>\n",
              "      <td>...</td>\n",
              "      <td>...</td>\n",
              "      <td>...</td>\n",
              "      <td>...</td>\n",
              "      <td>...</td>\n",
              "      <td>...</td>\n",
              "    </tr>\n",
              "    <tr>\n",
              "      <th>14156</th>\n",
              "      <td>14156</td>\n",
              "      <td>1723915</td>\n",
              "      <td>SKUF75050</td>\n",
              "      <td>https://imgaz1.chiccdn.com/thumb/view/oaupload...</td>\n",
              "      <td>https://fr.newchic.com/socofy-womens-slippers-...</td>\n",
              "      <td>8824</td>\n",
              "      <td>20</td>\n",
              "      <td>8</td>\n",
              "      <td>101</td>\n",
              "      <td>9143</td>\n",
              "      <td>29.99 USD</td>\n",
              "      <td>55.0</td>\n",
              "      <td>2</td>\n",
              "      <td>1</td>\n",
              "      <td>ID,MY,PH,SG,TH,VN</td>\n",
              "    </tr>\n",
              "    <tr>\n",
              "      <th>14157</th>\n",
              "      <td>14157</td>\n",
              "      <td>1723920</td>\n",
              "      <td>SKUF74844</td>\n",
              "      <td>https://imgaz1.chiccdn.com/thumb/view/oaupload...</td>\n",
              "      <td>https://fr.newchic.com/socofy-womens-slippers-...</td>\n",
              "      <td>8835</td>\n",
              "      <td>20</td>\n",
              "      <td>8</td>\n",
              "      <td>101</td>\n",
              "      <td>9154</td>\n",
              "      <td>32.99 USD</td>\n",
              "      <td>53.0</td>\n",
              "      <td>2</td>\n",
              "      <td>1</td>\n",
              "      <td>ID,MY,PH,SG,TH,VN</td>\n",
              "    </tr>\n",
              "    <tr>\n",
              "      <th>14158</th>\n",
              "      <td>14158</td>\n",
              "      <td>1723924</td>\n",
              "      <td>SKUF74850</td>\n",
              "      <td>https://imgaz1.chiccdn.com/thumb/view/oaupload...</td>\n",
              "      <td>https://fr.newchic.com/socofy-womens-slippers-...</td>\n",
              "      <td>8836</td>\n",
              "      <td>20</td>\n",
              "      <td>8</td>\n",
              "      <td>101</td>\n",
              "      <td>9155</td>\n",
              "      <td>32.99 USD</td>\n",
              "      <td>50.0</td>\n",
              "      <td>1</td>\n",
              "      <td>1</td>\n",
              "      <td>ID,MY,PH,SG,TH,VN</td>\n",
              "    </tr>\n",
              "    <tr>\n",
              "      <th>14159</th>\n",
              "      <td>14159</td>\n",
              "      <td>1723927</td>\n",
              "      <td>SKUF76422</td>\n",
              "      <td>https://imgaz1.chiccdn.com/thumb/view/oaupload...</td>\n",
              "      <td>https://fr.newchic.com/lostisy-flats-3615/p-17...</td>\n",
              "      <td>8798</td>\n",
              "      <td>378</td>\n",
              "      <td>8</td>\n",
              "      <td>142</td>\n",
              "      <td>9117</td>\n",
              "      <td>29.99 USD</td>\n",
              "      <td>50.0</td>\n",
              "      <td>2</td>\n",
              "      <td>1</td>\n",
              "      <td>ID,MY,PH,SG,TH,VN</td>\n",
              "    </tr>\n",
              "    <tr>\n",
              "      <th>14160</th>\n",
              "      <td>14160</td>\n",
              "      <td>1724666</td>\n",
              "      <td>SKUF92118</td>\n",
              "      <td>https://imgaz1.chiccdn.com/thumb/view/oaupload...</td>\n",
              "      <td>https://fr.newchic.com/camel-sneakersandathlet...</td>\n",
              "      <td>7719</td>\n",
              "      <td>384</td>\n",
              "      <td>8</td>\n",
              "      <td>41</td>\n",
              "      <td>7982</td>\n",
              "      <td>98.99 USD</td>\n",
              "      <td>55.0</td>\n",
              "      <td>0</td>\n",
              "      <td>1</td>\n",
              "      <td>VN</td>\n",
              "    </tr>\n",
              "  </tbody>\n",
              "</table>\n",
              "<p>14161 rows × 15 columns</p>\n",
              "</div>\n",
              "      <button class=\"colab-df-convert\" onclick=\"convertToInteractive('df-fc7d26c0-563b-487f-a459-b6ee911a4962')\"\n",
              "              title=\"Convert this dataframe to an interactive table.\"\n",
              "              style=\"display:none;\">\n",
              "        \n",
              "  <svg xmlns=\"http://www.w3.org/2000/svg\" height=\"24px\"viewBox=\"0 0 24 24\"\n",
              "       width=\"24px\">\n",
              "    <path d=\"M0 0h24v24H0V0z\" fill=\"none\"/>\n",
              "    <path d=\"M18.56 5.44l.94 2.06.94-2.06 2.06-.94-2.06-.94-.94-2.06-.94 2.06-2.06.94zm-11 1L8.5 8.5l.94-2.06 2.06-.94-2.06-.94L8.5 2.5l-.94 2.06-2.06.94zm10 10l.94 2.06.94-2.06 2.06-.94-2.06-.94-.94-2.06-.94 2.06-2.06.94z\"/><path d=\"M17.41 7.96l-1.37-1.37c-.4-.4-.92-.59-1.43-.59-.52 0-1.04.2-1.43.59L10.3 9.45l-7.72 7.72c-.78.78-.78 2.05 0 2.83L4 21.41c.39.39.9.59 1.41.59.51 0 1.02-.2 1.41-.59l7.78-7.78 2.81-2.81c.8-.78.8-2.07 0-2.86zM5.41 20L4 18.59l7.72-7.72 1.47 1.35L5.41 20z\"/>\n",
              "  </svg>\n",
              "      </button>\n",
              "      \n",
              "  <style>\n",
              "    .colab-df-container {\n",
              "      display:flex;\n",
              "      flex-wrap:wrap;\n",
              "      gap: 12px;\n",
              "    }\n",
              "\n",
              "    .colab-df-convert {\n",
              "      background-color: #E8F0FE;\n",
              "      border: none;\n",
              "      border-radius: 50%;\n",
              "      cursor: pointer;\n",
              "      display: none;\n",
              "      fill: #1967D2;\n",
              "      height: 32px;\n",
              "      padding: 0 0 0 0;\n",
              "      width: 32px;\n",
              "    }\n",
              "\n",
              "    .colab-df-convert:hover {\n",
              "      background-color: #E2EBFA;\n",
              "      box-shadow: 0px 1px 2px rgba(60, 64, 67, 0.3), 0px 1px 3px 1px rgba(60, 64, 67, 0.15);\n",
              "      fill: #174EA6;\n",
              "    }\n",
              "\n",
              "    [theme=dark] .colab-df-convert {\n",
              "      background-color: #3B4455;\n",
              "      fill: #D2E3FC;\n",
              "    }\n",
              "\n",
              "    [theme=dark] .colab-df-convert:hover {\n",
              "      background-color: #434B5C;\n",
              "      box-shadow: 0px 1px 3px 1px rgba(0, 0, 0, 0.15);\n",
              "      filter: drop-shadow(0px 1px 2px rgba(0, 0, 0, 0.3));\n",
              "      fill: #FFFFFF;\n",
              "    }\n",
              "  </style>\n",
              "\n",
              "      <script>\n",
              "        const buttonEl =\n",
              "          document.querySelector('#df-fc7d26c0-563b-487f-a459-b6ee911a4962 button.colab-df-convert');\n",
              "        buttonEl.style.display =\n",
              "          google.colab.kernel.accessAllowed ? 'block' : 'none';\n",
              "\n",
              "        async function convertToInteractive(key) {\n",
              "          const element = document.querySelector('#df-fc7d26c0-563b-487f-a459-b6ee911a4962');\n",
              "          const dataTable =\n",
              "            await google.colab.kernel.invokeFunction('convertToInteractive',\n",
              "                                                     [key], {});\n",
              "          if (!dataTable) return;\n",
              "\n",
              "          const docLinkHtml = 'Like what you see? Visit the ' +\n",
              "            '<a target=\"_blank\" href=https://colab.research.google.com/notebooks/data_table.ipynb>data table notebook</a>'\n",
              "            + ' to learn more about interactive tables.';\n",
              "          element.innerHTML = '';\n",
              "          dataTable['output_type'] = 'display_data';\n",
              "          await google.colab.output.renderOutput(dataTable, element);\n",
              "          const docLink = document.createElement('div');\n",
              "          docLink.innerHTML = docLinkHtml;\n",
              "          element.appendChild(docLink);\n",
              "        }\n",
              "      </script>\n",
              "    </div>\n",
              "  </div>\n",
              "  "
            ]
          },
          "metadata": {},
          "execution_count": 11
        }
      ]
    },
    {
      "cell_type": "code",
      "source": [
        "# Create and check column and value in table events\n",
        "df_events = pd.read_sql_query(\"\"\"\n",
        "                  SELECT\n",
        "                  item_ID,\n",
        "                  `perc.discount`\n",
        "                  FROM events \"\"\", conn)"
      ],
      "metadata": {
        "id": "3yuI8SlFpni8"
      },
      "execution_count": 12,
      "outputs": []
    },
    {
      "cell_type": "code",
      "source": [
        "# Join table\n",
        "df_selected = pd.read_sql_query(\n",
        "    \"\"\"SELECT\n",
        "          e.ID,\n",
        "          d.item_ID,\n",
        "          p.product_name,\n",
        "          b.brand_name,\n",
        "          d.variation_0_color,\n",
        "          d.variation_1_color,\n",
        "          m.category_name,\n",
        "          s.subcategory_name, \n",
        "          e.current_price,\n",
        "          e.likes_count,\n",
        "          e.is_new,\n",
        "          e.codCountry\n",
        "        \n",
        "        FROM events e\n",
        "\n",
        "        INNER JOIN products p\n",
        "          ON e.product_ID = p.product_ID\n",
        "        INNER JOIN brand_details b\n",
        "          ON e.brand_ID = b.brand_ID\n",
        "        INNER JOIN main_categories m\n",
        "          ON e.category_ID = m.category_ID\n",
        "        INNER JOIN sub_categories s\n",
        "          ON e.subcategory_ID = s.subcategory_ID\n",
        "        INNER JOIN item_details d\n",
        "          ON e.item_ID = d.item_ID\n",
        "\n",
        "      \"\"\", conn)\n",
        "df_selected"
      ],
      "metadata": {
        "colab": {
          "base_uri": "https://localhost:8080/",
          "height": 424
        },
        "id": "X7aNGmyniKp4",
        "outputId": "5dfd9c06-7f75-4639-d9f3-8b4458dbbcad"
      },
      "execution_count": 13,
      "outputs": [
        {
          "output_type": "execute_result",
          "data": {
            "text/plain": [
              "            ID  item_ID                                       product_name  \\\n",
              "0        27788     4677  Mesure verticale horizontale de laser de nivea...   \n",
              "1        42560    10372        Chemises élégantes de dentelle de patchwork   \n",
              "2        45211     3658  Filtre à essence liquide universel pour essenc...   \n",
              "3        48169     1168  Rouleau de peau YFM pour les rides cicatrices ...   \n",
              "4        51841     9761  Sweat à capuche à manches longues à manches lo...   \n",
              "...        ...      ...                                                ...   \n",
              "14156  1723915     9143  Pantoufles d'intérieur à boucle en métal de co...   \n",
              "14157  1723920     9154        Pantoufles de chaussures à rayures colorées   \n",
              "14158  1723924     9155  Pantoufles de chaussures à rayures de couleur ...   \n",
              "14159  1723927     9117         Chaussures plates larges brodées de fleurs   \n",
              "14160  1724666     7982   CAMEL CROWN Hommes Baskets de sport en plein air   \n",
              "\n",
              "      brand_name variation_0_color variation_1_color category_name  \\\n",
              "0         Loskii              None              None         house   \n",
              "1         ZANZEA              Noir             blanc         women   \n",
              "2           BEON              None              None         house   \n",
              "3          Y.F.M              None              None        beauty   \n",
              "4         ZANZEA              Noir              None         women   \n",
              "...          ...               ...               ...           ...   \n",
              "14156     Socofy              Pink             Green         shoes   \n",
              "14157     Socofy              Pink              Blue         shoes   \n",
              "14158     Socofy             Green         Dark Blue         shoes   \n",
              "14159    Lostisy              gris              None         shoes   \n",
              "14160      CAMEL             Black              Grey         shoes   \n",
              "\n",
              "              subcategory_name current_price  likes_count  is_new  \\\n",
              "0                    ART MURAL     21.48 USD          285       0   \n",
              "1                     Chemises     22.99 USD          147       0   \n",
              "2                     Lumières      1.59 USD            1       0   \n",
              "3      Accessoires soin visage     19.03 USD          500       0   \n",
              "4                     T-Shirts     21.99 USD          251       0   \n",
              "...                        ...           ...          ...     ...   \n",
              "14156       Claquettes & Tongs     29.99 USD            2       1   \n",
              "14157       Claquettes & Tongs     32.99 USD            2       1   \n",
              "14158       Claquettes & Tongs     32.99 USD            1       1   \n",
              "14159      Derbies & Mocassins     29.99 USD            2       1   \n",
              "14160                  Baskets     98.99 USD            0       1   \n",
              "\n",
              "              codCountry  \n",
              "0      ID,MY,PH,SG,TH,VN  \n",
              "1      ID,MY,PH,SG,TH,VN  \n",
              "2      ID,MY,PH,SG,TH,VN  \n",
              "3      ID,MY,PH,SG,TH,VN  \n",
              "4      ID,MY,PH,SG,TH,VN  \n",
              "...                  ...  \n",
              "14156  ID,MY,PH,SG,TH,VN  \n",
              "14157  ID,MY,PH,SG,TH,VN  \n",
              "14158  ID,MY,PH,SG,TH,VN  \n",
              "14159  ID,MY,PH,SG,TH,VN  \n",
              "14160                 VN  \n",
              "\n",
              "[14161 rows x 12 columns]"
            ],
            "text/html": [
              "\n",
              "  <div id=\"df-f51e18d5-2ea3-4806-be91-bbc4fb2aa154\">\n",
              "    <div class=\"colab-df-container\">\n",
              "      <div>\n",
              "<style scoped>\n",
              "    .dataframe tbody tr th:only-of-type {\n",
              "        vertical-align: middle;\n",
              "    }\n",
              "\n",
              "    .dataframe tbody tr th {\n",
              "        vertical-align: top;\n",
              "    }\n",
              "\n",
              "    .dataframe thead th {\n",
              "        text-align: right;\n",
              "    }\n",
              "</style>\n",
              "<table border=\"1\" class=\"dataframe\">\n",
              "  <thead>\n",
              "    <tr style=\"text-align: right;\">\n",
              "      <th></th>\n",
              "      <th>ID</th>\n",
              "      <th>item_ID</th>\n",
              "      <th>product_name</th>\n",
              "      <th>brand_name</th>\n",
              "      <th>variation_0_color</th>\n",
              "      <th>variation_1_color</th>\n",
              "      <th>category_name</th>\n",
              "      <th>subcategory_name</th>\n",
              "      <th>current_price</th>\n",
              "      <th>likes_count</th>\n",
              "      <th>is_new</th>\n",
              "      <th>codCountry</th>\n",
              "    </tr>\n",
              "  </thead>\n",
              "  <tbody>\n",
              "    <tr>\n",
              "      <th>0</th>\n",
              "      <td>27788</td>\n",
              "      <td>4677</td>\n",
              "      <td>Mesure verticale horizontale de laser de nivea...</td>\n",
              "      <td>Loskii</td>\n",
              "      <td>None</td>\n",
              "      <td>None</td>\n",
              "      <td>house</td>\n",
              "      <td>ART MURAL</td>\n",
              "      <td>21.48 USD</td>\n",
              "      <td>285</td>\n",
              "      <td>0</td>\n",
              "      <td>ID,MY,PH,SG,TH,VN</td>\n",
              "    </tr>\n",
              "    <tr>\n",
              "      <th>1</th>\n",
              "      <td>42560</td>\n",
              "      <td>10372</td>\n",
              "      <td>Chemises élégantes de dentelle de patchwork</td>\n",
              "      <td>ZANZEA</td>\n",
              "      <td>Noir</td>\n",
              "      <td>blanc</td>\n",
              "      <td>women</td>\n",
              "      <td>Chemises</td>\n",
              "      <td>22.99 USD</td>\n",
              "      <td>147</td>\n",
              "      <td>0</td>\n",
              "      <td>ID,MY,PH,SG,TH,VN</td>\n",
              "    </tr>\n",
              "    <tr>\n",
              "      <th>2</th>\n",
              "      <td>45211</td>\n",
              "      <td>3658</td>\n",
              "      <td>Filtre à essence liquide universel pour essenc...</td>\n",
              "      <td>BEON</td>\n",
              "      <td>None</td>\n",
              "      <td>None</td>\n",
              "      <td>house</td>\n",
              "      <td>Lumières</td>\n",
              "      <td>1.59 USD</td>\n",
              "      <td>1</td>\n",
              "      <td>0</td>\n",
              "      <td>ID,MY,PH,SG,TH,VN</td>\n",
              "    </tr>\n",
              "    <tr>\n",
              "      <th>3</th>\n",
              "      <td>48169</td>\n",
              "      <td>1168</td>\n",
              "      <td>Rouleau de peau YFM pour les rides cicatrices ...</td>\n",
              "      <td>Y.F.M</td>\n",
              "      <td>None</td>\n",
              "      <td>None</td>\n",
              "      <td>beauty</td>\n",
              "      <td>Accessoires soin visage</td>\n",
              "      <td>19.03 USD</td>\n",
              "      <td>500</td>\n",
              "      <td>0</td>\n",
              "      <td>ID,MY,PH,SG,TH,VN</td>\n",
              "    </tr>\n",
              "    <tr>\n",
              "      <th>4</th>\n",
              "      <td>51841</td>\n",
              "      <td>9761</td>\n",
              "      <td>Sweat à capuche à manches longues à manches lo...</td>\n",
              "      <td>ZANZEA</td>\n",
              "      <td>Noir</td>\n",
              "      <td>None</td>\n",
              "      <td>women</td>\n",
              "      <td>T-Shirts</td>\n",
              "      <td>21.99 USD</td>\n",
              "      <td>251</td>\n",
              "      <td>0</td>\n",
              "      <td>ID,MY,PH,SG,TH,VN</td>\n",
              "    </tr>\n",
              "    <tr>\n",
              "      <th>...</th>\n",
              "      <td>...</td>\n",
              "      <td>...</td>\n",
              "      <td>...</td>\n",
              "      <td>...</td>\n",
              "      <td>...</td>\n",
              "      <td>...</td>\n",
              "      <td>...</td>\n",
              "      <td>...</td>\n",
              "      <td>...</td>\n",
              "      <td>...</td>\n",
              "      <td>...</td>\n",
              "      <td>...</td>\n",
              "    </tr>\n",
              "    <tr>\n",
              "      <th>14156</th>\n",
              "      <td>1723915</td>\n",
              "      <td>9143</td>\n",
              "      <td>Pantoufles d'intérieur à boucle en métal de co...</td>\n",
              "      <td>Socofy</td>\n",
              "      <td>Pink</td>\n",
              "      <td>Green</td>\n",
              "      <td>shoes</td>\n",
              "      <td>Claquettes &amp; Tongs</td>\n",
              "      <td>29.99 USD</td>\n",
              "      <td>2</td>\n",
              "      <td>1</td>\n",
              "      <td>ID,MY,PH,SG,TH,VN</td>\n",
              "    </tr>\n",
              "    <tr>\n",
              "      <th>14157</th>\n",
              "      <td>1723920</td>\n",
              "      <td>9154</td>\n",
              "      <td>Pantoufles de chaussures à rayures colorées</td>\n",
              "      <td>Socofy</td>\n",
              "      <td>Pink</td>\n",
              "      <td>Blue</td>\n",
              "      <td>shoes</td>\n",
              "      <td>Claquettes &amp; Tongs</td>\n",
              "      <td>32.99 USD</td>\n",
              "      <td>2</td>\n",
              "      <td>1</td>\n",
              "      <td>ID,MY,PH,SG,TH,VN</td>\n",
              "    </tr>\n",
              "    <tr>\n",
              "      <th>14158</th>\n",
              "      <td>1723924</td>\n",
              "      <td>9155</td>\n",
              "      <td>Pantoufles de chaussures à rayures de couleur ...</td>\n",
              "      <td>Socofy</td>\n",
              "      <td>Green</td>\n",
              "      <td>Dark Blue</td>\n",
              "      <td>shoes</td>\n",
              "      <td>Claquettes &amp; Tongs</td>\n",
              "      <td>32.99 USD</td>\n",
              "      <td>1</td>\n",
              "      <td>1</td>\n",
              "      <td>ID,MY,PH,SG,TH,VN</td>\n",
              "    </tr>\n",
              "    <tr>\n",
              "      <th>14159</th>\n",
              "      <td>1723927</td>\n",
              "      <td>9117</td>\n",
              "      <td>Chaussures plates larges brodées de fleurs</td>\n",
              "      <td>Lostisy</td>\n",
              "      <td>gris</td>\n",
              "      <td>None</td>\n",
              "      <td>shoes</td>\n",
              "      <td>Derbies &amp; Mocassins</td>\n",
              "      <td>29.99 USD</td>\n",
              "      <td>2</td>\n",
              "      <td>1</td>\n",
              "      <td>ID,MY,PH,SG,TH,VN</td>\n",
              "    </tr>\n",
              "    <tr>\n",
              "      <th>14160</th>\n",
              "      <td>1724666</td>\n",
              "      <td>7982</td>\n",
              "      <td>CAMEL CROWN Hommes Baskets de sport en plein air</td>\n",
              "      <td>CAMEL</td>\n",
              "      <td>Black</td>\n",
              "      <td>Grey</td>\n",
              "      <td>shoes</td>\n",
              "      <td>Baskets</td>\n",
              "      <td>98.99 USD</td>\n",
              "      <td>0</td>\n",
              "      <td>1</td>\n",
              "      <td>VN</td>\n",
              "    </tr>\n",
              "  </tbody>\n",
              "</table>\n",
              "<p>14161 rows × 12 columns</p>\n",
              "</div>\n",
              "      <button class=\"colab-df-convert\" onclick=\"convertToInteractive('df-f51e18d5-2ea3-4806-be91-bbc4fb2aa154')\"\n",
              "              title=\"Convert this dataframe to an interactive table.\"\n",
              "              style=\"display:none;\">\n",
              "        \n",
              "  <svg xmlns=\"http://www.w3.org/2000/svg\" height=\"24px\"viewBox=\"0 0 24 24\"\n",
              "       width=\"24px\">\n",
              "    <path d=\"M0 0h24v24H0V0z\" fill=\"none\"/>\n",
              "    <path d=\"M18.56 5.44l.94 2.06.94-2.06 2.06-.94-2.06-.94-.94-2.06-.94 2.06-2.06.94zm-11 1L8.5 8.5l.94-2.06 2.06-.94-2.06-.94L8.5 2.5l-.94 2.06-2.06.94zm10 10l.94 2.06.94-2.06 2.06-.94-2.06-.94-.94-2.06-.94 2.06-2.06.94z\"/><path d=\"M17.41 7.96l-1.37-1.37c-.4-.4-.92-.59-1.43-.59-.52 0-1.04.2-1.43.59L10.3 9.45l-7.72 7.72c-.78.78-.78 2.05 0 2.83L4 21.41c.39.39.9.59 1.41.59.51 0 1.02-.2 1.41-.59l7.78-7.78 2.81-2.81c.8-.78.8-2.07 0-2.86zM5.41 20L4 18.59l7.72-7.72 1.47 1.35L5.41 20z\"/>\n",
              "  </svg>\n",
              "      </button>\n",
              "      \n",
              "  <style>\n",
              "    .colab-df-container {\n",
              "      display:flex;\n",
              "      flex-wrap:wrap;\n",
              "      gap: 12px;\n",
              "    }\n",
              "\n",
              "    .colab-df-convert {\n",
              "      background-color: #E8F0FE;\n",
              "      border: none;\n",
              "      border-radius: 50%;\n",
              "      cursor: pointer;\n",
              "      display: none;\n",
              "      fill: #1967D2;\n",
              "      height: 32px;\n",
              "      padding: 0 0 0 0;\n",
              "      width: 32px;\n",
              "    }\n",
              "\n",
              "    .colab-df-convert:hover {\n",
              "      background-color: #E2EBFA;\n",
              "      box-shadow: 0px 1px 2px rgba(60, 64, 67, 0.3), 0px 1px 3px 1px rgba(60, 64, 67, 0.15);\n",
              "      fill: #174EA6;\n",
              "    }\n",
              "\n",
              "    [theme=dark] .colab-df-convert {\n",
              "      background-color: #3B4455;\n",
              "      fill: #D2E3FC;\n",
              "    }\n",
              "\n",
              "    [theme=dark] .colab-df-convert:hover {\n",
              "      background-color: #434B5C;\n",
              "      box-shadow: 0px 1px 3px 1px rgba(0, 0, 0, 0.15);\n",
              "      filter: drop-shadow(0px 1px 2px rgba(0, 0, 0, 0.3));\n",
              "      fill: #FFFFFF;\n",
              "    }\n",
              "  </style>\n",
              "\n",
              "      <script>\n",
              "        const buttonEl =\n",
              "          document.querySelector('#df-f51e18d5-2ea3-4806-be91-bbc4fb2aa154 button.colab-df-convert');\n",
              "        buttonEl.style.display =\n",
              "          google.colab.kernel.accessAllowed ? 'block' : 'none';\n",
              "\n",
              "        async function convertToInteractive(key) {\n",
              "          const element = document.querySelector('#df-f51e18d5-2ea3-4806-be91-bbc4fb2aa154');\n",
              "          const dataTable =\n",
              "            await google.colab.kernel.invokeFunction('convertToInteractive',\n",
              "                                                     [key], {});\n",
              "          if (!dataTable) return;\n",
              "\n",
              "          const docLinkHtml = 'Like what you see? Visit the ' +\n",
              "            '<a target=\"_blank\" href=https://colab.research.google.com/notebooks/data_table.ipynb>data table notebook</a>'\n",
              "            + ' to learn more about interactive tables.';\n",
              "          element.innerHTML = '';\n",
              "          dataTable['output_type'] = 'display_data';\n",
              "          await google.colab.output.renderOutput(dataTable, element);\n",
              "          const docLink = document.createElement('div');\n",
              "          docLink.innerHTML = docLinkHtml;\n",
              "          element.appendChild(docLink);\n",
              "        }\n",
              "      </script>\n",
              "    </div>\n",
              "  </div>\n",
              "  "
            ]
          },
          "metadata": {},
          "execution_count": 13
        }
      ]
    },
    {
      "cell_type": "markdown",
      "source": [
        "## This the reason why the three tables above are initialized:\n",
        "  - There is a column containing a dot (.), which is the perc.discount column in table events. It difficult for the joining process with subqueries.\n",
        "  -  The way looks difficult and repetitive, but I have no idea and haven't found an answer to change it while using the query. So in other words, I'm going to merge df_selected with df_events with its unique in both tables i.e. item_ID"
      ],
      "metadata": {
        "id": "G3xrABzcFrKi"
      }
    },
    {
      "cell_type": "markdown",
      "metadata": {
        "id": "1DH2ISL0Kn8L"
      },
      "source": [
        "## 5. Problem Statement"
      ]
    },
    {
      "cell_type": "markdown",
      "source": [
        "Newchic is a company from Hong Kong which is engaged in the retail apparel and fashion industry.\n",
        "\n",
        "Since 2016, the company has a website, NewChic.com, which provides a variety of products from brands. Women's fashion, men's fashion, accessories, to homes and gardens can be found on the site.\n",
        "\n",
        "In the given dataset, the codCountry column explains that the scale shown from the data comes from Southeast Asia. So here's the problem statement:"
      ],
      "metadata": {
        "id": "UZiKj5uhxix1"
      }
    },
    {
      "cell_type": "markdown",
      "source": [
        "\n",
        "\n",
        "1.   What is the correlation between the columns containing numeric values?\n",
        "2.   What products are most liked on Newchic site in southeast asia region?\n",
        "3.   Find the highest price in each category of the brand on the website"
      ],
      "metadata": {
        "id": "fyNRSVCvKo0e"
      }
    },
    {
      "cell_type": "markdown",
      "metadata": {
        "id": "WlX3RVe4Kn8L"
      },
      "source": [
        "## 6. Data Preparation Using Python (Cleansing, Manipulation, Handling Outlier dst)"
      ]
    },
    {
      "cell_type": "markdown",
      "source": [
        "### Merging "
      ],
      "metadata": {
        "id": "cnbXfTxkjq3b"
      }
    },
    {
      "cell_type": "code",
      "source": [
        "df_selected = df_selected.merge(df_events, how='left', on='item_ID')\n",
        "df_selected"
      ],
      "metadata": {
        "colab": {
          "base_uri": "https://localhost:8080/",
          "height": 424
        },
        "id": "8SREwc04m69m",
        "outputId": "51bc6380-6d38-4bfe-c09a-58bef7d28f06"
      },
      "execution_count": 14,
      "outputs": [
        {
          "output_type": "execute_result",
          "data": {
            "text/plain": [
              "            ID  item_ID                                       product_name  \\\n",
              "0        27788     4677  Mesure verticale horizontale de laser de nivea...   \n",
              "1        42560    10372        Chemises élégantes de dentelle de patchwork   \n",
              "2        45211     3658  Filtre à essence liquide universel pour essenc...   \n",
              "3        48169     1168  Rouleau de peau YFM pour les rides cicatrices ...   \n",
              "4        51841     9761  Sweat à capuche à manches longues à manches lo...   \n",
              "...        ...      ...                                                ...   \n",
              "14618  1723915     9143  Pantoufles d'intérieur à boucle en métal de co...   \n",
              "14619  1723920     9154        Pantoufles de chaussures à rayures colorées   \n",
              "14620  1723924     9155  Pantoufles de chaussures à rayures de couleur ...   \n",
              "14621  1723927     9117         Chaussures plates larges brodées de fleurs   \n",
              "14622  1724666     7982   CAMEL CROWN Hommes Baskets de sport en plein air   \n",
              "\n",
              "      brand_name variation_0_color variation_1_color category_name  \\\n",
              "0         Loskii              None              None         house   \n",
              "1         ZANZEA              Noir             blanc         women   \n",
              "2           BEON              None              None         house   \n",
              "3          Y.F.M              None              None        beauty   \n",
              "4         ZANZEA              Noir              None         women   \n",
              "...          ...               ...               ...           ...   \n",
              "14618     Socofy              Pink             Green         shoes   \n",
              "14619     Socofy              Pink              Blue         shoes   \n",
              "14620     Socofy             Green         Dark Blue         shoes   \n",
              "14621    Lostisy              gris              None         shoes   \n",
              "14622      CAMEL             Black              Grey         shoes   \n",
              "\n",
              "              subcategory_name current_price  likes_count  is_new  \\\n",
              "0                    ART MURAL     21.48 USD          285       0   \n",
              "1                     Chemises     22.99 USD          147       0   \n",
              "2                     Lumières      1.59 USD            1       0   \n",
              "3      Accessoires soin visage     19.03 USD          500       0   \n",
              "4                     T-Shirts     21.99 USD          251       0   \n",
              "...                        ...           ...          ...     ...   \n",
              "14618       Claquettes & Tongs     29.99 USD            2       1   \n",
              "14619       Claquettes & Tongs     32.99 USD            2       1   \n",
              "14620       Claquettes & Tongs     32.99 USD            1       1   \n",
              "14621      Derbies & Mocassins     29.99 USD            2       1   \n",
              "14622                  Baskets     98.99 USD            0       1   \n",
              "\n",
              "              codCountry  perc.discount  \n",
              "0      ID,MY,PH,SG,TH,VN           42.0  \n",
              "1      ID,MY,PH,SG,TH,VN           65.0  \n",
              "2      ID,MY,PH,SG,TH,VN           58.0  \n",
              "3      ID,MY,PH,SG,TH,VN           43.0  \n",
              "4      ID,MY,PH,SG,TH,VN            0.0  \n",
              "...                  ...            ...  \n",
              "14618  ID,MY,PH,SG,TH,VN           55.0  \n",
              "14619  ID,MY,PH,SG,TH,VN           53.0  \n",
              "14620  ID,MY,PH,SG,TH,VN           50.0  \n",
              "14621  ID,MY,PH,SG,TH,VN           50.0  \n",
              "14622                 VN           55.0  \n",
              "\n",
              "[14623 rows x 13 columns]"
            ],
            "text/html": [
              "\n",
              "  <div id=\"df-0da98764-b666-4ca8-8fd7-86b754623697\">\n",
              "    <div class=\"colab-df-container\">\n",
              "      <div>\n",
              "<style scoped>\n",
              "    .dataframe tbody tr th:only-of-type {\n",
              "        vertical-align: middle;\n",
              "    }\n",
              "\n",
              "    .dataframe tbody tr th {\n",
              "        vertical-align: top;\n",
              "    }\n",
              "\n",
              "    .dataframe thead th {\n",
              "        text-align: right;\n",
              "    }\n",
              "</style>\n",
              "<table border=\"1\" class=\"dataframe\">\n",
              "  <thead>\n",
              "    <tr style=\"text-align: right;\">\n",
              "      <th></th>\n",
              "      <th>ID</th>\n",
              "      <th>item_ID</th>\n",
              "      <th>product_name</th>\n",
              "      <th>brand_name</th>\n",
              "      <th>variation_0_color</th>\n",
              "      <th>variation_1_color</th>\n",
              "      <th>category_name</th>\n",
              "      <th>subcategory_name</th>\n",
              "      <th>current_price</th>\n",
              "      <th>likes_count</th>\n",
              "      <th>is_new</th>\n",
              "      <th>codCountry</th>\n",
              "      <th>perc.discount</th>\n",
              "    </tr>\n",
              "  </thead>\n",
              "  <tbody>\n",
              "    <tr>\n",
              "      <th>0</th>\n",
              "      <td>27788</td>\n",
              "      <td>4677</td>\n",
              "      <td>Mesure verticale horizontale de laser de nivea...</td>\n",
              "      <td>Loskii</td>\n",
              "      <td>None</td>\n",
              "      <td>None</td>\n",
              "      <td>house</td>\n",
              "      <td>ART MURAL</td>\n",
              "      <td>21.48 USD</td>\n",
              "      <td>285</td>\n",
              "      <td>0</td>\n",
              "      <td>ID,MY,PH,SG,TH,VN</td>\n",
              "      <td>42.0</td>\n",
              "    </tr>\n",
              "    <tr>\n",
              "      <th>1</th>\n",
              "      <td>42560</td>\n",
              "      <td>10372</td>\n",
              "      <td>Chemises élégantes de dentelle de patchwork</td>\n",
              "      <td>ZANZEA</td>\n",
              "      <td>Noir</td>\n",
              "      <td>blanc</td>\n",
              "      <td>women</td>\n",
              "      <td>Chemises</td>\n",
              "      <td>22.99 USD</td>\n",
              "      <td>147</td>\n",
              "      <td>0</td>\n",
              "      <td>ID,MY,PH,SG,TH,VN</td>\n",
              "      <td>65.0</td>\n",
              "    </tr>\n",
              "    <tr>\n",
              "      <th>2</th>\n",
              "      <td>45211</td>\n",
              "      <td>3658</td>\n",
              "      <td>Filtre à essence liquide universel pour essenc...</td>\n",
              "      <td>BEON</td>\n",
              "      <td>None</td>\n",
              "      <td>None</td>\n",
              "      <td>house</td>\n",
              "      <td>Lumières</td>\n",
              "      <td>1.59 USD</td>\n",
              "      <td>1</td>\n",
              "      <td>0</td>\n",
              "      <td>ID,MY,PH,SG,TH,VN</td>\n",
              "      <td>58.0</td>\n",
              "    </tr>\n",
              "    <tr>\n",
              "      <th>3</th>\n",
              "      <td>48169</td>\n",
              "      <td>1168</td>\n",
              "      <td>Rouleau de peau YFM pour les rides cicatrices ...</td>\n",
              "      <td>Y.F.M</td>\n",
              "      <td>None</td>\n",
              "      <td>None</td>\n",
              "      <td>beauty</td>\n",
              "      <td>Accessoires soin visage</td>\n",
              "      <td>19.03 USD</td>\n",
              "      <td>500</td>\n",
              "      <td>0</td>\n",
              "      <td>ID,MY,PH,SG,TH,VN</td>\n",
              "      <td>43.0</td>\n",
              "    </tr>\n",
              "    <tr>\n",
              "      <th>4</th>\n",
              "      <td>51841</td>\n",
              "      <td>9761</td>\n",
              "      <td>Sweat à capuche à manches longues à manches lo...</td>\n",
              "      <td>ZANZEA</td>\n",
              "      <td>Noir</td>\n",
              "      <td>None</td>\n",
              "      <td>women</td>\n",
              "      <td>T-Shirts</td>\n",
              "      <td>21.99 USD</td>\n",
              "      <td>251</td>\n",
              "      <td>0</td>\n",
              "      <td>ID,MY,PH,SG,TH,VN</td>\n",
              "      <td>0.0</td>\n",
              "    </tr>\n",
              "    <tr>\n",
              "      <th>...</th>\n",
              "      <td>...</td>\n",
              "      <td>...</td>\n",
              "      <td>...</td>\n",
              "      <td>...</td>\n",
              "      <td>...</td>\n",
              "      <td>...</td>\n",
              "      <td>...</td>\n",
              "      <td>...</td>\n",
              "      <td>...</td>\n",
              "      <td>...</td>\n",
              "      <td>...</td>\n",
              "      <td>...</td>\n",
              "      <td>...</td>\n",
              "    </tr>\n",
              "    <tr>\n",
              "      <th>14618</th>\n",
              "      <td>1723915</td>\n",
              "      <td>9143</td>\n",
              "      <td>Pantoufles d'intérieur à boucle en métal de co...</td>\n",
              "      <td>Socofy</td>\n",
              "      <td>Pink</td>\n",
              "      <td>Green</td>\n",
              "      <td>shoes</td>\n",
              "      <td>Claquettes &amp; Tongs</td>\n",
              "      <td>29.99 USD</td>\n",
              "      <td>2</td>\n",
              "      <td>1</td>\n",
              "      <td>ID,MY,PH,SG,TH,VN</td>\n",
              "      <td>55.0</td>\n",
              "    </tr>\n",
              "    <tr>\n",
              "      <th>14619</th>\n",
              "      <td>1723920</td>\n",
              "      <td>9154</td>\n",
              "      <td>Pantoufles de chaussures à rayures colorées</td>\n",
              "      <td>Socofy</td>\n",
              "      <td>Pink</td>\n",
              "      <td>Blue</td>\n",
              "      <td>shoes</td>\n",
              "      <td>Claquettes &amp; Tongs</td>\n",
              "      <td>32.99 USD</td>\n",
              "      <td>2</td>\n",
              "      <td>1</td>\n",
              "      <td>ID,MY,PH,SG,TH,VN</td>\n",
              "      <td>53.0</td>\n",
              "    </tr>\n",
              "    <tr>\n",
              "      <th>14620</th>\n",
              "      <td>1723924</td>\n",
              "      <td>9155</td>\n",
              "      <td>Pantoufles de chaussures à rayures de couleur ...</td>\n",
              "      <td>Socofy</td>\n",
              "      <td>Green</td>\n",
              "      <td>Dark Blue</td>\n",
              "      <td>shoes</td>\n",
              "      <td>Claquettes &amp; Tongs</td>\n",
              "      <td>32.99 USD</td>\n",
              "      <td>1</td>\n",
              "      <td>1</td>\n",
              "      <td>ID,MY,PH,SG,TH,VN</td>\n",
              "      <td>50.0</td>\n",
              "    </tr>\n",
              "    <tr>\n",
              "      <th>14621</th>\n",
              "      <td>1723927</td>\n",
              "      <td>9117</td>\n",
              "      <td>Chaussures plates larges brodées de fleurs</td>\n",
              "      <td>Lostisy</td>\n",
              "      <td>gris</td>\n",
              "      <td>None</td>\n",
              "      <td>shoes</td>\n",
              "      <td>Derbies &amp; Mocassins</td>\n",
              "      <td>29.99 USD</td>\n",
              "      <td>2</td>\n",
              "      <td>1</td>\n",
              "      <td>ID,MY,PH,SG,TH,VN</td>\n",
              "      <td>50.0</td>\n",
              "    </tr>\n",
              "    <tr>\n",
              "      <th>14622</th>\n",
              "      <td>1724666</td>\n",
              "      <td>7982</td>\n",
              "      <td>CAMEL CROWN Hommes Baskets de sport en plein air</td>\n",
              "      <td>CAMEL</td>\n",
              "      <td>Black</td>\n",
              "      <td>Grey</td>\n",
              "      <td>shoes</td>\n",
              "      <td>Baskets</td>\n",
              "      <td>98.99 USD</td>\n",
              "      <td>0</td>\n",
              "      <td>1</td>\n",
              "      <td>VN</td>\n",
              "      <td>55.0</td>\n",
              "    </tr>\n",
              "  </tbody>\n",
              "</table>\n",
              "<p>14623 rows × 13 columns</p>\n",
              "</div>\n",
              "      <button class=\"colab-df-convert\" onclick=\"convertToInteractive('df-0da98764-b666-4ca8-8fd7-86b754623697')\"\n",
              "              title=\"Convert this dataframe to an interactive table.\"\n",
              "              style=\"display:none;\">\n",
              "        \n",
              "  <svg xmlns=\"http://www.w3.org/2000/svg\" height=\"24px\"viewBox=\"0 0 24 24\"\n",
              "       width=\"24px\">\n",
              "    <path d=\"M0 0h24v24H0V0z\" fill=\"none\"/>\n",
              "    <path d=\"M18.56 5.44l.94 2.06.94-2.06 2.06-.94-2.06-.94-.94-2.06-.94 2.06-2.06.94zm-11 1L8.5 8.5l.94-2.06 2.06-.94-2.06-.94L8.5 2.5l-.94 2.06-2.06.94zm10 10l.94 2.06.94-2.06 2.06-.94-2.06-.94-.94-2.06-.94 2.06-2.06.94z\"/><path d=\"M17.41 7.96l-1.37-1.37c-.4-.4-.92-.59-1.43-.59-.52 0-1.04.2-1.43.59L10.3 9.45l-7.72 7.72c-.78.78-.78 2.05 0 2.83L4 21.41c.39.39.9.59 1.41.59.51 0 1.02-.2 1.41-.59l7.78-7.78 2.81-2.81c.8-.78.8-2.07 0-2.86zM5.41 20L4 18.59l7.72-7.72 1.47 1.35L5.41 20z\"/>\n",
              "  </svg>\n",
              "      </button>\n",
              "      \n",
              "  <style>\n",
              "    .colab-df-container {\n",
              "      display:flex;\n",
              "      flex-wrap:wrap;\n",
              "      gap: 12px;\n",
              "    }\n",
              "\n",
              "    .colab-df-convert {\n",
              "      background-color: #E8F0FE;\n",
              "      border: none;\n",
              "      border-radius: 50%;\n",
              "      cursor: pointer;\n",
              "      display: none;\n",
              "      fill: #1967D2;\n",
              "      height: 32px;\n",
              "      padding: 0 0 0 0;\n",
              "      width: 32px;\n",
              "    }\n",
              "\n",
              "    .colab-df-convert:hover {\n",
              "      background-color: #E2EBFA;\n",
              "      box-shadow: 0px 1px 2px rgba(60, 64, 67, 0.3), 0px 1px 3px 1px rgba(60, 64, 67, 0.15);\n",
              "      fill: #174EA6;\n",
              "    }\n",
              "\n",
              "    [theme=dark] .colab-df-convert {\n",
              "      background-color: #3B4455;\n",
              "      fill: #D2E3FC;\n",
              "    }\n",
              "\n",
              "    [theme=dark] .colab-df-convert:hover {\n",
              "      background-color: #434B5C;\n",
              "      box-shadow: 0px 1px 3px 1px rgba(0, 0, 0, 0.15);\n",
              "      filter: drop-shadow(0px 1px 2px rgba(0, 0, 0, 0.3));\n",
              "      fill: #FFFFFF;\n",
              "    }\n",
              "  </style>\n",
              "\n",
              "      <script>\n",
              "        const buttonEl =\n",
              "          document.querySelector('#df-0da98764-b666-4ca8-8fd7-86b754623697 button.colab-df-convert');\n",
              "        buttonEl.style.display =\n",
              "          google.colab.kernel.accessAllowed ? 'block' : 'none';\n",
              "\n",
              "        async function convertToInteractive(key) {\n",
              "          const element = document.querySelector('#df-0da98764-b666-4ca8-8fd7-86b754623697');\n",
              "          const dataTable =\n",
              "            await google.colab.kernel.invokeFunction('convertToInteractive',\n",
              "                                                     [key], {});\n",
              "          if (!dataTable) return;\n",
              "\n",
              "          const docLinkHtml = 'Like what you see? Visit the ' +\n",
              "            '<a target=\"_blank\" href=https://colab.research.google.com/notebooks/data_table.ipynb>data table notebook</a>'\n",
              "            + ' to learn more about interactive tables.';\n",
              "          element.innerHTML = '';\n",
              "          dataTable['output_type'] = 'display_data';\n",
              "          await google.colab.output.renderOutput(dataTable, element);\n",
              "          const docLink = document.createElement('div');\n",
              "          docLink.innerHTML = docLinkHtml;\n",
              "          element.appendChild(docLink);\n",
              "        }\n",
              "      </script>\n",
              "    </div>\n",
              "  </div>\n",
              "  "
            ]
          },
          "metadata": {},
          "execution_count": 14
        }
      ]
    },
    {
      "cell_type": "markdown",
      "source": [
        "### Cleansing"
      ],
      "metadata": {
        "id": "oW0ULBViivIt"
      }
    },
    {
      "cell_type": "code",
      "source": [
        "df_selected.info()"
      ],
      "metadata": {
        "colab": {
          "base_uri": "https://localhost:8080/"
        },
        "id": "WxeZAg5znAVN",
        "outputId": "72908121-f5fa-42a7-d3aa-be3ec9c02f61"
      },
      "execution_count": 15,
      "outputs": [
        {
          "output_type": "stream",
          "name": "stdout",
          "text": [
            "<class 'pandas.core.frame.DataFrame'>\n",
            "Int64Index: 14623 entries, 0 to 14622\n",
            "Data columns (total 13 columns):\n",
            " #   Column             Non-Null Count  Dtype  \n",
            "---  ------             --------------  -----  \n",
            " 0   ID                 14623 non-null  int64  \n",
            " 1   item_ID            14623 non-null  int64  \n",
            " 2   product_name       14623 non-null  object \n",
            " 3   brand_name         14623 non-null  object \n",
            " 4   variation_0_color  11858 non-null  object \n",
            " 5   variation_1_color  9651 non-null   object \n",
            " 6   category_name      14623 non-null  object \n",
            " 7   subcategory_name   14623 non-null  object \n",
            " 8   current_price      14613 non-null  object \n",
            " 9   likes_count        14623 non-null  int64  \n",
            " 10  is_new             14623 non-null  int64  \n",
            " 11  codCountry         13448 non-null  object \n",
            " 12  perc.discount      14618 non-null  float64\n",
            "dtypes: float64(1), int64(4), object(8)\n",
            "memory usage: 1.6+ MB\n"
          ]
        }
      ]
    },
    {
      "cell_type": "code",
      "source": [
        "total_missing = pd.isnull(df_selected).sum()\n",
        "rasio =total_missing.div(len(df_selected))\n",
        "rasio"
      ],
      "metadata": {
        "colab": {
          "base_uri": "https://localhost:8080/"
        },
        "id": "Xg2bKvManig6",
        "outputId": "d4fe2f74-fa2b-4b09-923f-9463a6003888"
      },
      "execution_count": 16,
      "outputs": [
        {
          "output_type": "execute_result",
          "data": {
            "text/plain": [
              "ID                   0.000000\n",
              "item_ID              0.000000\n",
              "product_name         0.000000\n",
              "brand_name           0.000000\n",
              "variation_0_color    0.189086\n",
              "variation_1_color    0.340012\n",
              "category_name        0.000000\n",
              "subcategory_name     0.000000\n",
              "current_price        0.000684\n",
              "likes_count          0.000000\n",
              "is_new               0.000000\n",
              "codCountry           0.080353\n",
              "perc.discount        0.000342\n",
              "dtype: float64"
            ]
          },
          "metadata": {},
          "execution_count": 16
        }
      ]
    },
    {
      "cell_type": "markdown",
      "source": [
        "Based on the ratio, none of the columns contain null values above 50%. Therefore, I decided:\n",
        "\n",
        "1. Drop the column variation_0_color and variation_1_color then enter it into a new initiation, namely df_new\n",
        "2. Delete rows in the codCountry column that contain null values\n",
        "3. Replace the null value of perc,discount with the mean or median\n"
      ],
      "metadata": {
        "id": "DFKAK5pIoUmB"
      }
    },
    {
      "cell_type": "code",
      "source": [
        "# 1. Drop column\n",
        "df_new = df_selected.drop(['variation_0_color', 'variation_1_color'], axis=1)"
      ],
      "metadata": {
        "id": "CpggifWcrUuV"
      },
      "execution_count": 17,
      "outputs": []
    },
    {
      "cell_type": "code",
      "source": [
        "# 2. Drop row in column codCountry\n",
        "df_new = df_new.dropna(axis=0, how=\"any\")"
      ],
      "metadata": {
        "id": "Ijj0ACmNsUQH"
      },
      "execution_count": 18,
      "outputs": []
    },
    {
      "cell_type": "code",
      "source": [
        "# 3. Replace null value in column perc.discount\n",
        "\n",
        "df_new['perc.discount'].describe() # To determine whether the filling uses the mean or median value"
      ],
      "metadata": {
        "colab": {
          "base_uri": "https://localhost:8080/"
        },
        "id": "Qll39YmtJXFn",
        "outputId": "2bf7f57f-ce31-4d69-d453-06c19c128689"
      },
      "execution_count": 19,
      "outputs": [
        {
          "output_type": "execute_result",
          "data": {
            "text/plain": [
              "count    13434.000000\n",
              "mean        51.294923\n",
              "std         10.566488\n",
              "min          0.000000\n",
              "25%         45.000000\n",
              "50%         50.000000\n",
              "75%         58.000000\n",
              "max         96.000000\n",
              "Name: perc.discount, dtype: float64"
            ]
          },
          "metadata": {},
          "execution_count": 19
        }
      ]
    },
    {
      "cell_type": "markdown",
      "source": [
        "The perc.discount column has mean and median values that are not too much different. Therefore, the missing value problem can be solved by inputting the missing value with the mean."
      ],
      "metadata": {
        "id": "_EXHkZ_NJ8YZ"
      }
    },
    {
      "cell_type": "code",
      "source": [
        "# Mengubah NaNs dengan nilai Mean \n",
        "df_new['perc.discount'].fillna(int(df_new['perc.discount'].mean()), inplace=True)"
      ],
      "metadata": {
        "id": "XGPpchRfKclz"
      },
      "execution_count": 20,
      "outputs": []
    },
    {
      "cell_type": "code",
      "source": [
        "# check point -> is there still a column containing null values\n",
        "df_new.info()"
      ],
      "metadata": {
        "colab": {
          "base_uri": "https://localhost:8080/"
        },
        "id": "fMOZD972KrOT",
        "outputId": "718b94b0-9e05-43fc-be74-269009025dbf"
      },
      "execution_count": 21,
      "outputs": [
        {
          "output_type": "stream",
          "name": "stdout",
          "text": [
            "<class 'pandas.core.frame.DataFrame'>\n",
            "Int64Index: 13434 entries, 0 to 14622\n",
            "Data columns (total 11 columns):\n",
            " #   Column            Non-Null Count  Dtype  \n",
            "---  ------            --------------  -----  \n",
            " 0   ID                13434 non-null  int64  \n",
            " 1   item_ID           13434 non-null  int64  \n",
            " 2   product_name      13434 non-null  object \n",
            " 3   brand_name        13434 non-null  object \n",
            " 4   category_name     13434 non-null  object \n",
            " 5   subcategory_name  13434 non-null  object \n",
            " 6   current_price     13434 non-null  object \n",
            " 7   likes_count       13434 non-null  int64  \n",
            " 8   is_new            13434 non-null  int64  \n",
            " 9   codCountry        13434 non-null  object \n",
            " 10  perc.discount     13434 non-null  float64\n",
            "dtypes: float64(1), int64(4), object(6)\n",
            "memory usage: 1.2+ MB\n"
          ]
        }
      ]
    },
    {
      "cell_type": "markdown",
      "source": [
        "### Renaming Column"
      ],
      "metadata": {
        "id": "FSypVV4CwYGn"
      }
    },
    {
      "cell_type": "code",
      "source": [
        "df_new = df_new.rename(columns={\"perc.discount\": \"perc_discount\"})"
      ],
      "metadata": {
        "id": "AEHZGk9mwbFz"
      },
      "execution_count": 22,
      "outputs": []
    },
    {
      "cell_type": "markdown",
      "source": [
        "### Duplicates\n"
      ],
      "metadata": {
        "id": "ZIlZfBVJMhud"
      }
    },
    {
      "cell_type": "markdown",
      "source": [
        "The information provided in this case, the ID and item_ID columns are unique numbers. So, there should be no duplicates. Therefore, I checked on those two columns"
      ],
      "metadata": {
        "id": "RwANUJl0oiJj"
      }
    },
    {
      "cell_type": "code",
      "source": [
        "df_new.pivot_table(index=['ID', 'item_ID'], aggfunc='size') # To check unique wuth size column (more precisely, column length)"
      ],
      "metadata": {
        "colab": {
          "base_uri": "https://localhost:8080/"
        },
        "id": "9hy6DR9wMse6",
        "outputId": "2ada4f80-0a56-4809-aec3-25a12cdf1750"
      },
      "execution_count": 23,
      "outputs": [
        {
          "output_type": "execute_result",
          "data": {
            "text/plain": [
              "ID       item_ID\n",
              "27788    4677       1\n",
              "42560    10372      1\n",
              "45211    3658       1\n",
              "48169    1168       1\n",
              "51841    9761       1\n",
              "                   ..\n",
              "1723915  9143       1\n",
              "1723920  9154       1\n",
              "1723924  9155       1\n",
              "1723927  9117       1\n",
              "1724666  7982       1\n",
              "Length: 12944, dtype: int64"
            ]
          },
          "metadata": {},
          "execution_count": 23
        }
      ]
    },
    {
      "cell_type": "markdown",
      "source": [
        "Look, the length of the two columns is < the entire column of df_new, which has duplicates in both of these columns"
      ],
      "metadata": {
        "id": "GFMc_hmDpOGB"
      }
    },
    {
      "cell_type": "code",
      "source": [
        "unique_ID = df_new['ID'].is_unique\n",
        "unique_item_ID = df_new['item_ID'].is_unique\n",
        "\n",
        "if unique_ID == True: #if unique is True, there is no duplicate in case\n",
        "  print (f\"{unique_ID}. In case, there is no duplicate item_ID column\")\n",
        "else: # if unique is False, there is duplicates in case\n",
        "  print (f\"{unique_ID}. In this, the ID column contains duplicates\")\n",
        "\n",
        "print(\"\")\n",
        "\n",
        "if unique_item_ID == True:\n",
        "  print (f\"{unique_item_ID}. In this, there is no duplicate item_ID column\")\n",
        "else:\n",
        "  print (f\"{unique_item_ID}. In this case, the item_ID column contains duplicates\") \n"
      ],
      "metadata": {
        "colab": {
          "base_uri": "https://localhost:8080/"
        },
        "id": "p7kLGzZ6SATX",
        "outputId": "617020bd-9724-44a0-92b3-3b86578b9458"
      },
      "execution_count": 24,
      "outputs": [
        {
          "output_type": "stream",
          "name": "stdout",
          "text": [
            "False. In this, the ID column contains duplicates\n",
            "\n",
            "False. In this case, the item_ID column contains duplicates\n"
          ]
        }
      ]
    },
    {
      "cell_type": "code",
      "source": [
        "df_new.drop_duplicates(subset=['ID'], inplace=True)"
      ],
      "metadata": {
        "id": "Lqf3Ile0U67E"
      },
      "execution_count": 25,
      "outputs": []
    },
    {
      "cell_type": "code",
      "source": [
        "df_new.drop_duplicates(subset=['item_ID'], inplace=True)"
      ],
      "metadata": {
        "id": "em4Dhs4vVWYK"
      },
      "execution_count": 26,
      "outputs": []
    },
    {
      "cell_type": "code",
      "source": [
        "# Checkpoint\n",
        "unique_ID = df_new['ID'].is_unique\n",
        "unique_item_ID = df_new['item_ID'].is_unique\n",
        "\n",
        "if unique_ID == True:\n",
        "  print (f\"{unique_ID}. In case, there is no duplicate ID column\")\n",
        "else:\n",
        "  print (f\"{unique_ID}. In this, the ID column contains duplicates\")\n",
        "\n",
        "print(\"\")\n",
        "\n",
        "if unique_item_ID == True:\n",
        "  print (f\"{unique_item_ID}. In this, there is no duplicate item_ID column\")\n",
        "else:\n",
        "  print (f\"{unique_item_ID}. In this case, the item_ID column contains duplicates\")"
      ],
      "metadata": {
        "colab": {
          "base_uri": "https://localhost:8080/"
        },
        "id": "aNV0UV-qVIH_",
        "outputId": "5b7c10b9-d113-49a6-c608-0ad6491253dc"
      },
      "execution_count": 27,
      "outputs": [
        {
          "output_type": "stream",
          "name": "stdout",
          "text": [
            "True. In case, there is no duplicate ID column\n",
            "\n",
            "True. In this, there is no duplicate item_ID column\n"
          ]
        }
      ]
    },
    {
      "cell_type": "code",
      "source": [
        "df_new[df_new.ID.duplicated(keep=False)].sort_values(\"ID\")"
      ],
      "metadata": {
        "colab": {
          "base_uri": "https://localhost:8080/",
          "height": 49
        },
        "id": "fVIe14lMVkoM",
        "outputId": "e42d8ea6-66fe-41a8-be6a-c46a047d86de"
      },
      "execution_count": 28,
      "outputs": [
        {
          "output_type": "execute_result",
          "data": {
            "text/plain": [
              "Empty DataFrame\n",
              "Columns: [ID, item_ID, product_name, brand_name, category_name, subcategory_name, current_price, likes_count, is_new, codCountry, perc_discount]\n",
              "Index: []"
            ],
            "text/html": [
              "\n",
              "  <div id=\"df-5bb7fcbf-7929-4b52-8b62-b1ceb01fcb88\">\n",
              "    <div class=\"colab-df-container\">\n",
              "      <div>\n",
              "<style scoped>\n",
              "    .dataframe tbody tr th:only-of-type {\n",
              "        vertical-align: middle;\n",
              "    }\n",
              "\n",
              "    .dataframe tbody tr th {\n",
              "        vertical-align: top;\n",
              "    }\n",
              "\n",
              "    .dataframe thead th {\n",
              "        text-align: right;\n",
              "    }\n",
              "</style>\n",
              "<table border=\"1\" class=\"dataframe\">\n",
              "  <thead>\n",
              "    <tr style=\"text-align: right;\">\n",
              "      <th></th>\n",
              "      <th>ID</th>\n",
              "      <th>item_ID</th>\n",
              "      <th>product_name</th>\n",
              "      <th>brand_name</th>\n",
              "      <th>category_name</th>\n",
              "      <th>subcategory_name</th>\n",
              "      <th>current_price</th>\n",
              "      <th>likes_count</th>\n",
              "      <th>is_new</th>\n",
              "      <th>codCountry</th>\n",
              "      <th>perc_discount</th>\n",
              "    </tr>\n",
              "  </thead>\n",
              "  <tbody>\n",
              "  </tbody>\n",
              "</table>\n",
              "</div>\n",
              "      <button class=\"colab-df-convert\" onclick=\"convertToInteractive('df-5bb7fcbf-7929-4b52-8b62-b1ceb01fcb88')\"\n",
              "              title=\"Convert this dataframe to an interactive table.\"\n",
              "              style=\"display:none;\">\n",
              "        \n",
              "  <svg xmlns=\"http://www.w3.org/2000/svg\" height=\"24px\"viewBox=\"0 0 24 24\"\n",
              "       width=\"24px\">\n",
              "    <path d=\"M0 0h24v24H0V0z\" fill=\"none\"/>\n",
              "    <path d=\"M18.56 5.44l.94 2.06.94-2.06 2.06-.94-2.06-.94-.94-2.06-.94 2.06-2.06.94zm-11 1L8.5 8.5l.94-2.06 2.06-.94-2.06-.94L8.5 2.5l-.94 2.06-2.06.94zm10 10l.94 2.06.94-2.06 2.06-.94-2.06-.94-.94-2.06-.94 2.06-2.06.94z\"/><path d=\"M17.41 7.96l-1.37-1.37c-.4-.4-.92-.59-1.43-.59-.52 0-1.04.2-1.43.59L10.3 9.45l-7.72 7.72c-.78.78-.78 2.05 0 2.83L4 21.41c.39.39.9.59 1.41.59.51 0 1.02-.2 1.41-.59l7.78-7.78 2.81-2.81c.8-.78.8-2.07 0-2.86zM5.41 20L4 18.59l7.72-7.72 1.47 1.35L5.41 20z\"/>\n",
              "  </svg>\n",
              "      </button>\n",
              "      \n",
              "  <style>\n",
              "    .colab-df-container {\n",
              "      display:flex;\n",
              "      flex-wrap:wrap;\n",
              "      gap: 12px;\n",
              "    }\n",
              "\n",
              "    .colab-df-convert {\n",
              "      background-color: #E8F0FE;\n",
              "      border: none;\n",
              "      border-radius: 50%;\n",
              "      cursor: pointer;\n",
              "      display: none;\n",
              "      fill: #1967D2;\n",
              "      height: 32px;\n",
              "      padding: 0 0 0 0;\n",
              "      width: 32px;\n",
              "    }\n",
              "\n",
              "    .colab-df-convert:hover {\n",
              "      background-color: #E2EBFA;\n",
              "      box-shadow: 0px 1px 2px rgba(60, 64, 67, 0.3), 0px 1px 3px 1px rgba(60, 64, 67, 0.15);\n",
              "      fill: #174EA6;\n",
              "    }\n",
              "\n",
              "    [theme=dark] .colab-df-convert {\n",
              "      background-color: #3B4455;\n",
              "      fill: #D2E3FC;\n",
              "    }\n",
              "\n",
              "    [theme=dark] .colab-df-convert:hover {\n",
              "      background-color: #434B5C;\n",
              "      box-shadow: 0px 1px 3px 1px rgba(0, 0, 0, 0.15);\n",
              "      filter: drop-shadow(0px 1px 2px rgba(0, 0, 0, 0.3));\n",
              "      fill: #FFFFFF;\n",
              "    }\n",
              "  </style>\n",
              "\n",
              "      <script>\n",
              "        const buttonEl =\n",
              "          document.querySelector('#df-5bb7fcbf-7929-4b52-8b62-b1ceb01fcb88 button.colab-df-convert');\n",
              "        buttonEl.style.display =\n",
              "          google.colab.kernel.accessAllowed ? 'block' : 'none';\n",
              "\n",
              "        async function convertToInteractive(key) {\n",
              "          const element = document.querySelector('#df-5bb7fcbf-7929-4b52-8b62-b1ceb01fcb88');\n",
              "          const dataTable =\n",
              "            await google.colab.kernel.invokeFunction('convertToInteractive',\n",
              "                                                     [key], {});\n",
              "          if (!dataTable) return;\n",
              "\n",
              "          const docLinkHtml = 'Like what you see? Visit the ' +\n",
              "            '<a target=\"_blank\" href=https://colab.research.google.com/notebooks/data_table.ipynb>data table notebook</a>'\n",
              "            + ' to learn more about interactive tables.';\n",
              "          element.innerHTML = '';\n",
              "          dataTable['output_type'] = 'display_data';\n",
              "          await google.colab.output.renderOutput(dataTable, element);\n",
              "          const docLink = document.createElement('div');\n",
              "          docLink.innerHTML = docLinkHtml;\n",
              "          element.appendChild(docLink);\n",
              "        }\n",
              "      </script>\n",
              "    </div>\n",
              "  </div>\n",
              "  "
            ]
          },
          "metadata": {},
          "execution_count": 28
        }
      ]
    },
    {
      "cell_type": "code",
      "source": [
        "df_new[df_new.item_ID.duplicated(keep=False)].sort_values(\"item_ID\")"
      ],
      "metadata": {
        "colab": {
          "base_uri": "https://localhost:8080/",
          "height": 49
        },
        "id": "wJcF-Ef0Vub7",
        "outputId": "dfc319b2-a4b5-4f61-d987-33ad479d90c5"
      },
      "execution_count": 29,
      "outputs": [
        {
          "output_type": "execute_result",
          "data": {
            "text/plain": [
              "Empty DataFrame\n",
              "Columns: [ID, item_ID, product_name, brand_name, category_name, subcategory_name, current_price, likes_count, is_new, codCountry, perc_discount]\n",
              "Index: []"
            ],
            "text/html": [
              "\n",
              "  <div id=\"df-3a6c1166-4155-4e2a-acdc-4128663832e4\">\n",
              "    <div class=\"colab-df-container\">\n",
              "      <div>\n",
              "<style scoped>\n",
              "    .dataframe tbody tr th:only-of-type {\n",
              "        vertical-align: middle;\n",
              "    }\n",
              "\n",
              "    .dataframe tbody tr th {\n",
              "        vertical-align: top;\n",
              "    }\n",
              "\n",
              "    .dataframe thead th {\n",
              "        text-align: right;\n",
              "    }\n",
              "</style>\n",
              "<table border=\"1\" class=\"dataframe\">\n",
              "  <thead>\n",
              "    <tr style=\"text-align: right;\">\n",
              "      <th></th>\n",
              "      <th>ID</th>\n",
              "      <th>item_ID</th>\n",
              "      <th>product_name</th>\n",
              "      <th>brand_name</th>\n",
              "      <th>category_name</th>\n",
              "      <th>subcategory_name</th>\n",
              "      <th>current_price</th>\n",
              "      <th>likes_count</th>\n",
              "      <th>is_new</th>\n",
              "      <th>codCountry</th>\n",
              "      <th>perc_discount</th>\n",
              "    </tr>\n",
              "  </thead>\n",
              "  <tbody>\n",
              "  </tbody>\n",
              "</table>\n",
              "</div>\n",
              "      <button class=\"colab-df-convert\" onclick=\"convertToInteractive('df-3a6c1166-4155-4e2a-acdc-4128663832e4')\"\n",
              "              title=\"Convert this dataframe to an interactive table.\"\n",
              "              style=\"display:none;\">\n",
              "        \n",
              "  <svg xmlns=\"http://www.w3.org/2000/svg\" height=\"24px\"viewBox=\"0 0 24 24\"\n",
              "       width=\"24px\">\n",
              "    <path d=\"M0 0h24v24H0V0z\" fill=\"none\"/>\n",
              "    <path d=\"M18.56 5.44l.94 2.06.94-2.06 2.06-.94-2.06-.94-.94-2.06-.94 2.06-2.06.94zm-11 1L8.5 8.5l.94-2.06 2.06-.94-2.06-.94L8.5 2.5l-.94 2.06-2.06.94zm10 10l.94 2.06.94-2.06 2.06-.94-2.06-.94-.94-2.06-.94 2.06-2.06.94z\"/><path d=\"M17.41 7.96l-1.37-1.37c-.4-.4-.92-.59-1.43-.59-.52 0-1.04.2-1.43.59L10.3 9.45l-7.72 7.72c-.78.78-.78 2.05 0 2.83L4 21.41c.39.39.9.59 1.41.59.51 0 1.02-.2 1.41-.59l7.78-7.78 2.81-2.81c.8-.78.8-2.07 0-2.86zM5.41 20L4 18.59l7.72-7.72 1.47 1.35L5.41 20z\"/>\n",
              "  </svg>\n",
              "      </button>\n",
              "      \n",
              "  <style>\n",
              "    .colab-df-container {\n",
              "      display:flex;\n",
              "      flex-wrap:wrap;\n",
              "      gap: 12px;\n",
              "    }\n",
              "\n",
              "    .colab-df-convert {\n",
              "      background-color: #E8F0FE;\n",
              "      border: none;\n",
              "      border-radius: 50%;\n",
              "      cursor: pointer;\n",
              "      display: none;\n",
              "      fill: #1967D2;\n",
              "      height: 32px;\n",
              "      padding: 0 0 0 0;\n",
              "      width: 32px;\n",
              "    }\n",
              "\n",
              "    .colab-df-convert:hover {\n",
              "      background-color: #E2EBFA;\n",
              "      box-shadow: 0px 1px 2px rgba(60, 64, 67, 0.3), 0px 1px 3px 1px rgba(60, 64, 67, 0.15);\n",
              "      fill: #174EA6;\n",
              "    }\n",
              "\n",
              "    [theme=dark] .colab-df-convert {\n",
              "      background-color: #3B4455;\n",
              "      fill: #D2E3FC;\n",
              "    }\n",
              "\n",
              "    [theme=dark] .colab-df-convert:hover {\n",
              "      background-color: #434B5C;\n",
              "      box-shadow: 0px 1px 3px 1px rgba(0, 0, 0, 0.15);\n",
              "      filter: drop-shadow(0px 1px 2px rgba(0, 0, 0, 0.3));\n",
              "      fill: #FFFFFF;\n",
              "    }\n",
              "  </style>\n",
              "\n",
              "      <script>\n",
              "        const buttonEl =\n",
              "          document.querySelector('#df-3a6c1166-4155-4e2a-acdc-4128663832e4 button.colab-df-convert');\n",
              "        buttonEl.style.display =\n",
              "          google.colab.kernel.accessAllowed ? 'block' : 'none';\n",
              "\n",
              "        async function convertToInteractive(key) {\n",
              "          const element = document.querySelector('#df-3a6c1166-4155-4e2a-acdc-4128663832e4');\n",
              "          const dataTable =\n",
              "            await google.colab.kernel.invokeFunction('convertToInteractive',\n",
              "                                                     [key], {});\n",
              "          if (!dataTable) return;\n",
              "\n",
              "          const docLinkHtml = 'Like what you see? Visit the ' +\n",
              "            '<a target=\"_blank\" href=https://colab.research.google.com/notebooks/data_table.ipynb>data table notebook</a>'\n",
              "            + ' to learn more about interactive tables.';\n",
              "          element.innerHTML = '';\n",
              "          dataTable['output_type'] = 'display_data';\n",
              "          await google.colab.output.renderOutput(dataTable, element);\n",
              "          const docLink = document.createElement('div');\n",
              "          docLink.innerHTML = docLinkHtml;\n",
              "          element.appendChild(docLink);\n",
              "        }\n",
              "      </script>\n",
              "    </div>\n",
              "  </div>\n",
              "  "
            ]
          },
          "metadata": {},
          "execution_count": 29
        }
      ]
    },
    {
      "cell_type": "markdown",
      "source": [
        "### Changing Data Types"
      ],
      "metadata": {
        "id": "NkY06r1kbqk9"
      }
    },
    {
      "cell_type": "code",
      "source": [
        "df_new.info() #Checking"
      ],
      "metadata": {
        "colab": {
          "base_uri": "https://localhost:8080/"
        },
        "id": "AyqV0uZ1b0PU",
        "outputId": "ce217078-5bec-4087-fa25-bdeb55ff96d1"
      },
      "execution_count": 30,
      "outputs": [
        {
          "output_type": "stream",
          "name": "stdout",
          "text": [
            "<class 'pandas.core.frame.DataFrame'>\n",
            "Int64Index: 12848 entries, 0 to 14622\n",
            "Data columns (total 11 columns):\n",
            " #   Column            Non-Null Count  Dtype  \n",
            "---  ------            --------------  -----  \n",
            " 0   ID                12848 non-null  int64  \n",
            " 1   item_ID           12848 non-null  int64  \n",
            " 2   product_name      12848 non-null  object \n",
            " 3   brand_name        12848 non-null  object \n",
            " 4   category_name     12848 non-null  object \n",
            " 5   subcategory_name  12848 non-null  object \n",
            " 6   current_price     12848 non-null  object \n",
            " 7   likes_count       12848 non-null  int64  \n",
            " 8   is_new            12848 non-null  int64  \n",
            " 9   codCountry        12848 non-null  object \n",
            " 10  perc_discount     12848 non-null  float64\n",
            "dtypes: float64(1), int64(4), object(6)\n",
            "memory usage: 1.2+ MB\n"
          ]
        }
      ]
    },
    {
      "cell_type": "markdown",
      "source": [
        "- The ID and item_ID columns contain unique value numbers that are not intended for calculation. Therefore, the two columns should be of type object, not int.\n",
        "- The current_price column contains the prices of each item, which should be of type int or float depending on whether it is continuous or discrete"
      ],
      "metadata": {
        "id": "Reyy5VwdcIjA"
      }
    },
    {
      "cell_type": "code",
      "source": [
        "# Changing Datatypes column ID and Item_ID\n",
        "change_columns = ['ID','item_ID', 'is_new']\n",
        "for cc in change_columns:\n",
        "  df_new[cc] = df_new[cc].astype(str)"
      ],
      "metadata": {
        "id": "BolV5sdDdmD5"
      },
      "execution_count": 31,
      "outputs": []
    },
    {
      "cell_type": "code",
      "source": [
        "df_new['current_price'] "
      ],
      "metadata": {
        "colab": {
          "base_uri": "https://localhost:8080/"
        },
        "id": "uyc6iWskeO0X",
        "outputId": "0af3f43d-990c-429c-b8ca-9b1627f4de0b"
      },
      "execution_count": 32,
      "outputs": [
        {
          "output_type": "execute_result",
          "data": {
            "text/plain": [
              "0        21.48 USD\n",
              "1        22.99 USD\n",
              "2         1.59 USD\n",
              "3        19.03 USD\n",
              "4        21.99 USD\n",
              "           ...    \n",
              "14618    29.99 USD\n",
              "14619    32.99 USD\n",
              "14620    32.99 USD\n",
              "14621    29.99 USD\n",
              "14622    98.99 USD\n",
              "Name: current_price, Length: 12848, dtype: object"
            ]
          },
          "metadata": {},
          "execution_count": 32
        }
      ]
    },
    {
      "cell_type": "code",
      "source": [
        "# Menghilangkan USD pada kolom current_price\n",
        "df_new['current_price']=df_new['current_price'].str.replace(' USD', '')"
      ],
      "metadata": {
        "id": "bWnlrIRykzIW"
      },
      "execution_count": 33,
      "outputs": []
    },
    {
      "cell_type": "code",
      "source": [
        "# Mengubah tipe data menjadi float\n",
        "df_new['current_price'] = df_new['current_price'].astype(float)"
      ],
      "metadata": {
        "id": "qFkGUEEpeVrk"
      },
      "execution_count": 34,
      "outputs": []
    },
    {
      "cell_type": "code",
      "source": [
        "df_new.info()"
      ],
      "metadata": {
        "colab": {
          "base_uri": "https://localhost:8080/"
        },
        "id": "mbNXIy4Jj1aC",
        "outputId": "c4b970fd-6d3d-4746-b42b-214b9df7ea05"
      },
      "execution_count": 35,
      "outputs": [
        {
          "output_type": "stream",
          "name": "stdout",
          "text": [
            "<class 'pandas.core.frame.DataFrame'>\n",
            "Int64Index: 12848 entries, 0 to 14622\n",
            "Data columns (total 11 columns):\n",
            " #   Column            Non-Null Count  Dtype  \n",
            "---  ------            --------------  -----  \n",
            " 0   ID                12848 non-null  object \n",
            " 1   item_ID           12848 non-null  object \n",
            " 2   product_name      12848 non-null  object \n",
            " 3   brand_name        12848 non-null  object \n",
            " 4   category_name     12848 non-null  object \n",
            " 5   subcategory_name  12848 non-null  object \n",
            " 6   current_price     12848 non-null  float64\n",
            " 7   likes_count       12848 non-null  int64  \n",
            " 8   is_new            12848 non-null  object \n",
            " 9   codCountry        12848 non-null  object \n",
            " 10  perc_discount     12848 non-null  float64\n",
            "dtypes: float64(2), int64(1), object(8)\n",
            "memory usage: 1.2+ MB\n"
          ]
        }
      ]
    },
    {
      "cell_type": "markdown",
      "source": [
        "### Outliers"
      ],
      "metadata": {
        "id": "Jh_b8oK9mdhV"
      }
    },
    {
      "cell_type": "code",
      "source": [
        "df_numeric = df_new[['current_price', 'likes_count', 'perc_discount','is_new']]\n",
        "df_numeric = df_numeric.dropna()"
      ],
      "metadata": {
        "id": "TQYSWiZfvjQX"
      },
      "execution_count": 36,
      "outputs": []
    },
    {
      "cell_type": "markdown",
      "source": [
        "This is the reason why I decided to separate numeric data to new iniation:\n",
        "1. I'm afraid the outliers to be handled detect anomalies in the data values, which could affect the decision (especially when it comes to like counts and current_price)\n",
        "2. But at the same time, I also seem to have to work around outliers to see the difference between the mean and median"
      ],
      "metadata": {
        "id": "aEfbszJblTNw"
      }
    },
    {
      "cell_type": "markdown",
      "source": [
        "Handling Outliers\n",
        "\n",
        "\n",
        "I do this to check the mean and median after outliers in the data are resolved, not for exploratory data analysis (EDA) or visualization."
      ],
      "metadata": {
        "id": "kzRB2iQqsueA"
      }
    },
    {
      "cell_type": "code",
      "source": [
        "# Deteksi dengan boxplot\n",
        "plt.boxplot(list(df_numeric.likes_count), vert=False)\n",
        "plt.title(\"Outliers using Boxplot in likes count\")\n",
        "plt.xlabel('Sample')"
      ],
      "metadata": {
        "colab": {
          "base_uri": "https://localhost:8080/",
          "height": 312
        },
        "id": "YpRcahFBuB0D",
        "outputId": "de7f681e-b08c-40b0-c3c7-df6ecb2c04c6"
      },
      "execution_count": 37,
      "outputs": [
        {
          "output_type": "execute_result",
          "data": {
            "text/plain": [
              "Text(0.5, 0, 'Sample')"
            ]
          },
          "metadata": {},
          "execution_count": 37
        },
        {
          "output_type": "display_data",
          "data": {
            "text/plain": [
              "<Figure size 432x288 with 1 Axes>"
            ],
            "image/png": "[encoded data removed]"
          },
          "metadata": {
            "needs_background": "light"
          }
        }
      ]
    },
    {
      "cell_type": "code",
      "source": [
        "def detect_outliers_iqr(data): #This funtion used to be detect outlier with interquartile range(iqr)\n",
        "    outliers = []\n",
        "    data = sorted(data)\n",
        "    q1 = np.percentile(data, 25)\n",
        "    q3 = np.percentile(data, 75)\n",
        "\n",
        "    IQR = q3-q1\n",
        "    lwr_bound = q1-(1.5*IQR)\n",
        "    upr_bound = q3+(1.5*IQR)\n",
        "\n",
        "    for i in data: \n",
        "        if (i<lwr_bound or i>upr_bound):\n",
        "            outliers.append(i)\n",
        "    return outliers\n"
      ],
      "metadata": {
        "id": "BGkTli2DGX2v"
      },
      "execution_count": 38,
      "outputs": []
    },
    {
      "cell_type": "code",
      "source": [
        "# Detect Outlier with IQR in likes count\n",
        "monthly_outliers_likes = detect_outliers_iqr(list(df_numeric.likes_count))\n",
        "print(\"Outliers from IQR method: \", monthly_outliers_likes)"
      ],
      "metadata": {
        "colab": {
          "base_uri": "https://localhost:8080/"
        },
        "id": "hyskjbiBFn1e",
        "outputId": "cb7b8ec9-813b-4e3c-d448-f883c3e26c44"
      },
      "execution_count": 39,
      "outputs": [
        {
          "output_type": "stream",
          "name": "stdout",
          "text": [
            "Outliers from IQR method:  [560, 560, 560, 561, 561, 561, 562, 563, 565, 565, 566, 566, 566, 567, 567, 567, 567, 567, 568, 568, 568, 568, 569, 569, 569, 570, 570, 570, 571, 571, 571, 572, 572, 572, 573, 573, 573, 573, 573, 574, 574, 574, 574, 574, 574, 574, 575, 575, 575, 575, 576, 576, 577, 577, 577, 578, 578, 579, 579, 579, 579, 580, 580, 580, 580, 580, 580, 581, 581, 582, 583, 583, 584, 584, 584, 585, 587, 587, 587, 588, 588, 588, 589, 589, 589, 589, 589, 590, 590, 590, 591, 592, 592, 594, 594, 594, 594, 595, 595, 596, 596, 596, 596, 596, 596, 596, 596, 597, 597, 597, 598, 598, 598, 599, 599, 599, 599, 599, 599, 600, 600, 600, 601, 601, 602, 602, 603, 603, 604, 604, 605, 605, 605, 605, 606, 606, 608, 608, 609, 609, 609, 610, 610, 610, 610, 610, 611, 611, 612, 612, 612, 613, 613, 613, 613, 614, 614, 615, 615, 615, 615, 616, 617, 618, 618, 619, 619, 619, 619, 620, 620, 620, 622, 622, 622, 622, 622, 622, 622, 622, 623, 623, 624, 624, 625, 625, 625, 626, 626, 627, 627, 628, 629, 629, 629, 630, 631, 631, 632, 633, 633, 633, 634, 634, 634, 634, 635, 637, 638, 638, 639, 639, 640, 640, 640, 641, 642, 642, 642, 642, 643, 643, 644, 644, 644, 645, 645, 647, 647, 648, 648, 648, 648, 650, 650, 651, 651, 652, 653, 653, 654, 654, 655, 656, 657, 657, 657, 657, 658, 659, 660, 660, 661, 661, 661, 661, 662, 662, 662, 663, 664, 664, 664, 664, 664, 664, 665, 665, 665, 667, 667, 667, 672, 673, 673, 674, 674, 674, 674, 674, 677, 677, 679, 680, 680, 680, 681, 681, 681, 682, 682, 682, 683, 683, 685, 685, 685, 685, 686, 686, 686, 687, 687, 687, 689, 690, 692, 693, 693, 693, 694, 695, 695, 695, 696, 696, 696, 697, 698, 698, 698, 699, 699, 700, 700, 700, 700, 702, 702, 703, 703, 703, 703, 704, 704, 704, 705, 706, 707, 708, 709, 710, 710, 711, 712, 712, 713, 713, 713, 713, 714, 715, 715, 716, 716, 716, 716, 717, 717, 718, 718, 719, 719, 719, 721, 722, 723, 724, 725, 725, 726, 726, 727, 727, 728, 729, 730, 731, 731, 732, 732, 732, 733, 734, 734, 734, 735, 736, 737, 737, 737, 739, 739, 739, 740, 740, 741, 743, 743, 743, 744, 745, 746, 746, 746, 749, 751, 752, 755, 755, 756, 758, 758, 759, 759, 759, 760, 760, 761, 761, 761, 761, 762, 763, 763, 764, 764, 764, 765, 766, 766, 767, 768, 768, 768, 769, 770, 770, 770, 771, 771, 771, 772, 773, 774, 775, 775, 775, 776, 776, 778, 778, 779, 780, 781, 781, 781, 782, 782, 783, 783, 783, 783, 783, 784, 785, 788, 788, 790, 790, 790, 792, 795, 796, 797, 798, 798, 798, 799, 799, 801, 802, 803, 803, 804, 804, 805, 805, 806, 808, 808, 809, 810, 810, 811, 812, 812, 812, 813, 815, 815, 816, 816, 817, 818, 818, 822, 822, 822, 824, 826, 826, 828, 829, 829, 830, 830, 831, 833, 833, 833, 834, 834, 835, 835, 836, 837, 837, 837, 838, 838, 839, 839, 840, 841, 841, 842, 843, 844, 845, 845, 848, 849, 849, 850, 851, 852, 853, 853, 855, 855, 857, 857, 857, 857, 857, 857, 858, 860, 862, 862, 863, 863, 864, 864, 864, 866, 866, 867, 867, 868, 868, 868, 870, 870, 871, 872, 874, 875, 877, 877, 877, 877, 878, 879, 880, 880, 882, 883, 885, 885, 885, 885, 888, 889, 890, 890, 891, 892, 893, 895, 899, 901, 902, 902, 902, 903, 903, 905, 907, 908, 911, 912, 912, 916, 917, 918, 921, 921, 925, 925, 925, 925, 925, 929, 929, 930, 932, 932, 933, 934, 934, 934, 935, 935, 936, 937, 939, 940, 941, 941, 942, 944, 945, 945, 947, 948, 949, 950, 952, 952, 953, 954, 954, 955, 956, 957, 959, 959, 960, 963, 965, 965, 966, 967, 968, 969, 970, 971, 972, 973, 974, 976, 976, 977, 979, 979, 979, 981, 982, 983, 983, 985, 987, 989, 990, 990, 990, 992, 992, 992, 993, 996, 996, 997, 998, 1000, 1003, 1003, 1004, 1005, 1005, 1006, 1007, 1010, 1015, 1016, 1016, 1018, 1018, 1020, 1024, 1025, 1027, 1028, 1029, 1029, 1030, 1030, 1030, 1036, 1037, 1039, 1041, 1042, 1043, 1043, 1043, 1047, 1050, 1050, 1052, 1052, 1053, 1056, 1057, 1059, 1060, 1060, 1061, 1066, 1067, 1069, 1069, 1071, 1071, 1072, 1073, 1075, 1077, 1077, 1083, 1084, 1090, 1091, 1092, 1096, 1096, 1097, 1099, 1101, 1101, 1102, 1105, 1106, 1107, 1109, 1109, 1111, 1112, 1114, 1114, 1116, 1123, 1126, 1132, 1133, 1135, 1135, 1143, 1144, 1148, 1148, 1149, 1149, 1151, 1155, 1155, 1159, 1162, 1163, 1164, 1165, 1165, 1167, 1168, 1170, 1170, 1172, 1172, 1176, 1176, 1177, 1178, 1179, 1180, 1181, 1181, 1184, 1187, 1187, 1193, 1193, 1194, 1195, 1196, 1199, 1199, 1200, 1202, 1205, 1206, 1208, 1210, 1211, 1214, 1215, 1216, 1217, 1220, 1222, 1227, 1231, 1235, 1242, 1243, 1251, 1252, 1255, 1257, 1266, 1269, 1274, 1275, 1276, 1277, 1279, 1280, 1282, 1282, 1283, 1284, 1285, 1289, 1296, 1298, 1299, 1299, 1302, 1304, 1305, 1315, 1315, 1315, 1316, 1318, 1320, 1321, 1321, 1323, 1323, 1330, 1330, 1334, 1335, 1336, 1339, 1341, 1342, 1344, 1345, 1346, 1349, 1354, 1354, 1355, 1358, 1358, 1365, 1369, 1373, 1377, 1381, 1382, 1383, 1384, 1384, 1385, 1386, 1389, 1391, 1393, 1395, 1397, 1400, 1406, 1412, 1414, 1415, 1417, 1417, 1417, 1418, 1427, 1433, 1439, 1442, 1445, 1445, 1446, 1447, 1450, 1466, 1470, 1476, 1478, 1479, 1480, 1486, 1486, 1488, 1489, 1496, 1501, 1502, 1502, 1504, 1505, 1507, 1508, 1509, 1511, 1515, 1518, 1521, 1525, 1527, 1530, 1534, 1536, 1536, 1538, 1539, 1544, 1545, 1547, 1556, 1559, 1560, 1561, 1565, 1565, 1567, 1570, 1575, 1576, 1577, 1580, 1582, 1584, 1584, 1590, 1590, 1592, 1599, 1602, 1605, 1608, 1615, 1616, 1617, 1622, 1625, 1628, 1629, 1635, 1637, 1639, 1642, 1643, 1643, 1645, 1646, 1647, 1648, 1648, 1649, 1655, 1656, 1656, 1657, 1658, 1658, 1659, 1659, 1660, 1660, 1663, 1667, 1671, 1672, 1675, 1679, 1679, 1686, 1688, 1690, 1693, 1701, 1701, 1706, 1709, 1710, 1710, 1712, 1715, 1718, 1719, 1721, 1725, 1726, 1730, 1730, 1732, 1771, 1772, 1780, 1787, 1790, 1793, 1798, 1799, 1803, 1804, 1808, 1808, 1809, 1810, 1810, 1813, 1813, 1814, 1815, 1816, 1821, 1825, 1827, 1838, 1843, 1846, 1849, 1858, 1862, 1864, 1866, 1870, 1875, 1876, 1884, 1886, 1887, 1887, 1889, 1897, 1899, 1900, 1900, 1900, 1904, 1905, 1906, 1908, 1911, 1935, 1939, 1955, 1959, 1963, 1964, 1969, 1971, 1972, 1974, 1984, 1990, 2002, 2010, 2017, 2034, 2054, 2067, 2070, 2075, 2081, 2082, 2082, 2082, 2090, 2095, 2099, 2106, 2121, 2123, 2134, 2153, 2156, 2162, 2165, 2168, 2169, 2170, 2173, 2182, 2182, 2186, 2188, 2207, 2219, 2229, 2231, 2239, 2242, 2243, 2251, 2252, 2259, 2264, 2266, 2274, 2274, 2289, 2293, 2300, 2302, 2315, 2318, 2321, 2322, 2333, 2336, 2359, 2363, 2374, 2379, 2381, 2388, 2406, 2414, 2415, 2445, 2451, 2493, 2497, 2502, 2508, 2510, 2536, 2538, 2540, 2547, 2555, 2572, 2583, 2599, 2599, 2601, 2619, 2640, 2661, 2663, 2674, 2676, 2680, 2692, 2693, 2694, 2712, 2730, 2737, 2768, 2771, 2771, 2785, 2797, 2812, 2826, 2865, 2886, 2899, 2907, 2914, 2934, 2937, 2951, 2965, 2967, 2968, 2979, 2985, 3003, 3008, 3012, 3023, 3029, 3045, 3060, 3062, 3091, 3095, 3119, 3137, 3145, 3166, 3178, 3179, 3192, 3193, 3200, 3204, 3216, 3226, 3234, 3234, 3250, 3254, 3301, 3323, 3332, 3358, 3414, 3440, 3474, 3484, 3485, 3486, 3486, 3492, 3529, 3539, 3542, 3553, 3555, 3566, 3605, 3611, 3638, 3651, 3658, 3679, 3704, 3712, 3727, 3739, 3755, 3792, 3819, 3823, 3854, 3855, 3890, 3909, 3938, 4049, 4052, 4072, 4096, 4164, 4196, 4295, 4367, 4368, 4374, 4393, 4434, 4439, 4442, 4473, 4496, 4513, 4515, 4548, 4549, 4580, 4637, 4639, 4670, 4716, 4726, 4742, 4779, 4817, 4821, 4842, 4902, 4986, 5030, 5175, 5186, 5219, 5246, 5266, 5389, 5393, 5439, 5557, 5568, 5600, 5646, 5678, 5796, 5811, 5818, 5990, 6014, 6042, 6194, 6481, 6570, 6611, 6635, 6744, 6758, 6832, 6908, 7065, 7254, 7320, 7454, 7660, 7784, 8224, 8248, 8320, 8351, 8662, 8872, 9385, 9664, 9692, 9841, 10965, 12005, 12227, 12482, 13615, 15203]\n"
          ]
        }
      ]
    },
    {
      "cell_type": "code",
      "source": [
        "# Replace with Median\n",
        "e = []\n",
        "for y in list(df_numeric.likes_count): # This loop tu append value column likes count into e list \n",
        "    ff = y in monthly_outliers_likes\n",
        "    if ff is True:\n",
        "        y=statistics.median(list(df_numeric.likes_count))\n",
        "    else:\n",
        "        y=y\n",
        "    e.append(y)"
      ],
      "metadata": {
        "id": "baZ-_ijwFTK3"
      },
      "execution_count": 40,
      "outputs": []
    },
    {
      "cell_type": "code",
      "source": [
        "# Before, after (handling outlier) = mean and median data\n",
        "print(\"Mean data : \",statistics.mean(list(df_numeric.likes_count)))\n",
        "print(\"Median data : \",statistics.median(list(df_numeric.likes_count)))\n",
        "print(\"Mean after replacing with value median : \",statistics.mean(e))\n",
        "print(\"Median after replacing with value median: \",statistics.median(e))"
      ],
      "metadata": {
        "colab": {
          "base_uri": "https://localhost:8080/"
        },
        "id": "QKkHV0LNGx_b",
        "outputId": "52f79536-c5f3-43f0-b8ba-00aa0dae10b0"
      },
      "execution_count": 41,
      "outputs": [
        {
          "output_type": "stream",
          "name": "stdout",
          "text": [
            "Mean data :  279.41360523038605\n",
            "Median data :  103.0\n",
            "Mean after replacing with value median :  126.9891811955168\n",
            "Median after replacing with value median:  103.0\n"
          ]
        }
      ]
    },
    {
      "cell_type": "code",
      "source": [
        "# Deleting\n",
        "tr = []\n",
        "for j in list(df_numeric.likes_count):\n",
        "    f = j in monthly_outliers_likes\n",
        "    if f is False:\n",
        "        tr.append(j)"
      ],
      "metadata": {
        "id": "dCAVjAGAKyXM"
      },
      "execution_count": 42,
      "outputs": []
    },
    {
      "cell_type": "code",
      "source": [
        "print(\"The amount of data before it is resolved outliers: \",len(list(df_new.likes_count)))\n",
        "print(\"Amount of data after outliers are resolved: \",len(tr))"
      ],
      "metadata": {
        "colab": {
          "base_uri": "https://localhost:8080/"
        },
        "id": "IE8gzow3LGXk",
        "outputId": "89b17ebc-3d1f-4dd1-ac62-a598e2aa39a8"
      },
      "execution_count": 43,
      "outputs": [
        {
          "output_type": "stream",
          "name": "stdout",
          "text": [
            "The amount of data before it is resolved outliers:  12848\n",
            "Amount of data after outliers are resolved:  11492\n"
          ]
        }
      ]
    },
    {
      "cell_type": "code",
      "source": [
        "# Value mean and median data before after deleting\n",
        "print(\"Mean data : \",statistics.mean(list(df_numeric.likes_count)))\n",
        "print(\"Median data : \",statistics.median(list(df_numeric.likes_count)))\n",
        "print(\"Mean data after deleting data outliers: \",statistics.mean(tr))\n",
        "print(\"Median data after deleting data outliers: \",statistics.median(tr))"
      ],
      "metadata": {
        "colab": {
          "base_uri": "https://localhost:8080/"
        },
        "id": "rcjBlhiyLr-x",
        "outputId": "2d52d391-d904-4ec1-c44e-06252d4999d8"
      },
      "execution_count": 44,
      "outputs": [
        {
          "output_type": "stream",
          "name": "stdout",
          "text": [
            "Mean data :  279.41360523038605\n",
            "Median data :  103.0\n",
            "Mean data after deleting data outliers:  129.81978767838496\n",
            "Median data after deleting data outliers:  87.0\n"
          ]
        }
      ]
    },
    {
      "cell_type": "markdown",
      "source": [
        "Whether deleting method or changing the median value in case likes count, the value after being overcome has a fairly large gap. So, back to the point at the beginning, I decided to stick with df_new (no handling outliers) which I will export to csv for EDA needs. This is because of the fear of value missing, that i expressed at the beginning"
      ],
      "metadata": {
        "id": "NlAgY2rPQ-EY"
      }
    },
    {
      "cell_type": "markdown",
      "source": [
        "### Export Data to CSV"
      ],
      "metadata": {
        "id": "8g87kX-KmkLO"
      }
    },
    {
      "cell_type": "markdown",
      "source": [
        "First of all, I'll check what I've been working on above "
      ],
      "metadata": {
        "id": "D4qwqF5roBDG"
      }
    },
    {
      "cell_type": "code",
      "source": [
        "df_new.info() #Check Datatypes and Null "
      ],
      "metadata": {
        "colab": {
          "base_uri": "https://localhost:8080/"
        },
        "id": "_VOPzGoRn6st",
        "outputId": "129abbc3-0038-4053-a769-60dfb13414f5"
      },
      "execution_count": 45,
      "outputs": [
        {
          "output_type": "stream",
          "name": "stdout",
          "text": [
            "<class 'pandas.core.frame.DataFrame'>\n",
            "Int64Index: 12848 entries, 0 to 14622\n",
            "Data columns (total 11 columns):\n",
            " #   Column            Non-Null Count  Dtype  \n",
            "---  ------            --------------  -----  \n",
            " 0   ID                12848 non-null  object \n",
            " 1   item_ID           12848 non-null  object \n",
            " 2   product_name      12848 non-null  object \n",
            " 3   brand_name        12848 non-null  object \n",
            " 4   category_name     12848 non-null  object \n",
            " 5   subcategory_name  12848 non-null  object \n",
            " 6   current_price     12848 non-null  float64\n",
            " 7   likes_count       12848 non-null  int64  \n",
            " 8   is_new            12848 non-null  object \n",
            " 9   codCountry        12848 non-null  object \n",
            " 10  perc_discount     12848 non-null  float64\n",
            "dtypes: float64(2), int64(1), object(8)\n",
            "memory usage: 1.2+ MB\n"
          ]
        }
      ]
    },
    {
      "cell_type": "code",
      "source": [
        "df_new"
      ],
      "metadata": {
        "colab": {
          "base_uri": "https://localhost:8080/",
          "height": 424
        },
        "id": "tGUXQQLvRWbJ",
        "outputId": "66c129ea-f227-498d-f629-a1fb6ccdc9fc"
      },
      "execution_count": 46,
      "outputs": [
        {
          "output_type": "execute_result",
          "data": {
            "text/plain": [
              "            ID item_ID                                       product_name  \\\n",
              "0        27788    4677  Mesure verticale horizontale de laser de nivea...   \n",
              "1        42560   10372        Chemises élégantes de dentelle de patchwork   \n",
              "2        45211    3658  Filtre à essence liquide universel pour essenc...   \n",
              "3        48169    1168  Rouleau de peau YFM pour les rides cicatrices ...   \n",
              "4        51841    9761  Sweat à capuche à manches longues à manches lo...   \n",
              "...        ...     ...                                                ...   \n",
              "14618  1723915    9143  Pantoufles d'intérieur à boucle en métal de co...   \n",
              "14619  1723920    9154        Pantoufles de chaussures à rayures colorées   \n",
              "14620  1723924    9155  Pantoufles de chaussures à rayures de couleur ...   \n",
              "14621  1723927    9117         Chaussures plates larges brodées de fleurs   \n",
              "14622  1724666    7982   CAMEL CROWN Hommes Baskets de sport en plein air   \n",
              "\n",
              "      brand_name category_name         subcategory_name  current_price  \\\n",
              "0         Loskii         house                ART MURAL          21.48   \n",
              "1         ZANZEA         women                 Chemises          22.99   \n",
              "2           BEON         house                 Lumières           1.59   \n",
              "3          Y.F.M        beauty  Accessoires soin visage          19.03   \n",
              "4         ZANZEA         women                 T-Shirts          21.99   \n",
              "...          ...           ...                      ...            ...   \n",
              "14618     Socofy         shoes       Claquettes & Tongs          29.99   \n",
              "14619     Socofy         shoes       Claquettes & Tongs          32.99   \n",
              "14620     Socofy         shoes       Claquettes & Tongs          32.99   \n",
              "14621    Lostisy         shoes      Derbies & Mocassins          29.99   \n",
              "14622      CAMEL         shoes                  Baskets          98.99   \n",
              "\n",
              "       likes_count is_new         codCountry  perc_discount  \n",
              "0              285      0  ID,MY,PH,SG,TH,VN           42.0  \n",
              "1              147      0  ID,MY,PH,SG,TH,VN           65.0  \n",
              "2                1      0  ID,MY,PH,SG,TH,VN           58.0  \n",
              "3              500      0  ID,MY,PH,SG,TH,VN           43.0  \n",
              "4              251      0  ID,MY,PH,SG,TH,VN            0.0  \n",
              "...            ...    ...                ...            ...  \n",
              "14618            2      1  ID,MY,PH,SG,TH,VN           55.0  \n",
              "14619            2      1  ID,MY,PH,SG,TH,VN           53.0  \n",
              "14620            1      1  ID,MY,PH,SG,TH,VN           50.0  \n",
              "14621            2      1  ID,MY,PH,SG,TH,VN           50.0  \n",
              "14622            0      1                 VN           55.0  \n",
              "\n",
              "[12848 rows x 11 columns]"
            ],
            "text/html": [
              "\n",
              "  <div id=\"df-6669af81-2341-455f-8c44-37ad13731628\">\n",
              "    <div class=\"colab-df-container\">\n",
              "      <div>\n",
              "<style scoped>\n",
              "    .dataframe tbody tr th:only-of-type {\n",
              "        vertical-align: middle;\n",
              "    }\n",
              "\n",
              "    .dataframe tbody tr th {\n",
              "        vertical-align: top;\n",
              "    }\n",
              "\n",
              "    .dataframe thead th {\n",
              "        text-align: right;\n",
              "    }\n",
              "</style>\n",
              "<table border=\"1\" class=\"dataframe\">\n",
              "  <thead>\n",
              "    <tr style=\"text-align: right;\">\n",
              "      <th></th>\n",
              "      <th>ID</th>\n",
              "      <th>item_ID</th>\n",
              "      <th>product_name</th>\n",
              "      <th>brand_name</th>\n",
              "      <th>category_name</th>\n",
              "      <th>subcategory_name</th>\n",
              "      <th>current_price</th>\n",
              "      <th>likes_count</th>\n",
              "      <th>is_new</th>\n",
              "      <th>codCountry</th>\n",
              "      <th>perc_discount</th>\n",
              "    </tr>\n",
              "  </thead>\n",
              "  <tbody>\n",
              "    <tr>\n",
              "      <th>0</th>\n",
              "      <td>27788</td>\n",
              "      <td>4677</td>\n",
              "      <td>Mesure verticale horizontale de laser de nivea...</td>\n",
              "      <td>Loskii</td>\n",
              "      <td>house</td>\n",
              "      <td>ART MURAL</td>\n",
              "      <td>21.48</td>\n",
              "      <td>285</td>\n",
              "      <td>0</td>\n",
              "      <td>ID,MY,PH,SG,TH,VN</td>\n",
              "      <td>42.0</td>\n",
              "    </tr>\n",
              "    <tr>\n",
              "      <th>1</th>\n",
              "      <td>42560</td>\n",
              "      <td>10372</td>\n",
              "      <td>Chemises élégantes de dentelle de patchwork</td>\n",
              "      <td>ZANZEA</td>\n",
              "      <td>women</td>\n",
              "      <td>Chemises</td>\n",
              "      <td>22.99</td>\n",
              "      <td>147</td>\n",
              "      <td>0</td>\n",
              "      <td>ID,MY,PH,SG,TH,VN</td>\n",
              "      <td>65.0</td>\n",
              "    </tr>\n",
              "    <tr>\n",
              "      <th>2</th>\n",
              "      <td>45211</td>\n",
              "      <td>3658</td>\n",
              "      <td>Filtre à essence liquide universel pour essenc...</td>\n",
              "      <td>BEON</td>\n",
              "      <td>house</td>\n",
              "      <td>Lumières</td>\n",
              "      <td>1.59</td>\n",
              "      <td>1</td>\n",
              "      <td>0</td>\n",
              "      <td>ID,MY,PH,SG,TH,VN</td>\n",
              "      <td>58.0</td>\n",
              "    </tr>\n",
              "    <tr>\n",
              "      <th>3</th>\n",
              "      <td>48169</td>\n",
              "      <td>1168</td>\n",
              "      <td>Rouleau de peau YFM pour les rides cicatrices ...</td>\n",
              "      <td>Y.F.M</td>\n",
              "      <td>beauty</td>\n",
              "      <td>Accessoires soin visage</td>\n",
              "      <td>19.03</td>\n",
              "      <td>500</td>\n",
              "      <td>0</td>\n",
              "      <td>ID,MY,PH,SG,TH,VN</td>\n",
              "      <td>43.0</td>\n",
              "    </tr>\n",
              "    <tr>\n",
              "      <th>4</th>\n",
              "      <td>51841</td>\n",
              "      <td>9761</td>\n",
              "      <td>Sweat à capuche à manches longues à manches lo...</td>\n",
              "      <td>ZANZEA</td>\n",
              "      <td>women</td>\n",
              "      <td>T-Shirts</td>\n",
              "      <td>21.99</td>\n",
              "      <td>251</td>\n",
              "      <td>0</td>\n",
              "      <td>ID,MY,PH,SG,TH,VN</td>\n",
              "      <td>0.0</td>\n",
              "    </tr>\n",
              "    <tr>\n",
              "      <th>...</th>\n",
              "      <td>...</td>\n",
              "      <td>...</td>\n",
              "      <td>...</td>\n",
              "      <td>...</td>\n",
              "      <td>...</td>\n",
              "      <td>...</td>\n",
              "      <td>...</td>\n",
              "      <td>...</td>\n",
              "      <td>...</td>\n",
              "      <td>...</td>\n",
              "      <td>...</td>\n",
              "    </tr>\n",
              "    <tr>\n",
              "      <th>14618</th>\n",
              "      <td>1723915</td>\n",
              "      <td>9143</td>\n",
              "      <td>Pantoufles d'intérieur à boucle en métal de co...</td>\n",
              "      <td>Socofy</td>\n",
              "      <td>shoes</td>\n",
              "      <td>Claquettes &amp; Tongs</td>\n",
              "      <td>29.99</td>\n",
              "      <td>2</td>\n",
              "      <td>1</td>\n",
              "      <td>ID,MY,PH,SG,TH,VN</td>\n",
              "      <td>55.0</td>\n",
              "    </tr>\n",
              "    <tr>\n",
              "      <th>14619</th>\n",
              "      <td>1723920</td>\n",
              "      <td>9154</td>\n",
              "      <td>Pantoufles de chaussures à rayures colorées</td>\n",
              "      <td>Socofy</td>\n",
              "      <td>shoes</td>\n",
              "      <td>Claquettes &amp; Tongs</td>\n",
              "      <td>32.99</td>\n",
              "      <td>2</td>\n",
              "      <td>1</td>\n",
              "      <td>ID,MY,PH,SG,TH,VN</td>\n",
              "      <td>53.0</td>\n",
              "    </tr>\n",
              "    <tr>\n",
              "      <th>14620</th>\n",
              "      <td>1723924</td>\n",
              "      <td>9155</td>\n",
              "      <td>Pantoufles de chaussures à rayures de couleur ...</td>\n",
              "      <td>Socofy</td>\n",
              "      <td>shoes</td>\n",
              "      <td>Claquettes &amp; Tongs</td>\n",
              "      <td>32.99</td>\n",
              "      <td>1</td>\n",
              "      <td>1</td>\n",
              "      <td>ID,MY,PH,SG,TH,VN</td>\n",
              "      <td>50.0</td>\n",
              "    </tr>\n",
              "    <tr>\n",
              "      <th>14621</th>\n",
              "      <td>1723927</td>\n",
              "      <td>9117</td>\n",
              "      <td>Chaussures plates larges brodées de fleurs</td>\n",
              "      <td>Lostisy</td>\n",
              "      <td>shoes</td>\n",
              "      <td>Derbies &amp; Mocassins</td>\n",
              "      <td>29.99</td>\n",
              "      <td>2</td>\n",
              "      <td>1</td>\n",
              "      <td>ID,MY,PH,SG,TH,VN</td>\n",
              "      <td>50.0</td>\n",
              "    </tr>\n",
              "    <tr>\n",
              "      <th>14622</th>\n",
              "      <td>1724666</td>\n",
              "      <td>7982</td>\n",
              "      <td>CAMEL CROWN Hommes Baskets de sport en plein air</td>\n",
              "      <td>CAMEL</td>\n",
              "      <td>shoes</td>\n",
              "      <td>Baskets</td>\n",
              "      <td>98.99</td>\n",
              "      <td>0</td>\n",
              "      <td>1</td>\n",
              "      <td>VN</td>\n",
              "      <td>55.0</td>\n",
              "    </tr>\n",
              "  </tbody>\n",
              "</table>\n",
              "<p>12848 rows × 11 columns</p>\n",
              "</div>\n",
              "      <button class=\"colab-df-convert\" onclick=\"convertToInteractive('df-6669af81-2341-455f-8c44-37ad13731628')\"\n",
              "              title=\"Convert this dataframe to an interactive table.\"\n",
              "              style=\"display:none;\">\n",
              "        \n",
              "  <svg xmlns=\"http://www.w3.org/2000/svg\" height=\"24px\"viewBox=\"0 0 24 24\"\n",
              "       width=\"24px\">\n",
              "    <path d=\"M0 0h24v24H0V0z\" fill=\"none\"/>\n",
              "    <path d=\"M18.56 5.44l.94 2.06.94-2.06 2.06-.94-2.06-.94-.94-2.06-.94 2.06-2.06.94zm-11 1L8.5 8.5l.94-2.06 2.06-.94-2.06-.94L8.5 2.5l-.94 2.06-2.06.94zm10 10l.94 2.06.94-2.06 2.06-.94-2.06-.94-.94-2.06-.94 2.06-2.06.94z\"/><path d=\"M17.41 7.96l-1.37-1.37c-.4-.4-.92-.59-1.43-.59-.52 0-1.04.2-1.43.59L10.3 9.45l-7.72 7.72c-.78.78-.78 2.05 0 2.83L4 21.41c.39.39.9.59 1.41.59.51 0 1.02-.2 1.41-.59l7.78-7.78 2.81-2.81c.8-.78.8-2.07 0-2.86zM5.41 20L4 18.59l7.72-7.72 1.47 1.35L5.41 20z\"/>\n",
              "  </svg>\n",
              "      </button>\n",
              "      \n",
              "  <style>\n",
              "    .colab-df-container {\n",
              "      display:flex;\n",
              "      flex-wrap:wrap;\n",
              "      gap: 12px;\n",
              "    }\n",
              "\n",
              "    .colab-df-convert {\n",
              "      background-color: #E8F0FE;\n",
              "      border: none;\n",
              "      border-radius: 50%;\n",
              "      cursor: pointer;\n",
              "      display: none;\n",
              "      fill: #1967D2;\n",
              "      height: 32px;\n",
              "      padding: 0 0 0 0;\n",
              "      width: 32px;\n",
              "    }\n",
              "\n",
              "    .colab-df-convert:hover {\n",
              "      background-color: #E2EBFA;\n",
              "      box-shadow: 0px 1px 2px rgba(60, 64, 67, 0.3), 0px 1px 3px 1px rgba(60, 64, 67, 0.15);\n",
              "      fill: #174EA6;\n",
              "    }\n",
              "\n",
              "    [theme=dark] .colab-df-convert {\n",
              "      background-color: #3B4455;\n",
              "      fill: #D2E3FC;\n",
              "    }\n",
              "\n",
              "    [theme=dark] .colab-df-convert:hover {\n",
              "      background-color: #434B5C;\n",
              "      box-shadow: 0px 1px 3px 1px rgba(0, 0, 0, 0.15);\n",
              "      filter: drop-shadow(0px 1px 2px rgba(0, 0, 0, 0.3));\n",
              "      fill: #FFFFFF;\n",
              "    }\n",
              "  </style>\n",
              "\n",
              "      <script>\n",
              "        const buttonEl =\n",
              "          document.querySelector('#df-6669af81-2341-455f-8c44-37ad13731628 button.colab-df-convert');\n",
              "        buttonEl.style.display =\n",
              "          google.colab.kernel.accessAllowed ? 'block' : 'none';\n",
              "\n",
              "        async function convertToInteractive(key) {\n",
              "          const element = document.querySelector('#df-6669af81-2341-455f-8c44-37ad13731628');\n",
              "          const dataTable =\n",
              "            await google.colab.kernel.invokeFunction('convertToInteractive',\n",
              "                                                     [key], {});\n",
              "          if (!dataTable) return;\n",
              "\n",
              "          const docLinkHtml = 'Like what you see? Visit the ' +\n",
              "            '<a target=\"_blank\" href=https://colab.research.google.com/notebooks/data_table.ipynb>data table notebook</a>'\n",
              "            + ' to learn more about interactive tables.';\n",
              "          element.innerHTML = '';\n",
              "          dataTable['output_type'] = 'display_data';\n",
              "          await google.colab.output.renderOutput(dataTable, element);\n",
              "          const docLink = document.createElement('div');\n",
              "          docLink.innerHTML = docLinkHtml;\n",
              "          element.appendChild(docLink);\n",
              "        }\n",
              "      </script>\n",
              "    </div>\n",
              "  </div>\n",
              "  "
            ]
          },
          "metadata": {},
          "execution_count": 46
        }
      ]
    },
    {
      "cell_type": "code",
      "source": [
        "# Add new column for count value in codCountry by split the string with comma \n",
        "df_new['count_country'] = df_new['codCountry'].apply(lambda x: len(x.split(\",\")))\n",
        "df_new"
      ],
      "metadata": {
        "colab": {
          "base_uri": "https://localhost:8080/",
          "height": 424
        },
        "id": "8DPcSaoQmVqG",
        "outputId": "7a421708-41de-41ba-c2b8-72f7617e33fd"
      },
      "execution_count": 47,
      "outputs": [
        {
          "output_type": "execute_result",
          "data": {
            "text/plain": [
              "            ID item_ID                                       product_name  \\\n",
              "0        27788    4677  Mesure verticale horizontale de laser de nivea...   \n",
              "1        42560   10372        Chemises élégantes de dentelle de patchwork   \n",
              "2        45211    3658  Filtre à essence liquide universel pour essenc...   \n",
              "3        48169    1168  Rouleau de peau YFM pour les rides cicatrices ...   \n",
              "4        51841    9761  Sweat à capuche à manches longues à manches lo...   \n",
              "...        ...     ...                                                ...   \n",
              "14618  1723915    9143  Pantoufles d'intérieur à boucle en métal de co...   \n",
              "14619  1723920    9154        Pantoufles de chaussures à rayures colorées   \n",
              "14620  1723924    9155  Pantoufles de chaussures à rayures de couleur ...   \n",
              "14621  1723927    9117         Chaussures plates larges brodées de fleurs   \n",
              "14622  1724666    7982   CAMEL CROWN Hommes Baskets de sport en plein air   \n",
              "\n",
              "      brand_name category_name         subcategory_name  current_price  \\\n",
              "0         Loskii         house                ART MURAL          21.48   \n",
              "1         ZANZEA         women                 Chemises          22.99   \n",
              "2           BEON         house                 Lumières           1.59   \n",
              "3          Y.F.M        beauty  Accessoires soin visage          19.03   \n",
              "4         ZANZEA         women                 T-Shirts          21.99   \n",
              "...          ...           ...                      ...            ...   \n",
              "14618     Socofy         shoes       Claquettes & Tongs          29.99   \n",
              "14619     Socofy         shoes       Claquettes & Tongs          32.99   \n",
              "14620     Socofy         shoes       Claquettes & Tongs          32.99   \n",
              "14621    Lostisy         shoes      Derbies & Mocassins          29.99   \n",
              "14622      CAMEL         shoes                  Baskets          98.99   \n",
              "\n",
              "       likes_count is_new         codCountry  perc_discount  count_country  \n",
              "0              285      0  ID,MY,PH,SG,TH,VN           42.0              6  \n",
              "1              147      0  ID,MY,PH,SG,TH,VN           65.0              6  \n",
              "2                1      0  ID,MY,PH,SG,TH,VN           58.0              6  \n",
              "3              500      0  ID,MY,PH,SG,TH,VN           43.0              6  \n",
              "4              251      0  ID,MY,PH,SG,TH,VN            0.0              6  \n",
              "...            ...    ...                ...            ...            ...  \n",
              "14618            2      1  ID,MY,PH,SG,TH,VN           55.0              6  \n",
              "14619            2      1  ID,MY,PH,SG,TH,VN           53.0              6  \n",
              "14620            1      1  ID,MY,PH,SG,TH,VN           50.0              6  \n",
              "14621            2      1  ID,MY,PH,SG,TH,VN           50.0              6  \n",
              "14622            0      1                 VN           55.0              1  \n",
              "\n",
              "[12848 rows x 12 columns]"
            ],
            "text/html": [
              "\n",
              "  <div id=\"df-10bb7abc-f70c-46da-8e66-a84ceef927c4\">\n",
              "    <div class=\"colab-df-container\">\n",
              "      <div>\n",
              "<style scoped>\n",
              "    .dataframe tbody tr th:only-of-type {\n",
              "        vertical-align: middle;\n",
              "    }\n",
              "\n",
              "    .dataframe tbody tr th {\n",
              "        vertical-align: top;\n",
              "    }\n",
              "\n",
              "    .dataframe thead th {\n",
              "        text-align: right;\n",
              "    }\n",
              "</style>\n",
              "<table border=\"1\" class=\"dataframe\">\n",
              "  <thead>\n",
              "    <tr style=\"text-align: right;\">\n",
              "      <th></th>\n",
              "      <th>ID</th>\n",
              "      <th>item_ID</th>\n",
              "      <th>product_name</th>\n",
              "      <th>brand_name</th>\n",
              "      <th>category_name</th>\n",
              "      <th>subcategory_name</th>\n",
              "      <th>current_price</th>\n",
              "      <th>likes_count</th>\n",
              "      <th>is_new</th>\n",
              "      <th>codCountry</th>\n",
              "      <th>perc_discount</th>\n",
              "      <th>count_country</th>\n",
              "    </tr>\n",
              "  </thead>\n",
              "  <tbody>\n",
              "    <tr>\n",
              "      <th>0</th>\n",
              "      <td>27788</td>\n",
              "      <td>4677</td>\n",
              "      <td>Mesure verticale horizontale de laser de nivea...</td>\n",
              "      <td>Loskii</td>\n",
              "      <td>house</td>\n",
              "      <td>ART MURAL</td>\n",
              "      <td>21.48</td>\n",
              "      <td>285</td>\n",
              "      <td>0</td>\n",
              "      <td>ID,MY,PH,SG,TH,VN</td>\n",
              "      <td>42.0</td>\n",
              "      <td>6</td>\n",
              "    </tr>\n",
              "    <tr>\n",
              "      <th>1</th>\n",
              "      <td>42560</td>\n",
              "      <td>10372</td>\n",
              "      <td>Chemises élégantes de dentelle de patchwork</td>\n",
              "      <td>ZANZEA</td>\n",
              "      <td>women</td>\n",
              "      <td>Chemises</td>\n",
              "      <td>22.99</td>\n",
              "      <td>147</td>\n",
              "      <td>0</td>\n",
              "      <td>ID,MY,PH,SG,TH,VN</td>\n",
              "      <td>65.0</td>\n",
              "      <td>6</td>\n",
              "    </tr>\n",
              "    <tr>\n",
              "      <th>2</th>\n",
              "      <td>45211</td>\n",
              "      <td>3658</td>\n",
              "      <td>Filtre à essence liquide universel pour essenc...</td>\n",
              "      <td>BEON</td>\n",
              "      <td>house</td>\n",
              "      <td>Lumières</td>\n",
              "      <td>1.59</td>\n",
              "      <td>1</td>\n",
              "      <td>0</td>\n",
              "      <td>ID,MY,PH,SG,TH,VN</td>\n",
              "      <td>58.0</td>\n",
              "      <td>6</td>\n",
              "    </tr>\n",
              "    <tr>\n",
              "      <th>3</th>\n",
              "      <td>48169</td>\n",
              "      <td>1168</td>\n",
              "      <td>Rouleau de peau YFM pour les rides cicatrices ...</td>\n",
              "      <td>Y.F.M</td>\n",
              "      <td>beauty</td>\n",
              "      <td>Accessoires soin visage</td>\n",
              "      <td>19.03</td>\n",
              "      <td>500</td>\n",
              "      <td>0</td>\n",
              "      <td>ID,MY,PH,SG,TH,VN</td>\n",
              "      <td>43.0</td>\n",
              "      <td>6</td>\n",
              "    </tr>\n",
              "    <tr>\n",
              "      <th>4</th>\n",
              "      <td>51841</td>\n",
              "      <td>9761</td>\n",
              "      <td>Sweat à capuche à manches longues à manches lo...</td>\n",
              "      <td>ZANZEA</td>\n",
              "      <td>women</td>\n",
              "      <td>T-Shirts</td>\n",
              "      <td>21.99</td>\n",
              "      <td>251</td>\n",
              "      <td>0</td>\n",
              "      <td>ID,MY,PH,SG,TH,VN</td>\n",
              "      <td>0.0</td>\n",
              "      <td>6</td>\n",
              "    </tr>\n",
              "    <tr>\n",
              "      <th>...</th>\n",
              "      <td>...</td>\n",
              "      <td>...</td>\n",
              "      <td>...</td>\n",
              "      <td>...</td>\n",
              "      <td>...</td>\n",
              "      <td>...</td>\n",
              "      <td>...</td>\n",
              "      <td>...</td>\n",
              "      <td>...</td>\n",
              "      <td>...</td>\n",
              "      <td>...</td>\n",
              "      <td>...</td>\n",
              "    </tr>\n",
              "    <tr>\n",
              "      <th>14618</th>\n",
              "      <td>1723915</td>\n",
              "      <td>9143</td>\n",
              "      <td>Pantoufles d'intérieur à boucle en métal de co...</td>\n",
              "      <td>Socofy</td>\n",
              "      <td>shoes</td>\n",
              "      <td>Claquettes &amp; Tongs</td>\n",
              "      <td>29.99</td>\n",
              "      <td>2</td>\n",
              "      <td>1</td>\n",
              "      <td>ID,MY,PH,SG,TH,VN</td>\n",
              "      <td>55.0</td>\n",
              "      <td>6</td>\n",
              "    </tr>\n",
              "    <tr>\n",
              "      <th>14619</th>\n",
              "      <td>1723920</td>\n",
              "      <td>9154</td>\n",
              "      <td>Pantoufles de chaussures à rayures colorées</td>\n",
              "      <td>Socofy</td>\n",
              "      <td>shoes</td>\n",
              "      <td>Claquettes &amp; Tongs</td>\n",
              "      <td>32.99</td>\n",
              "      <td>2</td>\n",
              "      <td>1</td>\n",
              "      <td>ID,MY,PH,SG,TH,VN</td>\n",
              "      <td>53.0</td>\n",
              "      <td>6</td>\n",
              "    </tr>\n",
              "    <tr>\n",
              "      <th>14620</th>\n",
              "      <td>1723924</td>\n",
              "      <td>9155</td>\n",
              "      <td>Pantoufles de chaussures à rayures de couleur ...</td>\n",
              "      <td>Socofy</td>\n",
              "      <td>shoes</td>\n",
              "      <td>Claquettes &amp; Tongs</td>\n",
              "      <td>32.99</td>\n",
              "      <td>1</td>\n",
              "      <td>1</td>\n",
              "      <td>ID,MY,PH,SG,TH,VN</td>\n",
              "      <td>50.0</td>\n",
              "      <td>6</td>\n",
              "    </tr>\n",
              "    <tr>\n",
              "      <th>14621</th>\n",
              "      <td>1723927</td>\n",
              "      <td>9117</td>\n",
              "      <td>Chaussures plates larges brodées de fleurs</td>\n",
              "      <td>Lostisy</td>\n",
              "      <td>shoes</td>\n",
              "      <td>Derbies &amp; Mocassins</td>\n",
              "      <td>29.99</td>\n",
              "      <td>2</td>\n",
              "      <td>1</td>\n",
              "      <td>ID,MY,PH,SG,TH,VN</td>\n",
              "      <td>50.0</td>\n",
              "      <td>6</td>\n",
              "    </tr>\n",
              "    <tr>\n",
              "      <th>14622</th>\n",
              "      <td>1724666</td>\n",
              "      <td>7982</td>\n",
              "      <td>CAMEL CROWN Hommes Baskets de sport en plein air</td>\n",
              "      <td>CAMEL</td>\n",
              "      <td>shoes</td>\n",
              "      <td>Baskets</td>\n",
              "      <td>98.99</td>\n",
              "      <td>0</td>\n",
              "      <td>1</td>\n",
              "      <td>VN</td>\n",
              "      <td>55.0</td>\n",
              "      <td>1</td>\n",
              "    </tr>\n",
              "  </tbody>\n",
              "</table>\n",
              "<p>12848 rows × 12 columns</p>\n",
              "</div>\n",
              "      <button class=\"colab-df-convert\" onclick=\"convertToInteractive('df-10bb7abc-f70c-46da-8e66-a84ceef927c4')\"\n",
              "              title=\"Convert this dataframe to an interactive table.\"\n",
              "              style=\"display:none;\">\n",
              "        \n",
              "  <svg xmlns=\"http://www.w3.org/2000/svg\" height=\"24px\"viewBox=\"0 0 24 24\"\n",
              "       width=\"24px\">\n",
              "    <path d=\"M0 0h24v24H0V0z\" fill=\"none\"/>\n",
              "    <path d=\"M18.56 5.44l.94 2.06.94-2.06 2.06-.94-2.06-.94-.94-2.06-.94 2.06-2.06.94zm-11 1L8.5 8.5l.94-2.06 2.06-.94-2.06-.94L8.5 2.5l-.94 2.06-2.06.94zm10 10l.94 2.06.94-2.06 2.06-.94-2.06-.94-.94-2.06-.94 2.06-2.06.94z\"/><path d=\"M17.41 7.96l-1.37-1.37c-.4-.4-.92-.59-1.43-.59-.52 0-1.04.2-1.43.59L10.3 9.45l-7.72 7.72c-.78.78-.78 2.05 0 2.83L4 21.41c.39.39.9.59 1.41.59.51 0 1.02-.2 1.41-.59l7.78-7.78 2.81-2.81c.8-.78.8-2.07 0-2.86zM5.41 20L4 18.59l7.72-7.72 1.47 1.35L5.41 20z\"/>\n",
              "  </svg>\n",
              "      </button>\n",
              "      \n",
              "  <style>\n",
              "    .colab-df-container {\n",
              "      display:flex;\n",
              "      flex-wrap:wrap;\n",
              "      gap: 12px;\n",
              "    }\n",
              "\n",
              "    .colab-df-convert {\n",
              "      background-color: #E8F0FE;\n",
              "      border: none;\n",
              "      border-radius: 50%;\n",
              "      cursor: pointer;\n",
              "      display: none;\n",
              "      fill: #1967D2;\n",
              "      height: 32px;\n",
              "      padding: 0 0 0 0;\n",
              "      width: 32px;\n",
              "    }\n",
              "\n",
              "    .colab-df-convert:hover {\n",
              "      background-color: #E2EBFA;\n",
              "      box-shadow: 0px 1px 2px rgba(60, 64, 67, 0.3), 0px 1px 3px 1px rgba(60, 64, 67, 0.15);\n",
              "      fill: #174EA6;\n",
              "    }\n",
              "\n",
              "    [theme=dark] .colab-df-convert {\n",
              "      background-color: #3B4455;\n",
              "      fill: #D2E3FC;\n",
              "    }\n",
              "\n",
              "    [theme=dark] .colab-df-convert:hover {\n",
              "      background-color: #434B5C;\n",
              "      box-shadow: 0px 1px 3px 1px rgba(0, 0, 0, 0.15);\n",
              "      filter: drop-shadow(0px 1px 2px rgba(0, 0, 0, 0.3));\n",
              "      fill: #FFFFFF;\n",
              "    }\n",
              "  </style>\n",
              "\n",
              "      <script>\n",
              "        const buttonEl =\n",
              "          document.querySelector('#df-10bb7abc-f70c-46da-8e66-a84ceef927c4 button.colab-df-convert');\n",
              "        buttonEl.style.display =\n",
              "          google.colab.kernel.accessAllowed ? 'block' : 'none';\n",
              "\n",
              "        async function convertToInteractive(key) {\n",
              "          const element = document.querySelector('#df-10bb7abc-f70c-46da-8e66-a84ceef927c4');\n",
              "          const dataTable =\n",
              "            await google.colab.kernel.invokeFunction('convertToInteractive',\n",
              "                                                     [key], {});\n",
              "          if (!dataTable) return;\n",
              "\n",
              "          const docLinkHtml = 'Like what you see? Visit the ' +\n",
              "            '<a target=\"_blank\" href=https://colab.research.google.com/notebooks/data_table.ipynb>data table notebook</a>'\n",
              "            + ' to learn more about interactive tables.';\n",
              "          element.innerHTML = '';\n",
              "          dataTable['output_type'] = 'display_data';\n",
              "          await google.colab.output.renderOutput(dataTable, element);\n",
              "          const docLink = document.createElement('div');\n",
              "          docLink.innerHTML = docLinkHtml;\n",
              "          element.appendChild(docLink);\n",
              "        }\n",
              "      </script>\n",
              "    </div>\n",
              "  </div>\n",
              "  "
            ]
          },
          "metadata": {},
          "execution_count": 47
        }
      ]
    },
    {
      "cell_type": "code",
      "source": [
        "# Make CSV with name product_rating_clean.csv\n",
        "df_new.to_csv(path_data + \"product_rating_clean.csv\")"
      ],
      "metadata": {
        "id": "rGKmeit4nMh7"
      },
      "execution_count": 48,
      "outputs": []
    },
    {
      "cell_type": "markdown",
      "metadata": {
        "id": "QUlpaqeqMFn2"
      },
      "source": [
        "## 7. Exploratory Data Analysis & Visualization"
      ]
    },
    {
      "cell_type": "code",
      "source": [
        "# chehck null\n",
        "df_new.isnull().sum()"
      ],
      "metadata": {
        "colab": {
          "base_uri": "https://localhost:8080/"
        },
        "id": "sEo1EDI0mHzc",
        "outputId": "12c56aa5-fea6-453c-b179-9a09bcc1a8e2"
      },
      "execution_count": 49,
      "outputs": [
        {
          "output_type": "execute_result",
          "data": {
            "text/plain": [
              "ID                  0\n",
              "item_ID             0\n",
              "product_name        0\n",
              "brand_name          0\n",
              "category_name       0\n",
              "subcategory_name    0\n",
              "current_price       0\n",
              "likes_count         0\n",
              "is_new              0\n",
              "codCountry          0\n",
              "perc_discount       0\n",
              "count_country       0\n",
              "dtype: int64"
            ]
          },
          "metadata": {},
          "execution_count": 49
        }
      ]
    },
    {
      "cell_type": "code",
      "metadata": {
        "id": "AayCOMwWmVYc",
        "colab": {
          "base_uri": "https://localhost:8080/",
          "height": 49
        },
        "outputId": "1e5e1056-30d6-40ac-aac1-4b000a23085d"
      },
      "source": [
        "# Check Duplicate again\n",
        "df_new[df_new.duplicated(keep=False)]"
      ],
      "execution_count": 50,
      "outputs": [
        {
          "output_type": "execute_result",
          "data": {
            "text/plain": [
              "Empty DataFrame\n",
              "Columns: [ID, item_ID, product_name, brand_name, category_name, subcategory_name, current_price, likes_count, is_new, codCountry, perc_discount, count_country]\n",
              "Index: []"
            ],
            "text/html": [
              "\n",
              "  <div id=\"df-f63c3661-5213-4cac-9d35-b10aeea725f7\">\n",
              "    <div class=\"colab-df-container\">\n",
              "      <div>\n",
              "<style scoped>\n",
              "    .dataframe tbody tr th:only-of-type {\n",
              "        vertical-align: middle;\n",
              "    }\n",
              "\n",
              "    .dataframe tbody tr th {\n",
              "        vertical-align: top;\n",
              "    }\n",
              "\n",
              "    .dataframe thead th {\n",
              "        text-align: right;\n",
              "    }\n",
              "</style>\n",
              "<table border=\"1\" class=\"dataframe\">\n",
              "  <thead>\n",
              "    <tr style=\"text-align: right;\">\n",
              "      <th></th>\n",
              "      <th>ID</th>\n",
              "      <th>item_ID</th>\n",
              "      <th>product_name</th>\n",
              "      <th>brand_name</th>\n",
              "      <th>category_name</th>\n",
              "      <th>subcategory_name</th>\n",
              "      <th>current_price</th>\n",
              "      <th>likes_count</th>\n",
              "      <th>is_new</th>\n",
              "      <th>codCountry</th>\n",
              "      <th>perc_discount</th>\n",
              "      <th>count_country</th>\n",
              "    </tr>\n",
              "  </thead>\n",
              "  <tbody>\n",
              "  </tbody>\n",
              "</table>\n",
              "</div>\n",
              "      <button class=\"colab-df-convert\" onclick=\"convertToInteractive('df-f63c3661-5213-4cac-9d35-b10aeea725f7')\"\n",
              "              title=\"Convert this dataframe to an interactive table.\"\n",
              "              style=\"display:none;\">\n",
              "        \n",
              "  <svg xmlns=\"http://www.w3.org/2000/svg\" height=\"24px\"viewBox=\"0 0 24 24\"\n",
              "       width=\"24px\">\n",
              "    <path d=\"M0 0h24v24H0V0z\" fill=\"none\"/>\n",
              "    <path d=\"M18.56 5.44l.94 2.06.94-2.06 2.06-.94-2.06-.94-.94-2.06-.94 2.06-2.06.94zm-11 1L8.5 8.5l.94-2.06 2.06-.94-2.06-.94L8.5 2.5l-.94 2.06-2.06.94zm10 10l.94 2.06.94-2.06 2.06-.94-2.06-.94-.94-2.06-.94 2.06-2.06.94z\"/><path d=\"M17.41 7.96l-1.37-1.37c-.4-.4-.92-.59-1.43-.59-.52 0-1.04.2-1.43.59L10.3 9.45l-7.72 7.72c-.78.78-.78 2.05 0 2.83L4 21.41c.39.39.9.59 1.41.59.51 0 1.02-.2 1.41-.59l7.78-7.78 2.81-2.81c.8-.78.8-2.07 0-2.86zM5.41 20L4 18.59l7.72-7.72 1.47 1.35L5.41 20z\"/>\n",
              "  </svg>\n",
              "      </button>\n",
              "      \n",
              "  <style>\n",
              "    .colab-df-container {\n",
              "      display:flex;\n",
              "      flex-wrap:wrap;\n",
              "      gap: 12px;\n",
              "    }\n",
              "\n",
              "    .colab-df-convert {\n",
              "      background-color: #E8F0FE;\n",
              "      border: none;\n",
              "      border-radius: 50%;\n",
              "      cursor: pointer;\n",
              "      display: none;\n",
              "      fill: #1967D2;\n",
              "      height: 32px;\n",
              "      padding: 0 0 0 0;\n",
              "      width: 32px;\n",
              "    }\n",
              "\n",
              "    .colab-df-convert:hover {\n",
              "      background-color: #E2EBFA;\n",
              "      box-shadow: 0px 1px 2px rgba(60, 64, 67, 0.3), 0px 1px 3px 1px rgba(60, 64, 67, 0.15);\n",
              "      fill: #174EA6;\n",
              "    }\n",
              "\n",
              "    [theme=dark] .colab-df-convert {\n",
              "      background-color: #3B4455;\n",
              "      fill: #D2E3FC;\n",
              "    }\n",
              "\n",
              "    [theme=dark] .colab-df-convert:hover {\n",
              "      background-color: #434B5C;\n",
              "      box-shadow: 0px 1px 3px 1px rgba(0, 0, 0, 0.15);\n",
              "      filter: drop-shadow(0px 1px 2px rgba(0, 0, 0, 0.3));\n",
              "      fill: #FFFFFF;\n",
              "    }\n",
              "  </style>\n",
              "\n",
              "      <script>\n",
              "        const buttonEl =\n",
              "          document.querySelector('#df-f63c3661-5213-4cac-9d35-b10aeea725f7 button.colab-df-convert');\n",
              "        buttonEl.style.display =\n",
              "          google.colab.kernel.accessAllowed ? 'block' : 'none';\n",
              "\n",
              "        async function convertToInteractive(key) {\n",
              "          const element = document.querySelector('#df-f63c3661-5213-4cac-9d35-b10aeea725f7');\n",
              "          const dataTable =\n",
              "            await google.colab.kernel.invokeFunction('convertToInteractive',\n",
              "                                                     [key], {});\n",
              "          if (!dataTable) return;\n",
              "\n",
              "          const docLinkHtml = 'Like what you see? Visit the ' +\n",
              "            '<a target=\"_blank\" href=https://colab.research.google.com/notebooks/data_table.ipynb>data table notebook</a>'\n",
              "            + ' to learn more about interactive tables.';\n",
              "          element.innerHTML = '';\n",
              "          dataTable['output_type'] = 'display_data';\n",
              "          await google.colab.output.renderOutput(dataTable, element);\n",
              "          const docLink = document.createElement('div');\n",
              "          docLink.innerHTML = docLinkHtml;\n",
              "          element.appendChild(docLink);\n",
              "        }\n",
              "      </script>\n",
              "    </div>\n",
              "  </div>\n",
              "  "
            ]
          },
          "metadata": {},
          "execution_count": 50
        }
      ]
    },
    {
      "cell_type": "code",
      "source": [
        "# Check data types\n",
        "df_new.dtypes"
      ],
      "metadata": {
        "colab": {
          "base_uri": "https://localhost:8080/"
        },
        "id": "FmxUbUBWmQ2C",
        "outputId": "4239408a-af9a-45a2-d2e7-14360a4d65ea"
      },
      "execution_count": 51,
      "outputs": [
        {
          "output_type": "execute_result",
          "data": {
            "text/plain": [
              "ID                   object\n",
              "item_ID              object\n",
              "product_name         object\n",
              "brand_name           object\n",
              "category_name        object\n",
              "subcategory_name     object\n",
              "current_price       float64\n",
              "likes_count           int64\n",
              "is_new               object\n",
              "codCountry           object\n",
              "perc_discount       float64\n",
              "count_country         int64\n",
              "dtype: object"
            ]
          },
          "metadata": {},
          "execution_count": 51
        }
      ]
    },
    {
      "cell_type": "markdown",
      "source": [
        "**Correlation**"
      ],
      "metadata": {
        "id": "yTXlDJrNT6bH"
      }
    },
    {
      "cell_type": "code",
      "source": [
        "df_check_corr = df_new[['current_price', 'likes_count', 'perc_discount','count_country','is_new']]"
      ],
      "metadata": {
        "id": "AQ4vlHfmv7qV"
      },
      "execution_count": 52,
      "outputs": []
    },
    {
      "cell_type": "code",
      "source": [
        "plt.figure(figsize=(10,6))\n",
        "sns.heatmap(df_check_corr.corr(), cmap=\"YlGnBu\")"
      ],
      "metadata": {
        "colab": {
          "base_uri": "https://localhost:8080/",
          "height": 396
        },
        "id": "0ETlFqZCwLDG",
        "outputId": "db44df20-2720-46c8-affb-c1ba0fbd5a30"
      },
      "execution_count": 53,
      "outputs": [
        {
          "output_type": "execute_result",
          "data": {
            "text/plain": [
              "<matplotlib.axes._subplots.AxesSubplot at 0x7fbadfeff910>"
            ]
          },
          "metadata": {},
          "execution_count": 53
        },
        {
          "output_type": "display_data",
          "data": {
            "text/plain": [
              "<Figure size 720x432 with 2 Axes>"
            ],
            "image/png": "[encoded data removed]"
          },
          "metadata": {
            "needs_background": "light"
          }
        }
      ]
    },
    {
      "cell_type": "code",
      "source": [
        "from pandas import factorize\n",
        "\n",
        "labels, categories = factorize(df_new[\"is_new\"])\n",
        "df_new[\"labels\"] = labels\n",
        "abs(df_new[\"likes_count\"].corr(df_new[\"labels\"]))"
      ],
      "metadata": {
        "colab": {
          "base_uri": "https://localhost:8080/"
        },
        "id": "2fW34DLqx4Mm",
        "outputId": "5cd21f28-ebe2-4ea0-a6bd-3eaf6e37bf89"
      },
      "execution_count": 54,
      "outputs": [
        {
          "output_type": "execute_result",
          "data": {
            "text/plain": [
              "0.0884916613931928"
            ]
          },
          "metadata": {},
          "execution_count": 54
        }
      ]
    },
    {
      "cell_type": "code",
      "source": [
        "from pandas import factorize\n",
        "\n",
        "labels, categories = factorize(df_new[\"is_new\"])\n",
        "df_new[\"labels\"] = labels\n",
        "abs(df_new[\"perc_discount\"].corr(df_new[\"labels\"]))"
      ],
      "metadata": {
        "colab": {
          "base_uri": "https://localhost:8080/"
        },
        "id": "j5pjM7BIyOmL",
        "outputId": "1225c445-d3d1-41f7-9555-af93ab21c446"
      },
      "execution_count": 55,
      "outputs": [
        {
          "output_type": "execute_result",
          "data": {
            "text/plain": [
              "0.0008516322279995744"
            ]
          },
          "metadata": {},
          "execution_count": 55
        }
      ]
    },
    {
      "cell_type": "code",
      "source": [
        "from pandas import factorize\n",
        "\n",
        "labels, categories = factorize(df_new[\"is_new\"])\n",
        "df_new[\"labels\"] = labels\n",
        "abs(df_new[\"current_price\"].corr(df_new[\"labels\"]))"
      ],
      "metadata": {
        "colab": {
          "base_uri": "https://localhost:8080/"
        },
        "id": "QUmNcMoXycvR",
        "outputId": "3050e510-cc45-460b-c264-9cdeab506ff0"
      },
      "execution_count": 56,
      "outputs": [
        {
          "output_type": "execute_result",
          "data": {
            "text/plain": [
              "0.0029339526518369218"
            ]
          },
          "metadata": {},
          "execution_count": 56
        }
      ]
    },
    {
      "cell_type": "markdown",
      "source": [
        "Whether it's checked by label or not, columns containing numeric values don't have a high correlation. Between calculated columns, resulting in a correlation below 50%"
      ],
      "metadata": {
        "id": "YgzBvGVnT21J"
      }
    },
    {
      "cell_type": "code",
      "source": [
        "# Group by item status to count item\n",
        "df_group_item = df_new.groupby('is_new')['item_ID'].count().reset_index()"
      ],
      "metadata": {
        "id": "EFqBW9c7obYX"
      },
      "execution_count": 57,
      "outputs": []
    },
    {
      "cell_type": "code",
      "source": [
        "sns.barplot(x=\"is_new\", y=\"item_ID\", data=df_group_item)\n",
        "plt.show()"
      ],
      "metadata": {
        "colab": {
          "base_uri": "https://localhost:8080/",
          "height": 280
        },
        "id": "dQh4qSc7oo_a",
        "outputId": "470b9788-8539-4903-b8fa-e1e98e2deba8"
      },
      "execution_count": 58,
      "outputs": [
        {
          "output_type": "display_data",
          "data": {
            "text/plain": [
              "<Figure size 432x288 with 1 Axes>"
            ],
            "image/png": "[encoded data removed]"
          },
          "metadata": {
            "needs_background": "light"
          }
        }
      ]
    },
    {
      "cell_type": "markdown",
      "source": [
        "Based on the total of all categories, more than 90% of the items available on the site are old items.\n",
        "\n",
        "In total, the items on NewChic.com are 12,848 items"
      ],
      "metadata": {
        "id": "PHBwh6r_pDME"
      }
    },
    {
      "cell_type": "markdown",
      "source": [
        "**the proportion of items by category**"
      ],
      "metadata": {
        "id": "Clvtn4pENCxG"
      }
    },
    {
      "cell_type": "code",
      "source": [
        "y=df_new['category_name'].value_counts().reset_index()"
      ],
      "metadata": {
        "id": "KX-GTkgCm6vV"
      },
      "execution_count": 59,
      "outputs": []
    },
    {
      "cell_type": "code",
      "source": [
        "fig, ax = plt.subplots(figsize=(6, 6))\n",
        "\n",
        "patches, texts, pcts = ax.pie(\n",
        "    y['category_name'], labels=y['index'], autopct='%.1f%%',\n",
        "    wedgeprops={'linewidth': 3.0, 'edgecolor': 'white'},\n",
        "    textprops={'size': 'x-large'})\n",
        "# Style just the percent values.\n",
        "plt.setp(pcts, color='white', fontweight='bold')\n",
        "ax.set_title('%of Total Item by Brand Category', fontsize=18)\n",
        "plt.tight_layout()"
      ],
      "metadata": {
        "colab": {
          "base_uri": "https://localhost:8080/",
          "height": 382
        },
        "id": "vvrLlKVsL2mG",
        "outputId": "506ac00a-7571-437d-9620-d086622e9fc9"
      },
      "execution_count": 60,
      "outputs": [
        {
          "output_type": "display_data",
          "data": {
            "text/plain": [
              "<Figure size 432x432 with 1 Axes>"
            ],
            "image/png": "[encoded data removed]"
          },
          "metadata": {}
        }
      ]
    },
    {
      "cell_type": "code",
      "source": [
        "import plotly.io as pio\n",
        "pio.renderers.default = \"png\""
      ],
      "metadata": {
        "id": "LNi-Aar0o1vf"
      },
      "execution_count": 72,
      "outputs": []
    },
    {
      "cell_type": "markdown",
      "source": [
        "Female category occupies the first position of the number of items on the site"
      ],
      "metadata": {
        "id": "1YFJeTSJMmSM"
      }
    },
    {
      "cell_type": "code",
      "source": [
        "fig = px.box(df_new, x=\"category_name\", y=\"current_price\", color=\"category_name\",width=1000, height=600)\n",
        "fig.update_layout(yaxis_range=[0,500])\n",
        "fig.show(\"png\")"
      ],
      "metadata": {
        "colab": {
          "base_uri": "https://localhost:8080/",
          "height": 617
        },
        "id": "an-OM8j6zzY_",
        "outputId": "12d257e8-b4ea-4d87-f247-9d355cbdd978"
      },
      "execution_count": 81,
      "outputs": [
        {
          "output_type": "display_data",
          "data": {
            "image/png": "[encoded data removed]"
          },
          "metadata": {}
        }
      ]
    },
    {
      "cell_type": "code",
      "source": [
        "fig = px.box(df_new, x=\"category_name\", y=\"perc_discount\", color=\"category_name\")\n",
        "fig.show(\"png\")"
      ],
      "metadata": {
        "colab": {
          "base_uri": "https://localhost:8080/",
          "height": 517
        },
        "id": "ah8V7G6H0in0",
        "outputId": "b229ee92-4655-426f-cff8-aa47fbfc8ea1"
      },
      "execution_count": 74,
      "outputs": [
        {
          "output_type": "display_data",
          "data": {
            "image/png": "[encoded data removed]"
          },
          "metadata": {}
        }
      ]
    },
    {
      "cell_type": "markdown",
      "source": [
        "**Get it high price in each category(product_name, brand_name, and category_name)**"
      ],
      "metadata": {
        "id": "k4nyvuvmPypl"
      }
    },
    {
      "cell_type": "code",
      "source": [
        "df_price = df_new[['product_name','brand_name','category_name','current_price' ]]"
      ],
      "metadata": {
        "id": "ahTTlkHwNsc1"
      },
      "execution_count": 63,
      "outputs": []
    },
    {
      "cell_type": "code",
      "source": [
        "price_highest = df_price.loc[df_price.groupby('brand_name')['current_price'].nlargest(5).index.get_level_values(1)]\n",
        "price_highest"
      ],
      "metadata": {
        "colab": {
          "base_uri": "https://localhost:8080/",
          "height": 424
        },
        "id": "LFPtibI_Tk70",
        "outputId": "cd6e7223-a12c-4b05-88ec-a6c28fb5fc6e"
      },
      "execution_count": 64,
      "outputs": [
        {
          "output_type": "execute_result",
          "data": {
            "text/plain": [
              "                                           product_name         brand_name  \\\n",
              "3589  Sac de poitrine patchwork multifonctionnel imp...   AH ARCTIC HUNTER   \n",
              "5356             Vestes lavées multi-poches pour hommes            Blioesy   \n",
              "6764  Bottes à fermeture à glissière en métal de gra...            Blioesy   \n",
              "5022  Portefeuille à 3 volets gaufré vintage pour ho...            Blioesy   \n",
              "5773   Manteau chaud épaississant coupe-vent pour homme            Blioesy   \n",
              "...                                                 ...                ...   \n",
              "2128       Cardigans d'affaires décontractés 100% laine        yanyuanlong   \n",
              "2132  Chemise de golf respirante et confortable en t...        yanyuanlong   \n",
              "2119           yanyuanlong manteau long mi épaississant        yanyuanlong   \n",
              "2344                      Pull 100% laine jacquard mode        yanyuanlong   \n",
              "2342           Pull décontracté sans manches 100% laine        yanyuanlong   \n",
              "\n",
              "     category_name  current_price  \n",
              "3589          bags          33.99  \n",
              "5356           men          64.04  \n",
              "6764         shoes          63.71  \n",
              "5022          bags          55.99  \n",
              "5773           men          54.99  \n",
              "...            ...            ...  \n",
              "2128           men          73.99  \n",
              "2132           men          70.34  \n",
              "2119           men          57.59  \n",
              "2344           men          44.62  \n",
              "2342           men          36.26  \n",
              "\n",
              "[1241 rows x 4 columns]"
            ],
            "text/html": [
              "\n",
              "  <div id=\"df-e3c2cb37-3058-42f8-bbcc-a51dfd866937\">\n",
              "    <div class=\"colab-df-container\">\n",
              "      <div>\n",
              "<style scoped>\n",
              "    .dataframe tbody tr th:only-of-type {\n",
              "        vertical-align: middle;\n",
              "    }\n",
              "\n",
              "    .dataframe tbody tr th {\n",
              "        vertical-align: top;\n",
              "    }\n",
              "\n",
              "    .dataframe thead th {\n",
              "        text-align: right;\n",
              "    }\n",
              "</style>\n",
              "<table border=\"1\" class=\"dataframe\">\n",
              "  <thead>\n",
              "    <tr style=\"text-align: right;\">\n",
              "      <th></th>\n",
              "      <th>product_name</th>\n",
              "      <th>brand_name</th>\n",
              "      <th>category_name</th>\n",
              "      <th>current_price</th>\n",
              "    </tr>\n",
              "  </thead>\n",
              "  <tbody>\n",
              "    <tr>\n",
              "      <th>3589</th>\n",
              "      <td>Sac de poitrine patchwork multifonctionnel imp...</td>\n",
              "      <td>AH ARCTIC HUNTER</td>\n",
              "      <td>bags</td>\n",
              "      <td>33.99</td>\n",
              "    </tr>\n",
              "    <tr>\n",
              "      <th>5356</th>\n",
              "      <td>Vestes lavées multi-poches pour hommes</td>\n",
              "      <td>Blioesy</td>\n",
              "      <td>men</td>\n",
              "      <td>64.04</td>\n",
              "    </tr>\n",
              "    <tr>\n",
              "      <th>6764</th>\n",
              "      <td>Bottes à fermeture à glissière en métal de gra...</td>\n",
              "      <td>Blioesy</td>\n",
              "      <td>shoes</td>\n",
              "      <td>63.71</td>\n",
              "    </tr>\n",
              "    <tr>\n",
              "      <th>5022</th>\n",
              "      <td>Portefeuille à 3 volets gaufré vintage pour ho...</td>\n",
              "      <td>Blioesy</td>\n",
              "      <td>bags</td>\n",
              "      <td>55.99</td>\n",
              "    </tr>\n",
              "    <tr>\n",
              "      <th>5773</th>\n",
              "      <td>Manteau chaud épaississant coupe-vent pour homme</td>\n",
              "      <td>Blioesy</td>\n",
              "      <td>men</td>\n",
              "      <td>54.99</td>\n",
              "    </tr>\n",
              "    <tr>\n",
              "      <th>...</th>\n",
              "      <td>...</td>\n",
              "      <td>...</td>\n",
              "      <td>...</td>\n",
              "      <td>...</td>\n",
              "    </tr>\n",
              "    <tr>\n",
              "      <th>2128</th>\n",
              "      <td>Cardigans d'affaires décontractés 100% laine</td>\n",
              "      <td>yanyuanlong</td>\n",
              "      <td>men</td>\n",
              "      <td>73.99</td>\n",
              "    </tr>\n",
              "    <tr>\n",
              "      <th>2132</th>\n",
              "      <td>Chemise de golf respirante et confortable en t...</td>\n",
              "      <td>yanyuanlong</td>\n",
              "      <td>men</td>\n",
              "      <td>70.34</td>\n",
              "    </tr>\n",
              "    <tr>\n",
              "      <th>2119</th>\n",
              "      <td>yanyuanlong manteau long mi épaississant</td>\n",
              "      <td>yanyuanlong</td>\n",
              "      <td>men</td>\n",
              "      <td>57.59</td>\n",
              "    </tr>\n",
              "    <tr>\n",
              "      <th>2344</th>\n",
              "      <td>Pull 100% laine jacquard mode</td>\n",
              "      <td>yanyuanlong</td>\n",
              "      <td>men</td>\n",
              "      <td>44.62</td>\n",
              "    </tr>\n",
              "    <tr>\n",
              "      <th>2342</th>\n",
              "      <td>Pull décontracté sans manches 100% laine</td>\n",
              "      <td>yanyuanlong</td>\n",
              "      <td>men</td>\n",
              "      <td>36.26</td>\n",
              "    </tr>\n",
              "  </tbody>\n",
              "</table>\n",
              "<p>1241 rows × 4 columns</p>\n",
              "</div>\n",
              "      <button class=\"colab-df-convert\" onclick=\"convertToInteractive('df-e3c2cb37-3058-42f8-bbcc-a51dfd866937')\"\n",
              "              title=\"Convert this dataframe to an interactive table.\"\n",
              "              style=\"display:none;\">\n",
              "        \n",
              "  <svg xmlns=\"http://www.w3.org/2000/svg\" height=\"24px\"viewBox=\"0 0 24 24\"\n",
              "       width=\"24px\">\n",
              "    <path d=\"M0 0h24v24H0V0z\" fill=\"none\"/>\n",
              "    <path d=\"M18.56 5.44l.94 2.06.94-2.06 2.06-.94-2.06-.94-.94-2.06-.94 2.06-2.06.94zm-11 1L8.5 8.5l.94-2.06 2.06-.94-2.06-.94L8.5 2.5l-.94 2.06-2.06.94zm10 10l.94 2.06.94-2.06 2.06-.94-2.06-.94-.94-2.06-.94 2.06-2.06.94z\"/><path d=\"M17.41 7.96l-1.37-1.37c-.4-.4-.92-.59-1.43-.59-.52 0-1.04.2-1.43.59L10.3 9.45l-7.72 7.72c-.78.78-.78 2.05 0 2.83L4 21.41c.39.39.9.59 1.41.59.51 0 1.02-.2 1.41-.59l7.78-7.78 2.81-2.81c.8-.78.8-2.07 0-2.86zM5.41 20L4 18.59l7.72-7.72 1.47 1.35L5.41 20z\"/>\n",
              "  </svg>\n",
              "      </button>\n",
              "      \n",
              "  <style>\n",
              "    .colab-df-container {\n",
              "      display:flex;\n",
              "      flex-wrap:wrap;\n",
              "      gap: 12px;\n",
              "    }\n",
              "\n",
              "    .colab-df-convert {\n",
              "      background-color: #E8F0FE;\n",
              "      border: none;\n",
              "      border-radius: 50%;\n",
              "      cursor: pointer;\n",
              "      display: none;\n",
              "      fill: #1967D2;\n",
              "      height: 32px;\n",
              "      padding: 0 0 0 0;\n",
              "      width: 32px;\n",
              "    }\n",
              "\n",
              "    .colab-df-convert:hover {\n",
              "      background-color: #E2EBFA;\n",
              "      box-shadow: 0px 1px 2px rgba(60, 64, 67, 0.3), 0px 1px 3px 1px rgba(60, 64, 67, 0.15);\n",
              "      fill: #174EA6;\n",
              "    }\n",
              "\n",
              "    [theme=dark] .colab-df-convert {\n",
              "      background-color: #3B4455;\n",
              "      fill: #D2E3FC;\n",
              "    }\n",
              "\n",
              "    [theme=dark] .colab-df-convert:hover {\n",
              "      background-color: #434B5C;\n",
              "      box-shadow: 0px 1px 3px 1px rgba(0, 0, 0, 0.15);\n",
              "      filter: drop-shadow(0px 1px 2px rgba(0, 0, 0, 0.3));\n",
              "      fill: #FFFFFF;\n",
              "    }\n",
              "  </style>\n",
              "\n",
              "      <script>\n",
              "        const buttonEl =\n",
              "          document.querySelector('#df-e3c2cb37-3058-42f8-bbcc-a51dfd866937 button.colab-df-convert');\n",
              "        buttonEl.style.display =\n",
              "          google.colab.kernel.accessAllowed ? 'block' : 'none';\n",
              "\n",
              "        async function convertToInteractive(key) {\n",
              "          const element = document.querySelector('#df-e3c2cb37-3058-42f8-bbcc-a51dfd866937');\n",
              "          const dataTable =\n",
              "            await google.colab.kernel.invokeFunction('convertToInteractive',\n",
              "                                                     [key], {});\n",
              "          if (!dataTable) return;\n",
              "\n",
              "          const docLinkHtml = 'Like what you see? Visit the ' +\n",
              "            '<a target=\"_blank\" href=https://colab.research.google.com/notebooks/data_table.ipynb>data table notebook</a>'\n",
              "            + ' to learn more about interactive tables.';\n",
              "          element.innerHTML = '';\n",
              "          dataTable['output_type'] = 'display_data';\n",
              "          await google.colab.output.renderOutput(dataTable, element);\n",
              "          const docLink = document.createElement('div');\n",
              "          docLink.innerHTML = docLinkHtml;\n",
              "          element.appendChild(docLink);\n",
              "        }\n",
              "      </script>\n",
              "    </div>\n",
              "  </div>\n",
              "  "
            ]
          },
          "metadata": {},
          "execution_count": 64
        }
      ]
    },
    {
      "cell_type": "code",
      "source": [
        "fig = px.bar(price_highest, x=\"category_name\", y=\"current_price\", text=\"brand_name\", title='Highest price of the brand',width=1200, height=800)\n",
        "fig.show(\"png\")"
      ],
      "metadata": {
        "colab": {
          "base_uri": "https://localhost:8080/",
          "height": 817
        },
        "id": "fNREfUMKYN8X",
        "outputId": "942b5981-95c8-4bc2-cb8e-ea004b0743bb"
      },
      "execution_count": 84,
      "outputs": [
        {
          "output_type": "display_data",
          "data": {
            "image/png": "[encoded data removed]"
          },
          "metadata": {}
        }
      ]
    },
    {
      "cell_type": "markdown",
      "source": [
        "The 5 highest price samples taken in each category, there is a gap in the beauty, home, and jewelry categories"
      ],
      "metadata": {
        "id": "Wdoqred_rssO"
      }
    },
    {
      "cell_type": "markdown",
      "source": [
        "**Finding the most of likes from each brand based on categories and sub categories**"
      ],
      "metadata": {
        "id": "sH16GrOcUVcY"
      }
    },
    {
      "cell_type": "code",
      "source": [
        "# Grouping brand_name and categpry_name\n",
        "total_likes_brand = df_new.groupby(by=[\"brand_name\", \"category_name\", \"subcategory_name\"], dropna=False).sum()[['likes_count']]\n",
        "total_likes_brand = total_likes_brand.reset_index()\n",
        "total_likes_brand\n",
        "\n",
        "#Rename column\n",
        "total_likes_brand.rename(columns = {'likes_count': 'total_likes'}, inplace = True)"
      ],
      "metadata": {
        "id": "JgI063aJ1nfN"
      },
      "execution_count": 66,
      "outputs": []
    },
    {
      "cell_type": "code",
      "source": [
        "total_likes_brand= total_likes_brand[total_likes_brand['total_likes']!=0] #resolve the error message cannot be normalized 'weight sum to zero'\n",
        "\n",
        "fig = px.treemap(total_likes_brand, path=[px.Constant('brand_name'),'brand_name', 'category_name', 'subcategory_name'],\n",
        "                 values='total_likes',\n",
        "                 color= 'total_likes',title='Number of likes on The Brand Name in Each Category', width=1200, height=600)\n",
        "\n",
        "fig.show()"
      ],
      "metadata": {
        "colab": {
          "base_uri": "https://localhost:8080/",
          "height": 617
        },
        "id": "ofgMy1545J1V",
        "outputId": "87f4a722-48f9-4dde-a0aa-76a16e9edead"
      },
      "execution_count": 86,
      "outputs": [
        {
          "output_type": "display_data",
          "data": {
            "image/png": "[encoded data removed]"
          },
          "metadata": {}
        }
      ]
    },
    {
      "cell_type": "markdown",
      "source": [
        "**Note**: For the number of brand_name and categories, the **details** can be **seen only by the size**, but the subcategories_name can be seen from the size and color. I've tried my best to make it consistent in multi-level cases like this, but unfortunately haven't found a solution"
      ],
      "metadata": {
        "id": "4ZFZLkE0aDCU"
      }
    },
    {
      "cell_type": "markdown",
      "metadata": {
        "id": "EVYEbWFcLFm5"
      },
      "source": [
        "## 8. Recommendations"
      ]
    },
    {
      "cell_type": "markdown",
      "source": [
        "1.   Based on the company's total likes, the female category deserves more space on the page (without ruling out other categories as well)\n",
        "\n",
        "2.   Since there is no significant correlation between numerical variables, next step, companies can pay attention to color combinations, designs, etc., which are consumer preferences\n",
        "\n",
        "3.   It seems that the business domain on the NewChicc site is men's and women's fashion (teenagers to adults), this can be seen from the total stock of goods. However, the average discount given is actually the highest for children, even though the proportion stock item is the smallest. Therefore, it is necessary to reconsider the provision of the discount although further investigation is needed regarding the income generated from the discount (again, unfortunately the dataset does not provide this information).\n",
        "\n"
      ],
      "metadata": {
        "id": "ocxlbPQ3M3PV"
      }
    },
    {
      "cell_type": "markdown",
      "metadata": {
        "id": "uKCnqg6VKn8P"
      },
      "source": [
        "## 9. Result - Create the story"
      ]
    },
    {
      "cell_type": "markdown",
      "source": [
        "1.   The categories of women, houses, and men, respectively, constitute the largest proportion of items on the site. However, the average discount given by the three does not produce the same result as in the largest proportion of items. The category of children is the one who ranks first on the average discount and for the largest proportion of items, it takes the last position\n",
        "\n",
        "2.   The results obtained in number 1 are increasingly convincing that there is no correlation between numeric variables.\n",
        "\n",
        "3. The top three number of likes from the category, two of which are from women:\n",
        "  -  ZANZEA : Women\n",
        "  -  O-NEWE : Women\n",
        "  -  ChArmkpR : Men\n",
        "\n",
        "4.   Maybe it can be concluded that female customers visit our site more (unfortunately the dataset does not provide customer profiles, so further analysis is needed)\n",
        "\n",
        "5. The highest price comes from a beauty and the brand name is Fiido"
      ],
      "metadata": {
        "id": "GZlPqYAtNJsa"
      }
    },
    {
      "cell_type": "code",
      "source": [
        ""
      ],
      "metadata": {
        "id": "Cs1Yj7N6NeKy"
      },
      "execution_count": 67,
      "outputs": []
    }
  ]
}